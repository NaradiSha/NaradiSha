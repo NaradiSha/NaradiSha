{
  "cells": [
    {
      "cell_type": "markdown",
      "id": "bd912335-77c7-4d02-af70-15b0cb7adaa3",
      "metadata": {
        "id": "bd912335-77c7-4d02-af70-15b0cb7adaa3"
      },
      "source": [
        "https://colab.research.google.com/github/JunetaeKim/PythonClass/blob/main/week3/Week3.Exercise2.ipynb"
      ]
    },
    {
      "cell_type": "markdown",
      "id": "0f685a94-fb7e-45d4-83d4-cac8fbdd7cf4",
      "metadata": {
        "tags": [],
        "id": "0f685a94-fb7e-45d4-83d4-cac8fbdd7cf4"
      },
      "source": [
        "#### 1. Check if the string s = \"NCC-GCSP\" contains the letter \"GCSP\" using the in keyword."
      ]
    },
    {
      "cell_type": "code",
      "execution_count": null,
      "id": "1005a367-b5b8-46c9-babe-eac0aca1ccc0",
      "metadata": {
        "id": "1005a367-b5b8-46c9-babe-eac0aca1ccc0"
      },
      "outputs": [],
      "source": [
        "s = \"NCC-GCSP\""
      ]
    },
    {
      "cell_type": "code",
      "execution_count": null,
      "id": "3722ff73-d1ee-45c5-a2e1-ed1bc735d02a",
      "metadata": {
        "id": "3722ff73-d1ee-45c5-a2e1-ed1bc735d02a"
      },
      "outputs": [],
      "source": []
    },
    {
      "cell_type": "markdown",
      "id": "8e57f85c-234d-4dd5-81c8-9db84014fc44",
      "metadata": {
        "id": "8e57f85c-234d-4dd5-81c8-9db84014fc44"
      },
      "source": [
        "#### 2. Question: Given the string s = \"Artificial Intelligence\", create a new string with only the first 10 characters. Use slicing."
      ]
    },
    {
      "cell_type": "code",
      "execution_count": null,
      "id": "d06f97a5-c00b-4250-a39b-720c68be3298",
      "metadata": {
        "id": "d06f97a5-c00b-4250-a39b-720c68be3298"
      },
      "outputs": [],
      "source": [
        "s = \"Artificial Intelligence\""
      ]
    },
    {
      "cell_type": "code",
      "execution_count": null,
      "id": "79a2c2e0-12c0-42b2-b045-1fb3651e018f",
      "metadata": {
        "id": "79a2c2e0-12c0-42b2-b045-1fb3651e018f"
      },
      "outputs": [],
      "source": []
    },
    {
      "cell_type": "markdown",
      "id": "021e032f-d8f4-4eb4-bba1-d0feb381d549",
      "metadata": {
        "tags": [],
        "id": "021e032f-d8f4-4eb4-bba1-d0feb381d549"
      },
      "source": [
        "#### 3. Question: Reverse the order of the elements in the list l = [5, 10, 15, 20] without using any built-in functions or methods."
      ]
    },
    {
      "cell_type": "code",
      "execution_count": null,
      "id": "730f59cf-999c-4791-9b1d-ac30f87b7ec5",
      "metadata": {
        "id": "730f59cf-999c-4791-9b1d-ac30f87b7ec5"
      },
      "outputs": [],
      "source": [
        "l = [5, 10, 15, 20]"
      ]
    },
    {
      "cell_type": "code",
      "execution_count": null,
      "id": "b2e8408d-52b8-49d9-b4e7-e77590e38882",
      "metadata": {
        "id": "b2e8408d-52b8-49d9-b4e7-e77590e38882"
      },
      "outputs": [],
      "source": []
    },
    {
      "cell_type": "markdown",
      "id": "e1ffde1b-627e-4f18-b43d-9b249f8e4fa1",
      "metadata": {
        "tags": [],
        "id": "e1ffde1b-627e-4f18-b43d-9b249f8e4fa1"
      },
      "source": [
        "#### 4. Find the sum of the given list of numbers.\n",
        "#### numbers = [1, 2, 3, 4, 5]"
      ]
    },
    {
      "cell_type": "code",
      "execution_count": null,
      "id": "6e85656b-a8a2-4f10-9a08-d6fc293e7984",
      "metadata": {
        "id": "6e85656b-a8a2-4f10-9a08-d6fc293e7984"
      },
      "outputs": [],
      "source": [
        "numbers = [1, 2, 3, 4, 5]"
      ]
    },
    {
      "cell_type": "code",
      "execution_count": null,
      "id": "bdb75e5e-3dca-4b32-90bc-2bd313df6913",
      "metadata": {
        "id": "bdb75e5e-3dca-4b32-90bc-2bd313df6913"
      },
      "outputs": [],
      "source": []
    },
    {
      "cell_type": "markdown",
      "id": "8f358cc3-345d-409c-ae35-ac332bb5b0e1",
      "metadata": {
        "id": "8f358cc3-345d-409c-ae35-ac332bb5b0e1"
      },
      "source": [
        "#### 5. Find the index of the given element in the list.\n",
        "#### students = [\"John\", \"Alice\", \"Bob\", \"Linda\"]\n",
        "#### element = \"Bob\""
      ]
    },
    {
      "cell_type": "code",
      "execution_count": 3,
      "id": "c65f7abc-a432-4410-a3ae-c6a55c7af61d",
      "metadata": {
        "id": "c65f7abc-a432-4410-a3ae-c6a55c7af61d",
        "outputId": "54405dc7-ca46-4dca-94e9-b898c5befd83",
        "colab": {
          "base_uri": "https://localhost:8080/"
        }
      },
      "outputs": [
        {
          "output_type": "stream",
          "name": "stdout",
          "text": [
            "2\n"
          ]
        }
      ],
      "source": [
        "students = [\"John\", \"Alice\", \"Bob\", \"Linda\"]\n",
        "element = \"Bob\"\n",
        "Index_of_Bob = students.index(element)\n",
        "print(Index_of_Bob)\n"
      ]
    },
    {
      "cell_type": "code",
      "execution_count": null,
      "id": "b99ebfad-01ee-4509-bd91-71bf6b764e9e",
      "metadata": {
        "id": "b99ebfad-01ee-4509-bd91-71bf6b764e9e"
      },
      "outputs": [],
      "source": []
    },
    {
      "cell_type": "markdown",
      "id": "30de138b-e1e1-4ca9-a505-e68d3ac5377d",
      "metadata": {
        "id": "30de138b-e1e1-4ca9-a505-e68d3ac5377d"
      },
      "source": [
        "#### 6. Find the minimum and maximum values of the given list of numbers.\n",
        "#### numbers = [1, 2, 3, 4, 5]"
      ]
    },
    {
      "cell_type": "code",
      "execution_count": null,
      "id": "66405178-0aac-46ad-ba06-9705b7fdd885",
      "metadata": {
        "id": "66405178-0aac-46ad-ba06-9705b7fdd885"
      },
      "outputs": [],
      "source": [
        "numbers = [1, 2, 3, 4, 5]"
      ]
    },
    {
      "cell_type": "code",
      "execution_count": null,
      "id": "8bd72847-512a-43e1-bcd0-ad657171b533",
      "metadata": {
        "id": "8bd72847-512a-43e1-bcd0-ad657171b533"
      },
      "outputs": [],
      "source": []
    },
    {
      "cell_type": "markdown",
      "id": "eec79ee0-1bfd-440b-8bcc-b11dd62808d6",
      "metadata": {
        "id": "eec79ee0-1bfd-440b-8bcc-b11dd62808d6"
      },
      "source": [
        "#### 7. Sort the given list of numbers in ascending order.\n",
        "#### numbers = [5, 3, 1, 4, 2]"
      ]
    },
    {
      "cell_type": "code",
      "execution_count": null,
      "id": "84cdf276-d3c1-439f-b6e3-4ffcfd68c3a4",
      "metadata": {
        "id": "84cdf276-d3c1-439f-b6e3-4ffcfd68c3a4"
      },
      "outputs": [],
      "source": [
        "numbers = [5, 3, 1, 4, 2]"
      ]
    },
    {
      "cell_type": "code",
      "execution_count": null,
      "id": "0dd91fc2-6cf4-4d9e-92df-4f2a6c140c76",
      "metadata": {
        "id": "0dd91fc2-6cf4-4d9e-92df-4f2a6c140c76"
      },
      "outputs": [],
      "source": []
    },
    {
      "cell_type": "markdown",
      "id": "a5ac7887-9acb-4323-b647-ee611b1cd7bf",
      "metadata": {
        "id": "a5ac7887-9acb-4323-b647-ee611b1cd7bf"
      },
      "source": [
        "#### 8. Check if the given element exists in the list.\n",
        "#### students = [\"John\", \"Alice\", \"Bob\", \"Linda\"]\n",
        "#### element = \"Linda\""
      ]
    },
    {
      "cell_type": "code",
      "execution_count": null,
      "id": "5a054889-0b86-4a23-8ed4-dd6f9aee9844",
      "metadata": {
        "id": "5a054889-0b86-4a23-8ed4-dd6f9aee9844"
      },
      "outputs": [],
      "source": [
        "students = [\"John\", \"Alice\", \"Bob\", \"Linda\"]\n",
        "element = \"Linda\""
      ]
    },
    {
      "cell_type": "code",
      "execution_count": null,
      "id": "9ec61507-6a59-4620-b69c-b72933b53d58",
      "metadata": {
        "id": "9ec61507-6a59-4620-b69c-b72933b53d58"
      },
      "outputs": [],
      "source": []
    },
    {
      "cell_type": "markdown",
      "id": "bdd5c509-3c8b-437d-97f3-03325f946d6b",
      "metadata": {
        "id": "bdd5c509-3c8b-437d-97f3-03325f946d6b"
      },
      "source": [
        "#### 9. Add the given element to the end of the list.\n",
        "#### students = [\"John\", \"Alice\", \"Bob\", \"Linda\"]\n",
        "#### element = \"Tom\""
      ]
    },
    {
      "cell_type": "code",
      "execution_count": null,
      "id": "27b94bd6-6ee2-446e-bf78-b9c9f2616d0c",
      "metadata": {
        "id": "27b94bd6-6ee2-446e-bf78-b9c9f2616d0c"
      },
      "outputs": [],
      "source": [
        "students = [\"John\", \"Alice\", \"Bob\", \"Linda\"]\n",
        "element = \"Tom\""
      ]
    }
  ],
  "metadata": {
    "kernelspec": {
      "display_name": "Python 3 (ipykernel)",
      "language": "python",
      "name": "python3"
    },
    "language_info": {
      "codemirror_mode": {
        "name": "ipython",
        "version": 3
      },
      "file_extension": ".py",
      "mimetype": "text/x-python",
      "name": "python",
      "nbconvert_exporter": "python",
      "pygments_lexer": "ipython3",
      "version": "3.8.13"
    },
    "colab": {
      "provenance": []
    }
  },
  "nbformat": 4,
  "nbformat_minor": 5
}
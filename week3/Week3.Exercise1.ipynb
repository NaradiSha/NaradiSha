{
  "cells": [
    {
      "cell_type": "markdown",
      "id": "1ae57089-24e5-4de4-bbca-4bf5994f383b",
      "metadata": {
        "id": "1ae57089-24e5-4de4-bbca-4bf5994f383b"
      },
      "source": [
        "https://colab.research.google.com/github/JunetaeKim/PythonClass/blob/main/week3/Week3.Exercise1.ipynb"
      ]
    },
    {
      "cell_type": "markdown",
      "id": "0f685a94-fb7e-45d4-83d4-cac8fbdd7cf4",
      "metadata": {
        "tags": [],
        "id": "0f685a94-fb7e-45d4-83d4-cac8fbdd7cf4"
      },
      "source": [
        "#### 1. Create two strings, one containing your first name and the other containing your last name.\n",
        "#### Then, concatenate the two strings with a space in between to form your full name. Print the full name."
      ]
    },
    {
      "cell_type": "code",
      "execution_count": 1,
      "id": "c28e93e9-fdfe-4d63-aa88-d6e1c4559a9a",
      "metadata": {
        "id": "c28e93e9-fdfe-4d63-aa88-d6e1c4559a9a"
      },
      "outputs": [],
      "source": [
        "first_name = \"Lionel\"\n",
        "last_name = \"Messi\""
      ]
    },
    {
      "cell_type": "code",
      "execution_count": 5,
      "id": "249f5011-dfb1-4755-99c1-0c206b0024d2",
      "metadata": {
        "id": "249f5011-dfb1-4755-99c1-0c206b0024d2",
        "outputId": "475669cb-a76b-4f1b-864f-6141a83e3b97",
        "colab": {
          "base_uri": "https://localhost:8080/"
        }
      },
      "outputs": [
        {
          "output_type": "stream",
          "name": "stdout",
          "text": [
            "Lionel Messi\n"
          ]
        }
      ],
      "source": [
        "Full_name = first_name + \" \" + last_name\n",
        "print(Full_name)"
      ]
    },
    {
      "cell_type": "markdown",
      "id": "464ae573-32a8-4419-b3cd-4c5619ed1265",
      "metadata": {
        "id": "464ae573-32a8-4419-b3cd-4c5619ed1265"
      },
      "source": [
        "#### 2. Calculate the length of the full name from the previous exercise and print the result."
      ]
    },
    {
      "cell_type": "code",
      "execution_count": 7,
      "id": "932d370d-45a0-432d-b14c-713964603c7b",
      "metadata": {
        "id": "932d370d-45a0-432d-b14c-713964603c7b",
        "outputId": "d509c803-e040-4b1b-a85d-4f181670ebfa",
        "colab": {
          "base_uri": "https://localhost:8080/"
        }
      },
      "outputs": [
        {
          "output_type": "stream",
          "name": "stdout",
          "text": [
            "Lionel Messi\n",
            "12\n"
          ]
        }
      ],
      "source": [
        "first_name = \"Lionel\"\n",
        "last_name = \"Messi\"\n",
        "Full_name = first_name + \" \" + last_name\n",
        "print(Full_name)\n",
        "\n",
        "length_name = len(Full_name)\n",
        "print(length_name)"
      ]
    },
    {
      "cell_type": "markdown",
      "id": "36b61823-6914-4c57-9387-981716cb71fc",
      "metadata": {
        "id": "36b61823-6914-4c57-9387-981716cb71fc"
      },
      "source": [
        "#### 3. Extract the first three characters of your first name and the last three characters of your last name, and concatenate them to create a nickname. Print the nickname."
      ]
    },
    {
      "cell_type": "code",
      "execution_count": 8,
      "id": "f8e15db3-4acf-4e86-8ef1-a33476ddffcb",
      "metadata": {
        "id": "f8e15db3-4acf-4e86-8ef1-a33476ddffcb",
        "outputId": "61e2ebb8-ffc3-4fbf-c32e-1206b7389604",
        "colab": {
          "base_uri": "https://localhost:8080/"
        }
      },
      "outputs": [
        {
          "output_type": "stream",
          "name": "stdout",
          "text": [
            "LioMe\n"
          ]
        }
      ],
      "source": [
        "first_name = \"Lionel\"\n",
        "last_name = \"Messi\"\n",
        "first_three_letters = first_name[:3]\n",
        "last_three_letters = last_name[:-3]\n",
        "nickname = first_three_letters + last_three_letters\n",
        "print(nickname)\n"
      ]
    },
    {
      "cell_type": "markdown",
      "id": "d5780450-84b3-494e-a4e9-1fc1c2395abe",
      "metadata": {
        "id": "d5780450-84b3-494e-a4e9-1fc1c2395abe"
      },
      "source": [
        "#### 4. Check if your first name is longer than your last name. Print True if it is, and False otherwise."
      ]
    },
    {
      "cell_type": "code",
      "execution_count": 9,
      "id": "cc3ecbb6-899a-4598-aa60-169bb1ccad33",
      "metadata": {
        "id": "cc3ecbb6-899a-4598-aa60-169bb1ccad33",
        "outputId": "558e50cb-e2e1-488c-8de6-8c4962cef06f",
        "colab": {
          "base_uri": "https://localhost:8080/"
        }
      },
      "outputs": [
        {
          "output_type": "stream",
          "name": "stdout",
          "text": [
            "True\n"
          ]
        }
      ],
      "source": [
        "first_name = \"Lionel\"\n",
        "last_name = \"Messi\"\n",
        "is_first_name_longer = len(first_name) > len(last_name)\n",
        "print(is_first_name_longer)"
      ]
    },
    {
      "cell_type": "markdown",
      "id": "647e17dc-53cf-434f-ba08-b943e8f164f6",
      "metadata": {
        "id": "647e17dc-53cf-434f-ba08-b943e8f164f6"
      },
      "source": [
        "#### 5. Check if the length of your full name is divisible by 2 (i.e., if it's an even length). Print True if it is, and False otherwise."
      ]
    },
    {
      "cell_type": "code",
      "execution_count": 13,
      "id": "1e18a2d4-5a4d-4fbb-8b99-aadbe7e1510c",
      "metadata": {
        "id": "1e18a2d4-5a4d-4fbb-8b99-aadbe7e1510c",
        "outputId": "f127bc79-6c29-4246-887c-15f49e59293f",
        "colab": {
          "base_uri": "https://localhost:8080/"
        }
      },
      "outputs": [
        {
          "output_type": "stream",
          "name": "stdout",
          "text": [
            "True\n"
          ]
        }
      ],
      "source": [
        "first_name = \"Lionel\"\n",
        "last_name = \"Messi\"\n",
        "Full_name = first_name + \" \" + last_name\n",
        "\n",
        "full_name_length = len(Full_name)\n",
        "is_even_length = full_name_length % 2 == 0\n",
        "print(is_even_length)"
      ]
    },
    {
      "cell_type": "code",
      "execution_count": null,
      "id": "1eb045e5-1b63-46eb-a5e7-cf40e77aff3c",
      "metadata": {
        "id": "1eb045e5-1b63-46eb-a5e7-cf40e77aff3c"
      },
      "outputs": [],
      "source": []
    },
    {
      "cell_type": "markdown",
      "id": "35fcbc94-ce84-4986-9978-f7f063bf694b",
      "metadata": {
        "tags": [],
        "id": "35fcbc94-ce84-4986-9978-f7f063bf694b"
      },
      "source": [
        "#### 6. Create two variables, one containing a string of five uppercase letters and the other containing a string of five lowercase letters.\n",
        "#### Check if the uppercase string comes before the lowercase string in alphabetical order. Print True if it does, and False otherwise."
      ]
    },
    {
      "cell_type": "code",
      "execution_count": null,
      "id": "f6fec19e-2098-4a83-a848-fbed060c5ef3",
      "metadata": {
        "id": "f6fec19e-2098-4a83-a848-fbed060c5ef3"
      },
      "outputs": [],
      "source": [
        "uppercase_letters = \"ABCDE\"\n",
        "lowercase_letters = \"abcde\""
      ]
    }
  ],
  "metadata": {
    "kernelspec": {
      "display_name": "Python 3 (ipykernel)",
      "language": "python",
      "name": "python3"
    },
    "language_info": {
      "codemirror_mode": {
        "name": "ipython",
        "version": 3
      },
      "file_extension": ".py",
      "mimetype": "text/x-python",
      "name": "python",
      "nbconvert_exporter": "python",
      "pygments_lexer": "ipython3",
      "version": "3.8.13"
    },
    "colab": {
      "provenance": []
    }
  },
  "nbformat": 4,
  "nbformat_minor": 5
}
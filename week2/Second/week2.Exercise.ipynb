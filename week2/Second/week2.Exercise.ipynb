{
  "cells": [
    {
      "cell_type": "markdown",
      "metadata": {
        "id": "E1m_sIC1G8vZ"
      },
      "source": [
        "#### https://colab.research.google.com/github/JunetaeKim/PythonClass/blob/main/week2/Second/week2.Exercise.ipynb"
      ]
    },
    {
      "cell_type": "markdown",
      "metadata": {
        "id": "Ay5cmGH4G8vb"
      },
      "source": [
        "#### 1. Convert a string containing a floating-point number to an integer and print the result."
      ]
    },
    {
      "cell_type": "code",
      "execution_count": null,
      "metadata": {
        "id": "VNvRr49LG8vc"
      },
      "outputs": [],
      "source": []
    },
    {
      "cell_type": "markdown",
      "metadata": {
        "id": "iQu6C1imG8vc"
      },
      "source": [
        "#### 2. Generate a random number between 1 and 100 and print the result."
      ]
    },
    {
      "cell_type": "code",
      "execution_count": null,
      "metadata": {
        "id": "232RgHzSG8vc"
      },
      "outputs": [],
      "source": []
    },
    {
      "cell_type": "markdown",
      "metadata": {
        "id": "FtvTpP4DG8vc"
      },
      "source": [
        "#### 3. Calculate the square root of a given number using the math module and print the result."
      ]
    },
    {
      "cell_type": "code",
      "execution_count": 1,
      "metadata": {
        "id": "ozfqbc-EG8vd",
        "outputId": "96174a9b-8852-4da0-fae9-b921b40b72ab",
        "colab": {
          "base_uri": "https://localhost:8080/"
        }
      },
      "outputs": [
        {
          "output_type": "stream",
          "name": "stdout",
          "text": [
            "5.0\n"
          ]
        }
      ],
      "source": [
        "import math\n",
        "\n",
        "square_root = math.sqrt(25)\n",
        "print(square_root)"
      ]
    },
    {
      "cell_type": "markdown",
      "metadata": {
        "id": "9XSzqbWWG8vd"
      },
      "source": [
        "#### 4. Declare a variable containing a list of integers and calculate the sum of the list elements."
      ]
    },
    {
      "cell_type": "code",
      "execution_count": null,
      "metadata": {
        "id": "XPI7NKl1G8vd"
      },
      "outputs": [],
      "source": []
    },
    {
      "cell_type": "markdown",
      "metadata": {
        "id": "MjVSUrXzG8vd"
      },
      "source": [
        "#### 5. Convert a temperature value from Fahrenheit to Celsius and print the result."
      ]
    },
    {
      "cell_type": "code",
      "execution_count": null,
      "metadata": {
        "id": "GKqEM6vLG8vd"
      },
      "outputs": [],
      "source": []
    },
    {
      "cell_type": "markdown",
      "metadata": {
        "tags": [],
        "id": "hpFqWRUeG8vd"
      },
      "source": [
        "#### 6. Calculate the area of a circle with a given radius using the math module and print the result."
      ]
    },
    {
      "cell_type": "code",
      "execution_count": null,
      "metadata": {
        "id": "EzNn9IdUG8vd"
      },
      "outputs": [],
      "source": []
    }
  ],
  "metadata": {
    "kernelspec": {
      "display_name": "Python 3 (ipykernel)",
      "language": "python",
      "name": "python3"
    },
    "language_info": {
      "codemirror_mode": {
        "name": "ipython",
        "version": 3
      },
      "file_extension": ".py",
      "mimetype": "text/x-python",
      "name": "python",
      "nbconvert_exporter": "python",
      "pygments_lexer": "ipython3",
      "version": "3.8.13"
    },
    "colab": {
      "provenance": []
    }
  },
  "nbformat": 4,
  "nbformat_minor": 0
}
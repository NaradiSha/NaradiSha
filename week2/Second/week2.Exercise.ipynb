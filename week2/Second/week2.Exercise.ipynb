{
  "cells": [
    {
      "cell_type": "markdown",
      "metadata": {
        "id": "Wxz8ZeNrgOns"
      },
      "source": [
        "#### https://colab.research.google.com/github/JunetaeKim/PythonClass/blob/main/week2/Second/week2.Exercise.ipynb"
      ]
    },
    {
      "cell_type": "markdown",
      "metadata": {
        "id": "ayYGEqP4gOnu"
      },
      "source": [
        "#### 1. Convert a string containing a floating-point number to an integer and print the result."
      ]
    },
    {
      "cell_type": "code",
      "execution_count": 5,
      "metadata": {
        "id": "7Su1cr6ggOnu",
        "outputId": "964b8852-237f-4804-a571-31924fdd316e",
        "colab": {
          "base_uri": "https://localhost:8080/"
        }
      },
      "outputs": [
        {
          "output_type": "stream",
          "name": "stdout",
          "text": [
            "3\n"
          ]
        }
      ],
      "source": [
        "number_integer = int(float('3.12'))\n",
        "print(number_integer)"
      ]
    },
    {
      "cell_type": "markdown",
      "metadata": {
        "id": "lUSwh13PgOnv"
      },
      "source": [
        "#### 2. Generate a random number between 1 and 100 and print the result."
      ]
    },
    {
      "cell_type": "code",
      "source": [
        "random_integer = random.randint(1, 100)\n",
        "print(random_integer)"
      ],
      "metadata": {
        "id": "4A4a1UlCiFOO",
        "outputId": "ba00cedc-1fc1-431a-e1fc-f3d8c1dce98e",
        "colab": {
          "base_uri": "https://localhost:8080/"
        }
      },
      "execution_count": 10,
      "outputs": [
        {
          "output_type": "stream",
          "name": "stdout",
          "text": [
            "90\n"
          ]
        }
      ]
    },
    {
      "cell_type": "markdown",
      "source": [],
      "metadata": {
        "id": "3iUH0T49iD3r"
      }
    },
    {
      "cell_type": "markdown",
      "metadata": {
        "id": "Vh40TC8IgOnv"
      },
      "source": [
        "#### 3. Calculate the square root of a given number using the math module and print the result."
      ]
    },
    {
      "cell_type": "code",
      "source": [
        "square_root = math.sqrt(25)\n",
        "print(square_root)\n"
      ],
      "metadata": {
        "id": "BqTrr1Xbi3Vy",
        "outputId": "fc3f888d-ed3b-41f6-a90f-8e300798cecc",
        "colab": {
          "base_uri": "https://localhost:8080/",
          "height": 158
        }
      },
      "execution_count": 14,
      "outputs": [
        {
          "output_type": "error",
          "ename": "NameError",
          "evalue": "name 'math' is not defined",
          "traceback": [
            "\u001b[0;31m---------------------------------------------------------------------------\u001b[0m",
            "\u001b[0;31mNameError\u001b[0m                                 Traceback (most recent call last)",
            "\u001b[0;32m<ipython-input-14-72452881>\u001b[0m in \u001b[0;36m<cell line: 0>\u001b[0;34m()\u001b[0m\n\u001b[0;32m----> 1\u001b[0;31m \u001b[0msquare_root\u001b[0m \u001b[0;34m=\u001b[0m \u001b[0mmath\u001b[0m\u001b[0;34m.\u001b[0m\u001b[0msqrt\u001b[0m\u001b[0;34m(\u001b[0m\u001b[0;36m25\u001b[0m\u001b[0;34m)\u001b[0m\u001b[0;34m\u001b[0m\u001b[0;34m\u001b[0m\u001b[0m\n\u001b[0m\u001b[1;32m      2\u001b[0m \u001b[0mprint\u001b[0m\u001b[0;34m(\u001b[0m\u001b[0msquare_root\u001b[0m\u001b[0;34m)\u001b[0m\u001b[0;34m\u001b[0m\u001b[0;34m\u001b[0m\u001b[0m\n",
            "\u001b[0;31mNameError\u001b[0m: name 'math' is not defined"
          ]
        }
      ]
    },
    {
      "cell_type": "markdown",
      "metadata": {
        "id": "b5vNr4VngOnv"
      },
      "source": [
        "#### 4. Declare a variable containing a list of integers and calculate the sum of the list elements."
      ]
    },
    {
      "cell_type": "code",
      "execution_count": 15,
      "metadata": {
        "id": "qI0o6mLtgOnw",
        "outputId": "9e0d6518-8286-4e19-c42b-e49a9aadd25f",
        "colab": {
          "base_uri": "https://localhost:8080/"
        }
      },
      "outputs": [
        {
          "output_type": "stream",
          "name": "stdout",
          "text": [
            "The sum of the list elements is: 150\n"
          ]
        }
      ],
      "source": [
        "# Declare a list of integers\n",
        "numbers = [10, 20, 30, 40, 50]\n",
        "\n",
        "# Calculate the sum using the built-in sum() function\n",
        "total = sum(numbers)\n",
        "\n",
        "# Print the result\n",
        "print(f\"The sum of the list elements is: {total}\")\n"
      ]
    },
    {
      "cell_type": "code",
      "source": [],
      "metadata": {
        "id": "nsT4Prt4nyfq"
      },
      "execution_count": null,
      "outputs": []
    },
    {
      "cell_type": "markdown",
      "metadata": {
        "id": "HW7hbyEZgOnw"
      },
      "source": [
        "#### 5. Convert a temperature value from Fahrenheit to Celsius and print the result."
      ]
    },
    {
      "cell_type": "code",
      "execution_count": 16,
      "metadata": {
        "id": "N3Qjn26IgOnw",
        "outputId": "f5bf02a4-334d-4933-b0c0-6f307944acb7",
        "colab": {
          "base_uri": "https://localhost:8080/"
        }
      },
      "outputs": [
        {
          "output_type": "stream",
          "name": "stdout",
          "text": [
            "98.6°F is equal to 37.00°C\n"
          ]
        }
      ],
      "source": [
        "# Fahrenheit temperature\n",
        "fahrenheit = 98.6\n",
        "\n",
        "# Convert to Celsius using the formula: (F - 32) * 5/9\n",
        "celsius = (fahrenheit - 32) * 5 / 9\n",
        "\n",
        "# Print the result\n",
        "print(f\"{fahrenheit}°F is equal to {celsius:.2f}°C\")\n"
      ]
    },
    {
      "cell_type": "markdown",
      "metadata": {
        "tags": [],
        "id": "-qOFOWSGgOnw"
      },
      "source": [
        "#### 6. Calculate the area of a circle with a given radius using the math module and print the result."
      ]
    },
    {
      "cell_type": "code",
      "execution_count": 17,
      "metadata": {
        "id": "V8Vh-essgOnw",
        "outputId": "49a43fa8-4c1b-4dd8-ee65-beb66fb4629f",
        "colab": {
          "base_uri": "https://localhost:8080/"
        }
      },
      "outputs": [
        {
          "output_type": "stream",
          "name": "stdout",
          "text": [
            "The area of a circle with radius 5 is: 78.54\n"
          ]
        }
      ],
      "source": [
        "import math\n",
        "\n",
        "# Given radius\n",
        "radius = 5\n",
        "\n",
        "# Calculate area using the formula: area = π * r^2\n",
        "area = math.pi * radius ** 2\n",
        "\n",
        "# Print the result\n",
        "print(f\"The area of a circle with radius {radius} is: {area:.2f}\")\n"
      ]
    }
  ],
  "metadata": {
    "kernelspec": {
      "display_name": "Python 3 (ipykernel)",
      "language": "python",
      "name": "python3"
    },
    "language_info": {
      "codemirror_mode": {
        "name": "ipython",
        "version": 3
      },
      "file_extension": ".py",
      "mimetype": "text/x-python",
      "name": "python",
      "nbconvert_exporter": "python",
      "pygments_lexer": "ipython3",
      "version": "3.8.13"
    },
    "colab": {
      "provenance": []
    }
  },
  "nbformat": 4,
  "nbformat_minor": 0
}
{
  "cells": [
    {
      "cell_type": "markdown",
      "id": "0ba8a3ac-5ec5-4b8c-b748-fc3572b30639",
      "metadata": {
        "tags": [],
        "id": "0ba8a3ac-5ec5-4b8c-b748-fc3572b30639"
      },
      "source": [
        "## Objective: To learn and understand type conversion and working with random numbers in Python <br>\n",
        "https://colab.research.google.com/github/JunetaeKim/PythonClass/blob/main/week2/Second/Week2.4.ipynb\n",
        "### Outline:\n",
        "\n",
        "#### ① Type Conversion\n",
        "#### ② The Random Module\n",
        "#### ③ Generating Random Integers\n",
        "#### ④ Generating Random Floats\n",
        "#### ⑤ Example: Using Type Conversion and Random Numbers in a Python Script"
      ]
    },
    {
      "cell_type": "code",
      "execution_count": null,
      "id": "19672199-2b23-4337-ae31-48e7795c9e8e",
      "metadata": {
        "id": "19672199-2b23-4337-ae31-48e7795c9e8e"
      },
      "outputs": [],
      "source": []
    },
    {
      "cell_type": "markdown",
      "id": "721b1646-eb51-47e3-823d-d0064617bf71",
      "metadata": {
        "tags": [],
        "id": "721b1646-eb51-47e3-823d-d0064617bf71"
      },
      "source": [
        "### 1. Type Conversion <br>\n",
        "#### Type conversion is the process of converting a value from one data type to another.\n",
        "#### Python provides built-in functions for type conversion:\n",
        "\n",
        "#### º int(): Convert to an integer\n",
        "#### º float(): Convert to a float\n",
        "#### º str(): Convert to a string\n",
        "#### º list(): Convert to a list\n",
        "#### º tuple(): Convert to a tuple\n",
        "#### º set(): Convert to a set"
      ]
    },
    {
      "cell_type": "code",
      "execution_count": null,
      "id": "6cafb8d8-7f47-4ea7-9e3c-7771a73149e7",
      "metadata": {
        "id": "6cafb8d8-7f47-4ea7-9e3c-7771a73149e7"
      },
      "outputs": [],
      "source": [
        "num_string = \"123\"\n",
        "num_integer = int(num_string)\n",
        "num_float = float(num_string)"
      ]
    },
    {
      "cell_type": "code",
      "execution_count": null,
      "id": "77780ac4-7fcb-40c1-90b9-31f73624e140",
      "metadata": {
        "id": "77780ac4-7fcb-40c1-90b9-31f73624e140"
      },
      "outputs": [],
      "source": []
    },
    {
      "cell_type": "markdown",
      "id": "14bbac65-1d10-4697-be7e-afb4e9ffd602",
      "metadata": {
        "id": "14bbac65-1d10-4697-be7e-afb4e9ffd602"
      },
      "source": [
        "### 2. The Random Module\n",
        "#### Python's built-in random module provides functions for generating random numbers and working with random data.\n",
        "#### Some commonly used functions include:\n",
        "\n",
        "#### º random.randint(a, b): Generate a random integer between a and b (inclusive)\n",
        "#### º random.random(): Generate a random float between 0 and 1 (0 <= x < 1)\n",
        "#### º random.uniform(a, b): Generate a random float between a and b (a <= x <= b)\n",
        "#### º random.choice(seq): Choose a random element from a sequence (e.g., list, tuple)\n",
        "#### º random.shuffle(seq): Shuffle the elements of a mutable sequence (e.g., list) in place"
      ]
    },
    {
      "cell_type": "code",
      "execution_count": 7,
      "id": "c938be24-4530-4c26-8473-0f174561e145",
      "metadata": {
        "id": "c938be24-4530-4c26-8473-0f174561e145",
        "outputId": "1c66fe6b-4ca6-457c-ce80-8d6373b8d6f4",
        "colab": {
          "base_uri": "https://localhost:8080/"
        }
      },
      "outputs": [
        {
          "output_type": "stream",
          "name": "stdout",
          "text": [
            "95\n",
            "0.6829440667845175\n",
            "9.133553937505866\n"
          ]
        }
      ],
      "source": [
        "import random\n",
        "\n",
        "random_integer = random.randint(1, 100)\n",
        "random_float = random.random()\n",
        "random_uniform = random.uniform(1, 10)\n",
        "\n",
        "print(random_integer)\n",
        "print(random_float)\n",
        "print(random_uniform)"
      ]
    },
    {
      "cell_type": "code",
      "execution_count": null,
      "id": "cd2349e9-f8b8-4460-a698-608c5b2de342",
      "metadata": {
        "id": "cd2349e9-f8b8-4460-a698-608c5b2de342"
      },
      "outputs": [],
      "source": []
    },
    {
      "cell_type": "markdown",
      "id": "afb6098f-501d-4dfd-938d-cfd92a1685dd",
      "metadata": {
        "tags": [],
        "id": "afb6098f-501d-4dfd-938d-cfd92a1685dd"
      },
      "source": [
        "### 3. Generating Random Integers\n",
        "#### To generate random integers, use the random.randint(a, b) function:"
      ]
    },
    {
      "cell_type": "code",
      "execution_count": null,
      "id": "2fc525aa-7f1e-4d96-aac7-6a062b0f3f34",
      "metadata": {
        "id": "2fc525aa-7f1e-4d96-aac7-6a062b0f3f34"
      },
      "outputs": [],
      "source": [
        "import random\n",
        "\n",
        "random_integer = random.randint(1, 6)  # Simulate a 6-sided die roll"
      ]
    },
    {
      "cell_type": "code",
      "execution_count": null,
      "id": "967752bc-0e91-45f4-be9d-9c97412ad85c",
      "metadata": {
        "id": "967752bc-0e91-45f4-be9d-9c97412ad85c"
      },
      "outputs": [],
      "source": []
    },
    {
      "cell_type": "markdown",
      "id": "5db7968e-d2f8-4855-b72f-11acde8b60fe",
      "metadata": {
        "tags": [],
        "id": "5db7968e-d2f8-4855-b72f-11acde8b60fe"
      },
      "source": [
        "### 4. Generating Random Floats\n",
        "#### To generate random floats, use the random.random() or random.uniform(a, b) function:"
      ]
    },
    {
      "cell_type": "code",
      "execution_count": null,
      "id": "f0c87086-203a-4bf3-8dbc-14ebc2ea03be",
      "metadata": {
        "id": "f0c87086-203a-4bf3-8dbc-14ebc2ea03be"
      },
      "outputs": [],
      "source": [
        "import random\n",
        "\n",
        "random_float = random.random()  # Random float between 0 and not include 1\n",
        "random_uniform = random.uniform(1, 10)  # Random float between include both 1 and 10"
      ]
    },
    {
      "cell_type": "code",
      "execution_count": null,
      "id": "432494b4-0178-4989-944e-0d17bb3e860a",
      "metadata": {
        "id": "432494b4-0178-4989-944e-0d17bb3e860a"
      },
      "outputs": [],
      "source": []
    },
    {
      "cell_type": "markdown",
      "id": "ffa2e811-21bb-4df5-9e56-2a04e5d8239a",
      "metadata": {
        "tags": [],
        "id": "ffa2e811-21bb-4df5-9e56-2a04e5d8239a"
      },
      "source": [
        "### 5. Example: Using Type Conversion and Random Numbers in a Python Script"
      ]
    },
    {
      "cell_type": "code",
      "execution_count": 17,
      "id": "f3089b4e-ccef-4693-a390-14f3511d4bad",
      "metadata": {
        "id": "f3089b4e-ccef-4693-a390-14f3511d4bad",
        "outputId": "3d8d3daa-ad2f-46fc-c131-5709883f58cb",
        "colab": {
          "base_uri": "https://localhost:8080/"
        }
      },
      "outputs": [
        {
          "output_type": "stream",
          "name": "stdout",
          "text": [
            "Rolling a 6-sided die: 3\n"
          ]
        }
      ],
      "source": [
        "import random\n",
        "\n",
        "# This script demonstrates the usage of type conversion and random numbers in Python\n",
        "\n",
        "# Variable assignment\n",
        "die_sides = \"6\"  # Assign the string \"6\" to the variable 'die_sides'\n",
        "\n",
        "# Type conversion\n",
        "die_sides_int = int(die_sides)  # Convert the string 'die_sides' to an integer\n",
        "\n",
        "# Generate a random die roll\n",
        "die_roll = random.randint(1, die_sides_int)  # Generate a random integer between 1 and 'die_sides_int'\n",
        "\n",
        "# Print the die roll\n",
        "print(f\"Rolling a {die_sides_int}-sided die: {die_roll}\")"
      ]
    },
    {
      "cell_type": "markdown",
      "id": "f121e28a-0887-4257-a62a-0f4ab72083f0",
      "metadata": {
        "id": "f121e28a-0887-4257-a62a-0f4ab72083f0"
      },
      "source": [
        "#### In this script, we've used type conversion to convert a string representing the number of die sides to an integer.\n",
        "#### We've also used the random module to generate a random die roll within the specified range.\n",
        "#### Finally, we print the result of the die roll."
      ]
    }
  ],
  "metadata": {
    "kernelspec": {
      "display_name": "Python 3 (ipykernel)",
      "language": "python",
      "name": "python3"
    },
    "language_info": {
      "codemirror_mode": {
        "name": "ipython",
        "version": 3
      },
      "file_extension": ".py",
      "mimetype": "text/x-python",
      "name": "python",
      "nbconvert_exporter": "python",
      "pygments_lexer": "ipython3",
      "version": "3.8.13"
    },
    "colab": {
      "provenance": []
    }
  },
  "nbformat": 4,
  "nbformat_minor": 5
}
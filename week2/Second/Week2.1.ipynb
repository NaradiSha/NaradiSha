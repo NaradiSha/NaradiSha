{
  "cells": [
    {
      "cell_type": "markdown",
      "id": "1360ca20-de0b-4126-82a7-83af81fe1d39",
      "metadata": {
        "id": "1360ca20-de0b-4126-82a7-83af81fe1d39"
      },
      "source": [
        "## Objective: To learn and understand the usage of indentation and comments in Python</br>\n",
        "https://colab.research.google.com/github/JunetaeKim/PythonClass/blob/main/week2/Second/Week2.1.ipynb#enroll-beta\n",
        "\n",
        "### Outline:\n",
        "#### ① Introduction to Indentation\n",
        "#### ② Introduction to Comments\n",
        "#### ③ Inline Comments\n",
        "#### ④ Multiline Comments\n",
        "#### ⑤ Example: Using Indentation and Comments in a Python Script"
      ]
    },
    {
      "cell_type": "code",
      "execution_count": null,
      "id": "68cdfb60-7f7b-4806-8707-2588079788e9",
      "metadata": {
        "id": "68cdfb60-7f7b-4806-8707-2588079788e9"
      },
      "outputs": [],
      "source": []
    },
    {
      "cell_type": "markdown",
      "id": "d91a7478-156b-4660-ad95-ecb400a58bf3",
      "metadata": {
        "tags": [],
        "id": "d91a7478-156b-4660-ad95-ecb400a58bf3"
      },
      "source": [
        "### 1. Introduction to Indentation\n",
        "#### In Python, indentation is used to define the structure of the code.\n",
        "#### Instead of using braces ({}) like in other programming languages, Python uses whitespace to group statements into blocks.\n",
        "#### The standard indentation is four spaces, although you can use any number of spaces or tabs, as long as it's consistent within the same block.\n",
        "\n",
        "# ERROR _ expected an indented block after 'if' statement on line 3.  \n"
      ]
    },
    {
      "cell_type": "code",
      "execution_count": 1,
      "id": "0ff0f66e-263b-4b9a-bf64-6d42854e8889",
      "metadata": {
        "id": "0ff0f66e-263b-4b9a-bf64-6d42854e8889",
        "outputId": "ed175700-eafd-4801-9931-3e79ada70a03",
        "colab": {
          "base_uri": "https://localhost:8080/"
        }
      },
      "outputs": [
        {
          "output_type": "execute_result",
          "data": {
            "text/plain": [
              "2"
            ]
          },
          "metadata": {},
          "execution_count": 1
        }
      ],
      "source": [
        "1+1"
      ]
    },
    {
      "cell_type": "code",
      "execution_count": 12,
      "id": "a4b44c8c-fccb-4048-b77b-2648040b455b",
      "metadata": {
        "id": "a4b44c8c-fccb-4048-b77b-2648040b455b",
        "outputId": "6cf454a1-aa3d-4fbc-d112-46e00f8d4387",
        "colab": {
          "base_uri": "https://localhost:8080/"
        }
      },
      "outputs": [
        {
          "output_type": "execute_result",
          "data": {
            "text/plain": [
              "4"
            ]
          },
          "metadata": {},
          "execution_count": 12
        }
      ],
      "source": [
        " 2+2"
      ]
    },
    {
      "cell_type": "code",
      "execution_count": 15,
      "id": "f35ed233-ab5d-403b-8808-f45e1d29a3a2",
      "metadata": {
        "id": "f35ed233-ab5d-403b-8808-f45e1d29a3a2",
        "outputId": "a79511de-9138-4fae-f1c8-f3b9b169ab0a",
        "colab": {
          "base_uri": "https://localhost:8080/"
        }
      },
      "outputs": [
        {
          "output_type": "stream",
          "name": "stdout",
          "text": [
            "2\n",
            "4\n"
          ]
        }
      ],
      "source": [
        " print(1+1)\n",
        " print(2+2)"
      ]
    },
    {
      "cell_type": "code",
      "execution_count": 21,
      "id": "901ebbd1-61a7-4965-aa1d-2d72b4a1c5cc",
      "metadata": {
        "id": "901ebbd1-61a7-4965-aa1d-2d72b4a1c5cc",
        "outputId": "cfc19c04-7a4d-463b-d6dd-5aa104637166",
        "colab": {
          "base_uri": "https://localhost:8080/"
        }
      },
      "outputs": [
        {
          "output_type": "stream",
          "name": "stdout",
          "text": [
            "x is positive\n"
          ]
        }
      ],
      "source": [
        "x = 1\n",
        "\n",
        "if x > 0:\n",
        "    print(\"x is positive\")\n",
        "else:\n",
        "    print(\"x is non-positive\")"
      ]
    },
    {
      "cell_type": "code",
      "execution_count": 6,
      "id": "20847294-e9ce-44dc-b286-44a500bf3740",
      "metadata": {
        "id": "20847294-e9ce-44dc-b286-44a500bf3740"
      },
      "outputs": [],
      "source": [
        "def greet():\n",
        "  print(\"Hello\")\n",
        "  print(\"Welcome\")  # Both lines indented with 4 spaces # example from me\n"
      ]
    },
    {
      "cell_type": "code",
      "source": [
        "def greet():\n",
        "    print(\"Hello\")\n",
        "\tprint(\"Welcome\")  # This line uses a **tab**, not 4 spaces # example from me\n"
      ],
      "metadata": {
        "id": "MWQVtBXTtQo-",
        "outputId": "e15ce04a-056c-4c61-c1d9-09d5017d3b4d",
        "colab": {
          "base_uri": "https://localhost:8080/",
          "height": 106
        }
      },
      "id": "MWQVtBXTtQo-",
      "execution_count": 7,
      "outputs": [
        {
          "output_type": "error",
          "ename": "TabError",
          "evalue": "inconsistent use of tabs and spaces in indentation (<ipython-input-7-2144469593>, line 3)",
          "traceback": [
            "\u001b[0;36m  File \u001b[0;32m\"<ipython-input-7-2144469593>\"\u001b[0;36m, line \u001b[0;32m3\u001b[0m\n\u001b[0;31m    print(\"Welcome\")  # This line uses a **tab**, not 4 spaces\u001b[0m\n\u001b[0m    ^\u001b[0m\n\u001b[0;31mTabError\u001b[0m\u001b[0;31m:\u001b[0m inconsistent use of tabs and spaces in indentation\n"
          ]
        }
      ]
    },
    {
      "cell_type": "markdown",
      "id": "ea621ec6-d93a-4a23-befc-25d48e5ff39d",
      "metadata": {
        "tags": [],
        "id": "ea621ec6-d93a-4a23-befc-25d48e5ff39d"
      },
      "source": [
        "### 2. Introduction to Comments\n",
        "#### Comments are used to provide additional information or explanations about the code.\n",
        "#### In Python, comments start with the hash (#) symbol, and anything after the hash symbol on the same line is considered a comment and is ignored by the Python interpreter."
      ]
    },
    {
      "cell_type": "code",
      "execution_count": null,
      "id": "c91bf074-9a7e-422f-8f9f-62b56ad166ee",
      "metadata": {
        "id": "c91bf074-9a7e-422f-8f9f-62b56ad166ee"
      },
      "outputs": [],
      "source": [
        "# This is a single-line comment"
      ]
    },
    {
      "cell_type": "code",
      "execution_count": null,
      "id": "eff269be-1fd5-45f9-9697-1349cba9429a",
      "metadata": {
        "id": "eff269be-1fd5-45f9-9697-1349cba9429a"
      },
      "outputs": [],
      "source": []
    },
    {
      "cell_type": "markdown",
      "id": "4e9997f7-ccde-419c-863d-58a631b7c244",
      "metadata": {
        "tags": [],
        "id": "4e9997f7-ccde-419c-863d-58a631b7c244"
      },
      "source": [
        "### 3. Inline Comments\n",
        "#### Inline comments are placed on the same line as the code, after the code. They are useful for providing short explanations about specific lines of code."
      ]
    },
    {
      "cell_type": "code",
      "execution_count": null,
      "id": "50530829-08f6-4546-9cf1-9ebd6a1d90ea",
      "metadata": {
        "id": "50530829-08f6-4546-9cf1-9ebd6a1d90ea"
      },
      "outputs": [],
      "source": [
        "x = 5  # This is an inline comment"
      ]
    },
    {
      "cell_type": "code",
      "execution_count": null,
      "id": "35b006d6-a03d-41b2-97bd-a8b1e057c069",
      "metadata": {
        "id": "35b006d6-a03d-41b2-97bd-a8b1e057c069"
      },
      "outputs": [],
      "source": []
    },
    {
      "cell_type": "markdown",
      "id": "9e8ff290-9e3c-4b26-ad13-3d3ef9f06d48",
      "metadata": {
        "tags": [],
        "id": "9e8ff290-9e3c-4b26-ad13-3d3ef9f06d48"
      },
      "source": [
        "### 4. Multiline Comments\n",
        "#### In Python, there is no specific syntax for multiline comments.\n",
        "#### However, you can use triple quotes (''' or \"\"\") to create a multiline string, and if it's not assigned to a variable, it will act as a multiline comment."
      ]
    },
    {
      "cell_type": "code",
      "execution_count": null,
      "id": "a8cc7e45-0d34-4175-ab44-98fc3cf8b94a",
      "metadata": {
        "id": "a8cc7e45-0d34-4175-ab44-98fc3cf8b94a",
        "outputId": "f36eac8d-0c61-47b8-b6e8-8b650050ea95"
      },
      "outputs": [
        {
          "data": {
            "text/plain": [
              "'\\nThis is a multiline comment\\nthat spans multiple lines\\n'"
            ]
          },
          "execution_count": 7,
          "metadata": {},
          "output_type": "execute_result"
        }
      ],
      "source": [
        "'''\n",
        "This is a multiline comment\n",
        "that spans multiple lines\n",
        "'''"
      ]
    },
    {
      "cell_type": "code",
      "execution_count": null,
      "id": "a758fcac-3de6-4c74-bc9a-f973b98a74e1",
      "metadata": {
        "id": "a758fcac-3de6-4c74-bc9a-f973b98a74e1"
      },
      "outputs": [],
      "source": []
    },
    {
      "cell_type": "markdown",
      "id": "33fa8e30-1fc5-4f63-a104-eaffa064bb37",
      "metadata": {
        "id": "33fa8e30-1fc5-4f63-a104-eaffa064bb37"
      },
      "source": [
        "### 5. Example: Using Comments in a Python Script\n",
        "#### In this example, we'll demonstrate the use of comments in a simple Python script.\n",
        "#### In this script, we've used comments to provide explanations about different parts of the code."
      ]
    },
    {
      "cell_type": "code",
      "execution_count": null,
      "id": "7e79310b-c680-474a-bbb7-bc757afb9bab",
      "metadata": {
        "id": "7e79310b-c680-474a-bbb7-bc757afb9bab",
        "outputId": "60ad4ff2-61dc-435e-8c68-5d510e339808"
      },
      "outputs": [
        {
          "name": "stdout",
          "output_type": "stream",
          "text": [
            "Name: John Doe\n",
            "Length: 8\n",
            "Number of vowels: 3\n"
          ]
        }
      ],
      "source": [
        "# Variable assignment\n",
        "name = \"John Doe\"  # Assign the string \"John Doe\" to the variable 'name'\n",
        "\n",
        "# Calculate the length of the name\n",
        "name_length = len(name)  # Use the len() function to find the length of the string\n",
        "\n",
        "# Print the name and its length\n",
        "print(\"Name:\", name)  # Print the string 'Name:' followed by the value of the 'name' variable\n",
        "print(\"Length:\", name_length)  # Print the string 'Length:' followed by the value of the 'name_length' variable\n",
        "\n",
        "# Calculate and print the number of vowels in the name\n",
        "vowels = \"aeiouAEIOU\"  # Define a string containing all the vowels (both lowercase and uppercase)\n",
        "num_vowels = sum(1 for letter in name if letter in vowels)  # Use a list comprehension to count the vowels in the name\n",
        "print(\"Number of vowels:\", num_vowels)  # Print the string 'Number of vowels:' followed by the value of the 'num_vowels' variable"
      ]
    }
  ],
  "metadata": {
    "kernelspec": {
      "display_name": "Python 3 (ipykernel)",
      "language": "python",
      "name": "python3"
    },
    "language_info": {
      "codemirror_mode": {
        "name": "ipython",
        "version": 3
      },
      "file_extension": ".py",
      "mimetype": "text/x-python",
      "name": "python",
      "nbconvert_exporter": "python",
      "pygments_lexer": "ipython3",
      "version": "3.8.13"
    },
    "colab": {
      "provenance": []
    }
  },
  "nbformat": 4,
  "nbformat_minor": 5
}
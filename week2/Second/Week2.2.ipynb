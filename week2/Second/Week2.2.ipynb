{
  "cells": [
    {
      "cell_type": "markdown",
      "id": "eff357d0-4c74-4858-85bf-a5e40268e19e",
      "metadata": {
        "tags": [],
        "id": "eff357d0-4c74-4858-85bf-a5e40268e19e"
      },
      "source": [
        "## Objective: To learn and understand variable types, declaration, and usage in Python\n",
        "https://colab.research.google.com/github/JunetaeKim/PythonClass/blob/main/week2/Second/Week2.2.ipynb\n",
        "\n",
        "### Outline:\n",
        "\n",
        "#### ①Introduction to Variables\n",
        "#### ②Python Data Types\n",
        "#### ③Declaring and Assigning Variables\n",
        "#### ④Naming Conventions\n",
        "#### ⑤Type Conversion\n",
        "#### ⑥Example: Using Variables in a Python Script"
      ]
    },
    {
      "cell_type": "code",
      "execution_count": null,
      "id": "52a56cb9-16c5-4e5f-ae8d-4bdc4040fffd",
      "metadata": {
        "id": "52a56cb9-16c5-4e5f-ae8d-4bdc4040fffd"
      },
      "outputs": [],
      "source": []
    },
    {
      "cell_type": "markdown",
      "id": "cbae9b6b-43f4-46a1-b4c7-55d776285df2",
      "metadata": {
        "tags": [],
        "id": "cbae9b6b-43f4-46a1-b4c7-55d776285df2"
      },
      "source": [
        "### 1. Introduction to Variables\n",
        "#### In Python, a variable is a symbolic name for a value.\n",
        "#### Variables store data and allow you to access and manipulate the data throughout your program."
      ]
    },
    {
      "cell_type": "code",
      "execution_count": null,
      "id": "b0925985-8739-4a57-b160-74a8f1683758",
      "metadata": {
        "id": "b0925985-8739-4a57-b160-74a8f1683758"
      },
      "outputs": [],
      "source": []
    },
    {
      "cell_type": "markdown",
      "id": "77d3d6ea-265a-4221-8ed8-832feaec0875",
      "metadata": {
        "tags": [],
        "id": "77d3d6ea-265a-4221-8ed8-832feaec0875"
      },
      "source": [
        "### 2. Python Data Types <br>\n",
        "#### Python has several built-in data types, including:\n",
        "\n",
        "#### º Integers (int): Whole numbers, e.g., 42, -7 #No decimal\n",
        "#### º Floats (float): Real numbers, e.g., 3.14, -0.5 # with decimal\n",
        "#### º Strings (str): Text enclosed in single or double quotes, e.g., \"Hello\", 'World'\n",
        "#### º Booleans (bool): True or False values # T and F\n",
        "#### º Lists (list): Ordered, mutable sequences of items, e.g., [1, 2, 3] # need[] can change/ modify the exact value\n",
        "#### º Tuples (tuple): Ordered, immutable sequences of items, e.g., (1, 2, 3) # use (), Immutable -can not change/ modify the exact value\n",
        "#### º Sets (set): Unordered, unique items, e.g., {1, 2, 3}\n",
        "#### º Dictionaries (dict): Key-value pairs, e.g., {'one': 1, 'two': 2} # can describe th values as showed"
      ]
    },
    {
      "cell_type": "code",
      "execution_count": null,
      "id": "79b56f11-7e84-478c-877a-e4c7d98c0f8b",
      "metadata": {
        "id": "79b56f11-7e84-478c-877a-e4c7d98c0f8b"
      },
      "outputs": [],
      "source": []
    },
    {
      "cell_type": "markdown",
      "id": "32d89e04-df3f-4ee7-b9b5-5c57ef38b544",
      "metadata": {
        "id": "32d89e04-df3f-4ee7-b9b5-5c57ef38b544"
      },
      "source": [
        "### 3. Declaring and Assigning Variables\n",
        "#### In Python, you declare and assign variables using the equal sign (=).\n",
        "#### You don't need to specify the data type, as Python automatically infers it based on the value."
      ]
    },
    {
      "cell_type": "code",
      "execution_count": 1,
      "id": "0bfe2727-c41b-4512-9385-c8e2763f074f",
      "metadata": {
        "id": "0bfe2727-c41b-4512-9385-c8e2763f074f"
      },
      "outputs": [],
      "source": [
        "integer_var = 42\n",
        "float_var = 3.14\n",
        "string_var = \"Hello, World!\"\n",
        "boolean_var = True\n",
        "list_var = [1, 2, 3]\n",
        "tuple_var = (1, 2, 3)\n",
        "set_var = {1, 2, 3}\n",
        "dict_var = {'one': 1, 'two': 2}"
      ]
    },
    {
      "cell_type": "code",
      "execution_count": 1,
      "id": "c1b6b7dc-3642-4722-874f-6bee44e9e317",
      "metadata": {
        "id": "c1b6b7dc-3642-4722-874f-6bee44e9e317"
      },
      "outputs": [],
      "source": []
    },
    {
      "cell_type": "markdown",
      "id": "a400a0b2-fcfb-415f-a464-245ed154b1a6",
      "metadata": {
        "tags": [],
        "id": "a400a0b2-fcfb-415f-a464-245ed154b1a6"
      },
      "source": [
        "### 4. Naming Conventions <br>\n",
        "#### When naming variables, follow these conventions:\n",
        "\n",
        "#### º Use lowercase letters, digits, and underscores\n",
        "#### º Start variable names with a letter or underscore\n",
        "#### º Avoid using Python keywords as variable names    # important ex. print\n",
        "#### º Use meaningful and descriptive names"
      ]
    },
    {
      "cell_type": "code",
      "execution_count": null,
      "id": "7ada5c7b-5d4c-4df6-a77e-920a63b7a880",
      "metadata": {
        "id": "7ada5c7b-5d4c-4df6-a77e-920a63b7a880"
      },
      "outputs": [],
      "source": [
        "counter = 0\n",
        "temperature_celsius = 25.0\n",
        "word_list = [\"apple\", \"banana\", \"cherry\"]"
      ]
    },
    {
      "cell_type": "code",
      "execution_count": null,
      "id": "b42b9208-1392-4f6d-8dff-5ee70c407298",
      "metadata": {
        "id": "b42b9208-1392-4f6d-8dff-5ee70c407298"
      },
      "outputs": [],
      "source": []
    },
    {
      "cell_type": "markdown",
      "id": "dc1483b9-8568-4044-9434-3b0a45ae3ff5",
      "metadata": {
        "tags": [],
        "id": "dc1483b9-8568-4044-9434-3b0a45ae3ff5"
      },
      "source": [
        "### 5. Type Conversion <br>\n",
        "#### You can convert between data types using built-in functions:\n",
        "\n",
        "#### º int(): Convert to an integer\n",
        "#### º float(): Convert to a float\n",
        "#### º str(): Convert to a string\n",
        "#### º list(): Convert to a list\n",
        "#### º tuple(): Convert to a tuple\n",
        "#### º set(): Convert to a set"
      ]
    },
    {
      "cell_type": "code",
      "execution_count": 2,
      "id": "bda7de47-fcd1-472f-ad15-b7ffb8e8d6e1",
      "metadata": {
        "id": "bda7de47-fcd1-472f-ad15-b7ffb8e8d6e1"
      },
      "outputs": [],
      "source": [
        "num_string = \"123\" # this is string becaise of quotation mark\n",
        "num_integer = int(num_string)   # change the string to integer\n",
        "num_float = float(num_string)"
      ]
    },
    {
      "cell_type": "code",
      "execution_count": 1,
      "id": "2c0b56e1-1729-4029-95d8-954213826e57",
      "metadata": {
        "id": "2c0b56e1-1729-4029-95d8-954213826e57"
      },
      "outputs": [],
      "source": []
    },
    {
      "cell_type": "markdown",
      "id": "3e373fa0-5995-4df9-86dc-dc187169cf50",
      "metadata": {
        "tags": [],
        "id": "3e373fa0-5995-4df9-86dc-dc187169cf50"
      },
      "source": [
        "### 6. Example: Using Variables in a Python Script\n",
        "#### In this example, we'll demonstrate the use of variables and data types in a simple Python script.\n",
        "#### In this script, we've used variables to store and manipulate data, and demonstrated type"
      ]
    },
    {
      "cell_type": "code",
      "execution_count": null,
      "id": "f16d8b14-ec72-4595-94d0-2fede6f5d5da",
      "metadata": {
        "id": "f16d8b14-ec72-4595-94d0-2fede6f5d5da",
        "outputId": "d19129b0-a215-4e21-e4da-617151a109f4"
      },
      "outputs": [
        {
          "name": "stdout",
          "output_type": "stream",
          "text": [
            "The area of a circle with radius 5.0 is 78.54.\n"
          ]
        }
      ],
      "source": [
        "circle_radius = 5.0  # Example radius\n",
        "pi = 3.14159\n",
        "\n",
        "# Calculate the area of the circle (π*r^2) and print the result\n",
        "area = circle_radius * circle_radius * pi\n",
        "print(f\"The area of a circle with radius {circle_radius} is {area:.2f}.\")"
      ]
    }
  ],
  "metadata": {
    "kernelspec": {
      "display_name": "Python 3 (ipykernel)",
      "language": "python",
      "name": "python3"
    },
    "language_info": {
      "codemirror_mode": {
        "name": "ipython",
        "version": 3
      },
      "file_extension": ".py",
      "mimetype": "text/x-python",
      "name": "python",
      "nbconvert_exporter": "python",
      "pygments_lexer": "ipython3",
      "version": "3.8.13"
    },
    "colab": {
      "provenance": []
    }
  },
  "nbformat": 4,
  "nbformat_minor": 5
}
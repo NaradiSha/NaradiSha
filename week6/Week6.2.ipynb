{
  "cells": [
    {
      "cell_type": "markdown",
      "metadata": {
        "id": "lmZCOZa4eJMb"
      },
      "source": [
        "## Objective: To learn and understand the usage of while loops in Python <br>\n",
        "https://colab.research.google.com/github/JunetaeKim/PythonClass/blob/main/week6/Week6.2.ipynb\n",
        "### Outline:\n",
        "\n",
        "#### ① Introduction to While Loops\n",
        "#### ② Simple While Loop Example\n",
        "#### ③ Using a While Loop with an Else Statement\n",
        "#### ④ Nested While Loops\n",
        "#### ⑤ Infinite Loops and Break Statement\n",
        "#### ⑥ Using Continue Statement\n",
        "#### ⑦ Loop Control with Pass Statement\n",
        "#### ⑧ Example: Using While Loops in a Python Script"
      ],
      "id": "lmZCOZa4eJMb"
    },
    {
      "cell_type": "code",
      "execution_count": null,
      "metadata": {
        "id": "uzqqEheNeJMc"
      },
      "outputs": [],
      "source": [],
      "id": "uzqqEheNeJMc"
    },
    {
      "cell_type": "markdown",
      "metadata": {
        "tags": [],
        "id": "pT2_nIf7eJMc"
      },
      "source": [
        "### 1. Introduction to While Loops\n",
        "#### While loops are a fundamental control structure in Python, used for executing a block of code repeatedly as long as a specific condition is true."
      ],
      "id": "pT2_nIf7eJMc"
    },
    {
      "cell_type": "markdown",
      "metadata": {
        "id": "zA8U0sBweJMc"
      },
      "source": [
        "![whileloop.png](https://raw.githubusercontent.com/JunetaeKim/PythonClass/main/week6/IntroWhileLoop.png)"
      ],
      "id": "zA8U0sBweJMc"
    },
    {
      "cell_type": "markdown",
      "metadata": {
        "id": "NEq6r_LueJMd"
      },
      "source": [
        "#### Introduction to basic syntax of while loop\n",
        "#### https://pynative.com/python-while-loop/\n",
        "![image.png](https://raw.githubusercontent.com/JunetaeKim/PythonClass/main/week6/SyntaxWhileLoop.png)"
      ],
      "id": "NEq6r_LueJMd"
    },
    {
      "cell_type": "code",
      "execution_count": null,
      "metadata": {
        "id": "rhYsFLOWeJMd"
      },
      "outputs": [],
      "source": [],
      "id": "rhYsFLOWeJMd"
    },
    {
      "cell_type": "markdown",
      "metadata": {
        "id": "XAzOEiTDeJMd"
      },
      "source": [
        "### 2. Basic While Loops Syntax\n",
        "#### The basic syntax of a while loops in Python is."
      ],
      "id": "XAzOEiTDeJMd"
    },
    {
      "cell_type": "code",
      "execution_count": null,
      "metadata": {
        "id": "qHqZ_lj7eJMd"
      },
      "outputs": [],
      "source": [
        "while condition:\n",
        "    # Code to be executed"
      ],
      "id": "qHqZ_lj7eJMd"
    },
    {
      "cell_type": "code",
      "execution_count": null,
      "metadata": {
        "id": "uh_V1uugeJMe"
      },
      "outputs": [],
      "source": [],
      "id": "uh_V1uugeJMe"
    },
    {
      "cell_type": "markdown",
      "metadata": {
        "tags": [],
        "id": "rTbzOFqSeJMe"
      },
      "source": [
        "### 3. Simple While Loop Example\n",
        "#### The following example demonstrates a simple while loop that prints the numbers from 1 to 5."
      ],
      "id": "rTbzOFqSeJMe"
    },
    {
      "cell_type": "code",
      "execution_count": null,
      "metadata": {
        "id": "swsD5KY4eJMe",
        "outputId": "b35c5689-ec81-4d53-b96c-76e32a33c4f0"
      },
      "outputs": [
        {
          "name": "stdout",
          "output_type": "stream",
          "text": [
            "1\n",
            "2\n",
            "3\n",
            "4\n",
            "5\n"
          ]
        }
      ],
      "source": [
        "i = 1\n",
        "while i <= 5:\n",
        "    print(i)\n",
        "    i += 1"
      ],
      "id": "swsD5KY4eJMe"
    },
    {
      "cell_type": "code",
      "execution_count": null,
      "metadata": {
        "id": "RRcWkbhYeJMf"
      },
      "outputs": [],
      "source": [],
      "id": "RRcWkbhYeJMf"
    },
    {
      "cell_type": "markdown",
      "metadata": {
        "id": "G1YhA5K0eJMf"
      },
      "source": [
        "### 4. Using a While Loop with an Else Statement\n",
        "#### An optional else statement can be added to a while loop.\n",
        "#### The code block in the else statement will be executed once the loop condition becomes false."
      ],
      "id": "G1YhA5K0eJMf"
    },
    {
      "cell_type": "code",
      "execution_count": null,
      "metadata": {
        "id": "aZZ8trjieJMf",
        "outputId": "68974b2d-6376-4aaf-b9b6-07eb9cdd2d86"
      },
      "outputs": [
        {
          "name": "stdout",
          "output_type": "stream",
          "text": [
            "1\n",
            "2\n",
            "3\n",
            "4\n",
            "5\n",
            "Loop finished\n"
          ]
        }
      ],
      "source": [
        "i = 1\n",
        "while i <= 5:\n",
        "    print(i)\n",
        "    i += 1\n",
        "else:\n",
        "    print(\"Loop finished\")"
      ],
      "id": "aZZ8trjieJMf"
    },
    {
      "cell_type": "code",
      "execution_count": null,
      "metadata": {
        "id": "txR2ro2leJMf"
      },
      "outputs": [],
      "source": [],
      "id": "txR2ro2leJMf"
    },
    {
      "cell_type": "markdown",
      "metadata": {
        "id": "V18DpIzTeJMf"
      },
      "source": [
        "### 5. Nested While Loops\n",
        "#### A while loop can be placed inside another while loop, creating nested loops."
      ],
      "id": "V18DpIzTeJMf"
    },
    {
      "cell_type": "code",
      "execution_count": null,
      "metadata": {
        "id": "BsEsgMUUeJMf",
        "outputId": "fb33793c-0808-492f-e9c6-93df559cb000"
      },
      "outputs": [
        {
          "name": "stdout",
          "output_type": "stream",
          "text": [
            "i: 1, j: 1\n",
            "i: 1, j: 2\n",
            "i: 1, j: 3\n",
            "i: 2, j: 1\n",
            "i: 2, j: 2\n",
            "i: 2, j: 3\n",
            "i: 3, j: 1\n",
            "i: 3, j: 2\n",
            "i: 3, j: 3\n"
          ]
        }
      ],
      "source": [
        "i = 1\n",
        "while i <= 3:\n",
        "    j = 1\n",
        "    while j <= 3:\n",
        "        print(f\"i: {i}, j: {j}\")\n",
        "        j += 1\n",
        "    i += 1"
      ],
      "id": "BsEsgMUUeJMf"
    },
    {
      "cell_type": "code",
      "execution_count": null,
      "metadata": {
        "id": "3ziTW3T6eJMf"
      },
      "outputs": [],
      "source": [],
      "id": "3ziTW3T6eJMf"
    },
    {
      "cell_type": "markdown",
      "metadata": {
        "id": "AcuYuDSoeJMf"
      },
      "source": [
        "### 6. Infinite Loops and Break Statement\n",
        "#### An infinite loop occurs when the loop condition never becomes false.\n",
        "#### To exit an infinite loop, the break statement can be used."
      ],
      "id": "AcuYuDSoeJMf"
    },
    {
      "cell_type": "code",
      "execution_count": null,
      "metadata": {
        "id": "mt_Z92wxeJMg",
        "outputId": "cc334f55-eddb-49b3-d6e0-b836a441c8a1"
      },
      "outputs": [
        {
          "name": "stdout",
          "output_type": "stream",
          "text": [
            "1\n",
            "2\n",
            "3\n",
            "4\n",
            "5\n"
          ]
        }
      ],
      "source": [
        "i = 1\n",
        "while True:\n",
        "    print(i)\n",
        "    if i == 5:\n",
        "        break\n",
        "    i += 1"
      ],
      "id": "mt_Z92wxeJMg"
    },
    {
      "cell_type": "code",
      "execution_count": null,
      "metadata": {
        "id": "-aQCImhWeJMg"
      },
      "outputs": [],
      "source": [],
      "id": "-aQCImhWeJMg"
    },
    {
      "cell_type": "markdown",
      "metadata": {
        "id": "hiitR5BreJMg"
      },
      "source": [
        "### 7. Using Continue Statement\n",
        "#### The continue statement skips the rest of the loop's code block and continues with the next iteration of the loop."
      ],
      "id": "hiitR5BreJMg"
    },
    {
      "cell_type": "code",
      "execution_count": null,
      "metadata": {
        "id": "BPhbj1dJeJMg",
        "outputId": "32db5f49-f68d-41b0-ed57-04eb0ca3f310"
      },
      "outputs": [
        {
          "name": "stdout",
          "output_type": "stream",
          "text": [
            "1\n",
            "2\n",
            "4\n",
            "5\n"
          ]
        }
      ],
      "source": [
        "i = 0\n",
        "while i < 5:\n",
        "    i += 1\n",
        "    if i == 3:    # break at the 3 # without the 3 jump to the next iteration\n",
        "        continue  # jump to the next value and after 5 again 1 start\n",
        "    print(i)"
      ],
      "id": "BPhbj1dJeJMg"
    },
    {
      "cell_type": "code",
      "execution_count": null,
      "metadata": {
        "id": "aP40uFydeJMg"
      },
      "outputs": [],
      "source": [],
      "id": "aP40uFydeJMg"
    },
    {
      "cell_type": "markdown",
      "metadata": {
        "id": "77a48FFoeJMg"
      },
      "source": [
        "### 8. Loop Control with Pass Statement\n",
        "#### The pass statement is a null operation, used as a placeholder when a statement is required but no action is needed."
      ],
      "id": "77a48FFoeJMg"
    },
    {
      "cell_type": "code",
      "execution_count": null,
      "metadata": {
        "id": "jgUnR_HleJMg",
        "outputId": "b74f2e2b-1336-4057-a4b2-678d9f302fa6"
      },
      "outputs": [
        {
          "name": "stdout",
          "output_type": "stream",
          "text": [
            "1\n",
            "2\n",
            "4\n",
            "5\n"
          ]
        }
      ],
      "source": [
        "i = 1\n",
        "while i <= 5:\n",
        "    if i == 3:\n",
        "        pass\n",
        "    else:\n",
        "        print(i)\n",
        "    i += 1"
      ],
      "id": "jgUnR_HleJMg"
    },
    {
      "cell_type": "code",
      "execution_count": null,
      "metadata": {
        "id": "ofMl01W9eJMg"
      },
      "outputs": [],
      "source": [],
      "id": "ofMl01W9eJMg"
    },
    {
      "cell_type": "markdown",
      "metadata": {
        "id": "yWl2KieVeJMg"
      },
      "source": [
        "### 9. Example: Using While Loops in a Python Script\n",
        "#### The following example demonstrates a script that calculates the factorial of a given number using a while loop."
      ],
      "id": "yWl2KieVeJMg"
    },
    {
      "cell_type": "code",
      "execution_count": null,
      "metadata": {
        "id": "qVXIaKBjeJMg",
        "outputId": "e642acbd-f625-483e-8ddd-465d0e946afe"
      },
      "outputs": [
        {
          "name": "stdout",
          "output_type": "stream",
          "text": [
            "The factorial of 5 is 120\n"
          ]
        }
      ],
      "source": [
        "num = 5\n",
        "factorial = 1\n",
        "i = 1\n",
        "\n",
        "while i <= num:\n",
        "    factorial *= i\n",
        "    i += 1\n",
        "print(f\"The factorial of {num} is {factorial}\")"
      ],
      "id": "qVXIaKBjeJMg"
    },
    {
      "cell_type": "code",
      "execution_count": null,
      "metadata": {
        "id": "J9GnrkYzeJMg"
      },
      "outputs": [],
      "source": [],
      "id": "J9GnrkYzeJMg"
    }
  ],
  "metadata": {
    "kernelspec": {
      "display_name": "Python 3",
      "language": "python",
      "name": "python3"
    },
    "language_info": {
      "codemirror_mode": {
        "name": "ipython",
        "version": 3
      },
      "file_extension": ".py",
      "mimetype": "text/x-python",
      "name": "python",
      "nbconvert_exporter": "python",
      "pygments_lexer": "ipython3",
      "version": "3.8.5"
    },
    "colab": {
      "provenance": []
    }
  },
  "nbformat": 4,
  "nbformat_minor": 5
}
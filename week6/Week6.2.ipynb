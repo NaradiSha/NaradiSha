{
  "cells": [
    {
      "cell_type": "markdown",
      "metadata": {
        "id": "G_-8YVVer0u9"
      },
      "source": [
        "## Objective: To learn and understand the usage of while loops in Python <br>\n",
        "https://colab.research.google.com/github/JunetaeKim/PythonClass/blob/main/week6/Week6.2.ipynb\n",
        "### Outline:\n",
        "\n",
        "#### ① Introduction to While Loops\n",
        "#### ② Simple While Loop Example\n",
        "#### ③ Using a While Loop with an Else Statement\n",
        "#### ④ Nested While Loops\n",
        "#### ⑤ Infinite Loops and Break Statement\n",
        "#### ⑥ Using Continue Statement\n",
        "#### ⑦ Loop Control with Pass Statement\n",
        "#### ⑧ Example: Using While Loops in a Python Script"
      ],
      "id": "G_-8YVVer0u9"
    },
    {
      "cell_type": "code",
      "execution_count": null,
      "metadata": {
        "id": "oIFPljpbr0vA"
      },
      "outputs": [],
      "source": [],
      "id": "oIFPljpbr0vA"
    },
    {
      "cell_type": "markdown",
      "metadata": {
        "tags": [],
        "id": "gR8pes8Xr0vA"
      },
      "source": [
        "### 1. Introduction to While Loops\n",
        "#### While loops are a fundamental control structure in Python, used for executing a block of code repeatedly as long as a specific condition is true."
      ],
      "id": "gR8pes8Xr0vA"
    },
    {
      "cell_type": "markdown",
      "metadata": {
        "id": "-B2F1hfir0vA"
      },
      "source": [
        "![whileloop.png](https://raw.githubusercontent.com/JunetaeKim/PythonClass/main/week6/IntroWhileLoop.png)"
      ],
      "id": "-B2F1hfir0vA"
    },
    {
      "cell_type": "markdown",
      "metadata": {
        "id": "WtmMW3Cwr0vB"
      },
      "source": [
        "#### Introduction to basic syntax of while loop\n",
        "#### https://pynative.com/python-while-loop/\n",
        "![image.png](https://raw.githubusercontent.com/JunetaeKim/PythonClass/main/week6/SyntaxWhileLoop.png)"
      ],
      "id": "WtmMW3Cwr0vB"
    },
    {
      "cell_type": "code",
      "execution_count": null,
      "metadata": {
        "id": "8igWT3xUr0vB"
      },
      "outputs": [],
      "source": [],
      "id": "8igWT3xUr0vB"
    },
    {
      "cell_type": "markdown",
      "metadata": {
        "id": "c2csXXuDr0vB"
      },
      "source": [
        "### 2. Basic While Loops Syntax\n",
        "#### The basic syntax of a while loops in Python is."
      ],
      "id": "c2csXXuDr0vB"
    },
    {
      "cell_type": "code",
      "execution_count": null,
      "metadata": {
        "id": "y5dzrNxGr0vB"
      },
      "outputs": [],
      "source": [
        "while condition:\n",
        "    # Code to be executed"
      ],
      "id": "y5dzrNxGr0vB"
    },
    {
      "cell_type": "code",
      "execution_count": null,
      "metadata": {
        "id": "vNmgKfiBr0vD"
      },
      "outputs": [],
      "source": [],
      "id": "vNmgKfiBr0vD"
    },
    {
      "cell_type": "markdown",
      "metadata": {
        "tags": [],
        "id": "yD3dpteJr0vD"
      },
      "source": [
        "### 3. Simple While Loop Example\n",
        "#### The following example demonstrates a simple while loop that prints the numbers from 1 to 5."
      ],
      "id": "yD3dpteJr0vD"
    },
    {
      "cell_type": "code",
      "execution_count": null,
      "metadata": {
        "id": "ezWQAlUTr0vE",
        "outputId": "c0530771-9f1d-44f0-bd1e-9eeb980c6436"
      },
      "outputs": [
        {
          "name": "stdout",
          "output_type": "stream",
          "text": [
            "1\n",
            "2\n",
            "3\n",
            "4\n",
            "5\n"
          ]
        }
      ],
      "source": [
        "i = 1\n",
        "while i <= 5:\n",
        "    print(i)\n",
        "    i += 1"
      ],
      "id": "ezWQAlUTr0vE"
    },
    {
      "cell_type": "code",
      "execution_count": null,
      "metadata": {
        "id": "kEq6WKopr0vE"
      },
      "outputs": [],
      "source": [
        "i = 1 → Start with i equal to 1.\n",
        "\n",
        "while i <= 5: → As long as i is less than or equal to 5, do the following:\n",
        "\n",
        "Print the value of i\n",
        "\n",
        "Increase i by 1 (i += 1)\n",
        "\n",
        "When i becomes 6, the condition i <= 5 is False, so the loop stops.\n",
        "\n"
      ],
      "id": "kEq6WKopr0vE"
    },
    {
      "cell_type": "markdown",
      "metadata": {
        "id": "knt-K8g6r0vE"
      },
      "source": [
        "### 4. Using a While Loop with an Else Statement\n",
        "#### An optional else statement can be added to a while loop.\n",
        "#### The code block in the else statement will be executed once the loop condition becomes false."
      ],
      "id": "knt-K8g6r0vE"
    },
    {
      "cell_type": "code",
      "execution_count": null,
      "metadata": {
        "id": "MzFBET0pr0vE",
        "outputId": "64b4ba09-8ce7-4077-fe73-d6faf2a7e7d7"
      },
      "outputs": [
        {
          "name": "stdout",
          "output_type": "stream",
          "text": [
            "1\n",
            "2\n",
            "3\n",
            "4\n",
            "5\n",
            "Loop finished\n"
          ]
        }
      ],
      "source": [
        "i = 1\n",
        "while i <= 5:\n",
        "    print(i)\n",
        "    i += 1\n",
        "else:\n",
        "    print(\"Loop finished\")"
      ],
      "id": "MzFBET0pr0vE"
    },
    {
      "cell_type": "code",
      "execution_count": null,
      "metadata": {
        "id": "IbVP_8M7r0vF"
      },
      "outputs": [],
      "source": [],
      "id": "IbVP_8M7r0vF"
    },
    {
      "cell_type": "markdown",
      "metadata": {
        "id": "FNYOdvBmr0vF"
      },
      "source": [
        "### 5. Nested While Loops\n",
        "#### A while loop can be placed inside another while loop, creating nested loops."
      ],
      "id": "FNYOdvBmr0vF"
    },
    {
      "cell_type": "code",
      "execution_count": null,
      "metadata": {
        "id": "f25j-bYBr0vF",
        "outputId": "619efcd6-21ae-4fb3-97cb-b300d4fdefb8"
      },
      "outputs": [
        {
          "name": "stdout",
          "output_type": "stream",
          "text": [
            "i: 1, j: 1\n",
            "i: 1, j: 2\n",
            "i: 1, j: 3\n",
            "i: 2, j: 1\n",
            "i: 2, j: 2\n",
            "i: 2, j: 3\n",
            "i: 3, j: 1\n",
            "i: 3, j: 2\n",
            "i: 3, j: 3\n"
          ]
        }
      ],
      "source": [
        "i = 1\n",
        "while i <= 3:\n",
        "    j = 1\n",
        "    while j <= 3:\n",
        "        print(f\"i: {i}, j: {j}\")\n",
        "        j += 1\n",
        "    i += 1"
      ],
      "id": "f25j-bYBr0vF"
    },
    {
      "cell_type": "code",
      "execution_count": null,
      "metadata": {
        "id": "MQ9ZvevRr0vF"
      },
      "outputs": [],
      "source": [],
      "id": "MQ9ZvevRr0vF"
    },
    {
      "cell_type": "markdown",
      "metadata": {
        "id": "IMZxqsK5r0vF"
      },
      "source": [
        "### 6. Infinite Loops and Break Statement\n",
        "#### An infinite loop occurs when the loop condition never becomes false.\n",
        "#### To exit an infinite loop, the break statement can be used."
      ],
      "id": "IMZxqsK5r0vF"
    },
    {
      "cell_type": "code",
      "execution_count": null,
      "metadata": {
        "id": "to6UfUhur0vF",
        "outputId": "db3ae7c7-a009-4d87-d149-437c52eba955"
      },
      "outputs": [
        {
          "name": "stdout",
          "output_type": "stream",
          "text": [
            "1\n",
            "2\n",
            "3\n",
            "4\n",
            "5\n"
          ]
        }
      ],
      "source": [
        "i = 1\n",
        "while True:\n",
        "    print(i)\n",
        "    if i == 5:\n",
        "        break\n",
        "    i += 1"
      ],
      "id": "to6UfUhur0vF"
    },
    {
      "cell_type": "code",
      "execution_count": null,
      "metadata": {
        "id": "AgnzNYX7r0vF"
      },
      "outputs": [],
      "source": [
        "Explanation:\n",
        "i = 1 — You start with i equal to 1.\n",
        "\n",
        "while True: — This creates an infinite loop.\n",
        "\n",
        "Inside the loop:\n",
        "\n",
        "print(i) — Print the current value of i.\n",
        "\n",
        "if i == 5: — When i is 5...\n",
        "\n",
        "break — Exit the loop.\n",
        "\n",
        "i += 1 — Increase i by 1 after each loop.\n",
        "\n"
      ],
      "id": "AgnzNYX7r0vF"
    },
    {
      "cell_type": "markdown",
      "metadata": {
        "id": "sKi6uSogr0vF"
      },
      "source": [
        "### 7. Using Continue Statement\n",
        "#### The continue statement skips the rest of the loop's code block and continues with the next iteration of the loop.\n",
        "##The continue statement tells the loop to:\n",
        "\n",
        "Skip the rest of the current loop body\n",
        "\n",
        "Go directly to the next iteration\n",
        "\n",
        "It’s useful when you want to skip specific cases but continue looping."
      ],
      "id": "sKi6uSogr0vF"
    },
    {
      "cell_type": "code",
      "execution_count": null,
      "metadata": {
        "id": "PoDF5jSGr0vF",
        "outputId": "99fb30bd-b171-45cf-991a-485e4fb6e35f"
      },
      "outputs": [
        {
          "name": "stdout",
          "output_type": "stream",
          "text": [
            "1\n",
            "2\n",
            "4\n",
            "5\n"
          ]
        }
      ],
      "source": [
        "i = 0\n",
        "while i < 5:\n",
        "    i += 1\n",
        "    if i == 3:\n",
        "        continue\n",
        "    print(i)"
      ],
      "id": "PoDF5jSGr0vF"
    },
    {
      "cell_type": "code",
      "execution_count": null,
      "metadata": {
        "id": "vu4FYlCHr0vF"
      },
      "outputs": [],
      "source": [
        "Start with i = 0\n",
        "\n",
        "Loop runs while i < 5\n",
        "\n",
        "On each loop:\n",
        "\n",
        "i += 1 increases i by 1\n",
        "\n",
        "If i == 3, continue skips the print(i) and jumps to the next loop\n",
        "\n",
        "Otherwise, it prints the value of i"
      ],
      "id": "vu4FYlCHr0vF"
    },
    {
      "cell_type": "markdown",
      "metadata": {
        "id": "S0ccRknMr0vG"
      },
      "source": [
        "### 8. Loop Control with Pass Statement\n",
        "#### The pass statement is a null operation, used as a placeholder when a statement is required but no action is needed."
      ],
      "id": "S0ccRknMr0vG"
    },
    {
      "cell_type": "code",
      "execution_count": null,
      "metadata": {
        "id": "OTIiyyrQr0vG",
        "outputId": "c82afb5a-845a-4ecf-f22a-504170666143"
      },
      "outputs": [
        {
          "name": "stdout",
          "output_type": "stream",
          "text": [
            "1\n",
            "2\n",
            "4\n",
            "5\n"
          ]
        }
      ],
      "source": [
        "i = 1\n",
        "while i <= 5:\n",
        "    if i == 3:\n",
        "        pass\n",
        "    else:\n",
        "        print(i)\n",
        "    i += 1"
      ],
      "id": "OTIiyyrQr0vG"
    },
    {
      "cell_type": "code",
      "execution_count": null,
      "metadata": {
        "id": "pTreQlnKr0vG"
      },
      "outputs": [],
      "source": [
        "i = 1 → loop starts\n",
        "\n",
        "Each time, it checks:\n",
        "\n",
        "If i == 3 → pass (do nothing)\n",
        "\n",
        "Else → print the value of i\n",
        "\n",
        "Then i increases by 1\n",
        "\n"
      ],
      "id": "pTreQlnKr0vG"
    },
    {
      "cell_type": "markdown",
      "metadata": {
        "id": "7kpdLxRNr0vG"
      },
      "source": [
        "### 9. Example: Using While Loops in a Python Script\n",
        "#### The following example demonstrates a script that calculates the factorial of a given number using a while loop."
      ],
      "id": "7kpdLxRNr0vG"
    },
    {
      "cell_type": "code",
      "execution_count": null,
      "metadata": {
        "id": "3Y7yvLRZr0vG",
        "outputId": "0dba9ffe-e9de-45d9-e765-8e109f4894dd"
      },
      "outputs": [
        {
          "name": "stdout",
          "output_type": "stream",
          "text": [
            "The factorial of 5 is 120\n"
          ]
        }
      ],
      "source": [
        "num = 5\n",
        "factorial = 1\n",
        "i = 1\n",
        "\n",
        "while i <= num:\n",
        "    factorial *= i\n",
        "    i += 1\n",
        "print(f\"The factorial of {num} is {factorial}\")"
      ],
      "id": "3Y7yvLRZr0vG"
    },
    {
      "cell_type": "code",
      "execution_count": null,
      "metadata": {
        "id": "tcerGVHFr0vG"
      },
      "outputs": [],
      "source": [],
      "id": "tcerGVHFr0vG"
    }
  ],
  "metadata": {
    "kernelspec": {
      "display_name": "Python 3",
      "language": "python",
      "name": "python3"
    },
    "language_info": {
      "codemirror_mode": {
        "name": "ipython",
        "version": 3
      },
      "file_extension": ".py",
      "mimetype": "text/x-python",
      "name": "python",
      "nbconvert_exporter": "python",
      "pygments_lexer": "ipython3",
      "version": "3.8.5"
    },
    "colab": {
      "provenance": []
    }
  },
  "nbformat": 4,
  "nbformat_minor": 5
}
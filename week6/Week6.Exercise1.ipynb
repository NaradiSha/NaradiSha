{
  "cells": [
    {
      "cell_type": "markdown",
      "metadata": {
        "id": "XT6lcr4UUZ8c"
      },
      "source": [
        "### \"Solve the problem using a for loop.\n",
        "#### https://colab.research.google.com/github/JunetaeKim/PythonClass/blob/main/week6/Week6.Exercise1.ipynb"
      ],
      "id": "XT6lcr4UUZ8c"
    },
    {
      "cell_type": "markdown",
      "metadata": {
        "id": "iRFaa-u-UZ8d"
      },
      "source": [
        "#### 1. Print numbers from 1 to 5."
      ],
      "id": "iRFaa-u-UZ8d"
    },
    {
      "cell_type": "code",
      "execution_count": 1,
      "metadata": {
        "colab": {
          "base_uri": "https://localhost:8080/"
        },
        "id": "q4gIn1wrUZ8e",
        "outputId": "8c1ff5f5-e24b-4f7c-f313-e25104d006b4"
      },
      "outputs": [
        {
          "output_type": "stream",
          "name": "stdout",
          "text": [
            "1\n",
            "2\n",
            "3\n",
            "4\n",
            "5\n"
          ]
        }
      ],
      "source": [
        "for i in range(1,6):\n",
        "  print(i)"
      ],
      "id": "q4gIn1wrUZ8e"
    },
    {
      "cell_type": "markdown",
      "metadata": {
        "id": "tZil6tw8UZ8e"
      },
      "source": [
        "#### 2. Print the square of numbers from 1 to 5."
      ],
      "id": "tZil6tw8UZ8e"
    },
    {
      "cell_type": "code",
      "execution_count": 3,
      "metadata": {
        "colab": {
          "base_uri": "https://localhost:8080/"
        },
        "id": "aIf62ZDsUZ8e",
        "outputId": "a303acd1-8ff8-4562-b5eb-27b8ac87d231"
      },
      "outputs": [
        {
          "output_type": "stream",
          "name": "stdout",
          "text": [
            "1\n",
            "4\n",
            "9\n",
            "16\n",
            "25\n"
          ]
        }
      ],
      "source": [
        "for i in range(1,6):\n",
        "  print(i**2)"
      ],
      "id": "aIf62ZDsUZ8e"
    },
    {
      "cell_type": "markdown",
      "metadata": {
        "id": "MCqL9KOLUZ8e"
      },
      "source": [
        "#### 3. Print the sum of numbers from 1 to 10."
      ],
      "id": "MCqL9KOLUZ8e"
    },
    {
      "cell_type": "code",
      "execution_count": 4,
      "metadata": {
        "colab": {
          "base_uri": "https://localhost:8080/"
        },
        "id": "xoSFK1k7UZ8f",
        "outputId": "b531009e-9aa4-4480-e0b5-53d5054035d7"
      },
      "outputs": [
        {
          "output_type": "stream",
          "name": "stdout",
          "text": [
            "1\n",
            "2\n",
            "3\n",
            "4\n",
            "5\n",
            "6\n",
            "7\n",
            "8\n",
            "9\n",
            "10\n"
          ]
        }
      ],
      "source": [
        "for i in range(1,11):\n",
        "  print(i)"
      ],
      "id": "xoSFK1k7UZ8f"
    },
    {
      "cell_type": "markdown",
      "metadata": {
        "id": "Vy0ZZsHHUZ8f"
      },
      "source": [
        "#### 4. Print the first 5 even numbers."
      ],
      "id": "Vy0ZZsHHUZ8f"
    },
    {
      "cell_type": "code",
      "execution_count": 5,
      "metadata": {
        "colab": {
          "base_uri": "https://localhost:8080/"
        },
        "id": "NZAqpCQbUZ8f",
        "outputId": "d97d9194-c10f-4caa-9aee-76d8e9ee2ac6"
      },
      "outputs": [
        {
          "output_type": "stream",
          "name": "stdout",
          "text": [
            "2\n",
            "4\n",
            "6\n",
            "8\n",
            "10\n"
          ]
        }
      ],
      "source": [
        "for i in range(2,11,2):\n",
        "  print(i)"
      ],
      "id": "NZAqpCQbUZ8f"
    },
    {
      "cell_type": "markdown",
      "metadata": {
        "id": "rGz-pIiEUZ8g"
      },
      "source": [
        "#### 5. Print the factorial of a given number."
      ],
      "id": "rGz-pIiEUZ8g"
    },
    {
      "cell_type": "code",
      "execution_count": null,
      "metadata": {
        "id": "6IZAGBq2UZ8g"
      },
      "outputs": [],
      "source": [
        "number = 5\n",
        "factorial = 1"
      ],
      "id": "6IZAGBq2UZ8g"
    },
    {
      "cell_type": "code",
      "source": [
        "num = 5\n",
        "factorial = 1\n",
        "for i in range(1, num + 1):\n",
        "    factorial *= i     ### multiple by factorial\n",
        "print(f\"Factorial of {num}: {factorial}\")\n"
      ],
      "metadata": {
        "colab": {
          "base_uri": "https://localhost:8080/"
        },
        "id": "pBky6W50Xsk2",
        "outputId": "4ba731fd-db88-42d2-8dca-c163c3226859"
      },
      "id": "pBky6W50Xsk2",
      "execution_count": 15,
      "outputs": [
        {
          "output_type": "stream",
          "name": "stdout",
          "text": [
            "Factorial of 5: 120\n"
          ]
        }
      ]
    },
    {
      "cell_type": "markdown",
      "metadata": {
        "id": "9PR6x-RmUZ8g"
      },
      "source": [
        "#### 6. Find the sum of all even numbers between 1 and 20."
      ],
      "id": "9PR6x-RmUZ8g"
    },
    {
      "cell_type": "code",
      "execution_count": 7,
      "metadata": {
        "colab": {
          "base_uri": "https://localhost:8080/"
        },
        "id": "8e2KirQHUZ8g",
        "outputId": "88d2dbd0-eadf-4295-c0bc-d2efb4569604"
      },
      "outputs": [
        {
          "output_type": "stream",
          "name": "stdout",
          "text": [
            "2\n",
            "4\n",
            "6\n",
            "8\n",
            "10\n"
          ]
        }
      ],
      "source": [
        "for i in range(2,11,2):\n",
        "  print(i)"
      ],
      "id": "8e2KirQHUZ8g"
    },
    {
      "cell_type": "markdown",
      "metadata": {
        "id": "UCNqYmigUZ8g"
      },
      "source": [
        "#### 7. Check if a given number is a prime number."
      ],
      "id": "UCNqYmigUZ8g"
    },
    {
      "cell_type": "code",
      "execution_count": null,
      "metadata": {
        "id": "_iiDDFs2UZ8g"
      },
      "outputs": [],
      "source": [
        "number = 13"
      ],
      "id": "_iiDDFs2UZ8g"
    },
    {
      "cell_type": "code",
      "execution_count": 16,
      "metadata": {
        "colab": {
          "base_uri": "https://localhost:8080/"
        },
        "id": "KVn4u7CBUZ8h",
        "outputId": "579b0578-e334-426c-cf48-3ffea9a2465f"
      },
      "outputs": [
        {
          "output_type": "stream",
          "name": "stdout",
          "text": [
            "True\n"
          ]
        }
      ],
      "source": [
        "number = 13\n",
        "is_prime = True\n",
        "for i in range(2,number):\n",
        "  if number % i == 0:\n",
        "    is_prime = False\n",
        "    break                         # false eka hari nam api methanin ehata balanne neee.\n",
        "print(is_prime)\n",
        "\n"
      ],
      "id": "KVn4u7CBUZ8h"
    },
    {
      "cell_type": "markdown",
      "metadata": {
        "id": "nFlEvZxqUZ8h"
      },
      "source": [
        "#### 8. Find the greatest common divisor (GCD) of two given numbers."
      ],
      "id": "nFlEvZxqUZ8h"
    },
    {
      "cell_type": "code",
      "execution_count": null,
      "metadata": {
        "id": "w18AyNaaUZ8h"
      },
      "outputs": [],
      "source": [
        "a = 56\n",
        "b = 98\n",
        "gcd = 1"
      ],
      "id": "w18AyNaaUZ8h"
    },
    {
      "cell_type": "markdown",
      "metadata": {
        "id": "kX-5aoPaUZ8h"
      },
      "source": [
        "#### 9. Reverse a given string."
      ],
      "id": "kX-5aoPaUZ8h"
    },
    {
      "cell_type": "code",
      "execution_count": null,
      "metadata": {
        "id": "iIua0wERUZ8h"
      },
      "outputs": [],
      "source": [
        "text = \"Python\"\n",
        "reversed_text = \"\""
      ],
      "id": "iIua0wERUZ8h"
    },
    {
      "cell_type": "code",
      "source": [
        "text = \"Python\"\n",
        "reversed_text = \"\"\n",
        "for char in text:\n",
        "  reversed_text = char + reversed_text\n",
        "  print(reversed_text)"
      ],
      "metadata": {
        "colab": {
          "base_uri": "https://localhost:8080/"
        },
        "id": "uAjrMzN9WdXu",
        "outputId": "b697d54c-0737-4fd9-9687-8e54dc738846"
      },
      "id": "uAjrMzN9WdXu",
      "execution_count": 19,
      "outputs": [
        {
          "output_type": "stream",
          "name": "stdout",
          "text": [
            "nohtyP\n"
          ]
        }
      ]
    },
    {
      "cell_type": "code",
      "source": [
        "text = \"Python\"\n",
        "reversed_text = \"\"\n",
        "for char in text:\n",
        "  reversed_text = reversed_text + char\n",
        "print(reversed_text)"
      ],
      "metadata": {
        "id": "pUX1Ch2-Z1j6",
        "outputId": "57f245ab-6559-4cb4-b89e-0e8b446a8774",
        "colab": {
          "base_uri": "https://localhost:8080/"
        }
      },
      "id": "pUX1Ch2-Z1j6",
      "execution_count": 21,
      "outputs": [
        {
          "output_type": "stream",
          "name": "stdout",
          "text": [
            "Python\n"
          ]
        }
      ]
    },
    {
      "cell_type": "markdown",
      "metadata": {
        "id": "3spzcf0NUZ8h"
      },
      "source": [
        "#### 10. Count the occurrence of a specific character in a given string."
      ],
      "id": "3spzcf0NUZ8h"
    },
    {
      "cell_type": "code",
      "execution_count": null,
      "metadata": {
        "id": "Kn4_cxwHUZ8h"
      },
      "outputs": [],
      "source": [
        "text = \"Hello, World!\"\n",
        "char_to_count = \"l\"\n",
        "count = 0"
      ],
      "id": "Kn4_cxwHUZ8h"
    },
    {
      "cell_type": "code",
      "execution_count": null,
      "metadata": {
        "id": "4XXMEQ1cUZ8h"
      },
      "outputs": [],
      "source": [],
      "id": "4XXMEQ1cUZ8h"
    },
    {
      "cell_type": "markdown",
      "metadata": {
        "id": "bBfERzfFUZ8i"
      },
      "source": [
        "#### 11. Print a right-angled triangle using asterisks, like below:\n",
        "\n",
        "#### *\n",
        "#### **\n",
        "#### ***\n",
        "#### ****\n",
        "#### *****"
      ],
      "id": "bBfERzfFUZ8i"
    },
    {
      "cell_type": "code",
      "execution_count": null,
      "metadata": {
        "id": "DCI_hArOUZ8i"
      },
      "outputs": [],
      "source": [
        "height = 5"
      ],
      "id": "DCI_hArOUZ8i"
    },
    {
      "cell_type": "code",
      "execution_count": null,
      "metadata": {
        "id": "fRAp9VTSUZ8i"
      },
      "outputs": [],
      "source": [],
      "id": "fRAp9VTSUZ8i"
    },
    {
      "cell_type": "markdown",
      "metadata": {
        "id": "Fmy_-sv_UZ8i"
      },
      "source": [
        "#### 12. Print a triangle using asterisks, like below:\n",
        "![image.png](attachment:2f535389-ca3f-4559-ade5-3caa97973023.png)"
      ],
      "id": "Fmy_-sv_UZ8i"
    },
    {
      "cell_type": "code",
      "execution_count": null,
      "metadata": {
        "id": "iAh_zlnFUZ8i"
      },
      "outputs": [],
      "source": [
        "height = 5"
      ],
      "id": "iAh_zlnFUZ8i"
    }
  ],
  "metadata": {
    "kernelspec": {
      "display_name": "Python 3",
      "language": "python",
      "name": "python3"
    },
    "language_info": {
      "codemirror_mode": {
        "name": "ipython",
        "version": 3
      },
      "file_extension": ".py",
      "mimetype": "text/x-python",
      "name": "python",
      "nbconvert_exporter": "python",
      "pygments_lexer": "ipython3",
      "version": "3.8.5"
    },
    "colab": {
      "provenance": []
    }
  },
  "nbformat": 4,
  "nbformat_minor": 5
}
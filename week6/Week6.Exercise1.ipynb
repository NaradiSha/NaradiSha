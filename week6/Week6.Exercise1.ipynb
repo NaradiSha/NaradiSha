{
  "cells": [
    {
      "cell_type": "markdown",
      "metadata": {
        "id": "aeeEJ3FSJAnU"
      },
      "source": [
        "### \"Solve the problem using a for loop.\n",
        "#### https://colab.research.google.com/github/JunetaeKim/PythonClass/blob/main/week6/Week6.Exercise1.ipynb"
      ],
      "id": "aeeEJ3FSJAnU"
    },
    {
      "cell_type": "markdown",
      "metadata": {
        "id": "UFt8mk7jJAnZ"
      },
      "source": [
        "#### 1. Print numbers from 1 to 5."
      ],
      "id": "UFt8mk7jJAnZ"
    },
    {
      "cell_type": "code",
      "execution_count": 1,
      "metadata": {
        "id": "eUrHxrSqJAna",
        "outputId": "d7536128-8c8f-4869-b342-64afe812a90c",
        "colab": {
          "base_uri": "https://localhost:8080/"
        }
      },
      "outputs": [
        {
          "output_type": "stream",
          "name": "stdout",
          "text": [
            "1\n",
            "2\n",
            "3\n",
            "4\n",
            "5\n"
          ]
        }
      ],
      "source": [
        "for i in range(1, 6):\n",
        "    print(i)"
      ],
      "id": "eUrHxrSqJAna"
    },
    {
      "cell_type": "markdown",
      "metadata": {
        "id": "K_iM34LLJAna"
      },
      "source": [
        "#### 2. Print the square of numbers from 1 to 5."
      ],
      "id": "K_iM34LLJAna"
    },
    {
      "cell_type": "code",
      "execution_count": 2,
      "metadata": {
        "id": "pmzVy_PpJAnb",
        "outputId": "b7ca89c2-a462-4178-df75-b3f36dc34cb6",
        "colab": {
          "base_uri": "https://localhost:8080/"
        }
      },
      "outputs": [
        {
          "output_type": "stream",
          "name": "stdout",
          "text": [
            "Square of 1 is 1\n",
            "Square of 2 is 4\n",
            "Square of 3 is 9\n",
            "Square of 4 is 16\n",
            "Square of 5 is 25\n"
          ]
        }
      ],
      "source": [
        "for i in range(1, 6):\n",
        "    print(f\"Square of {i} is {i ** 2}\")\n"
      ],
      "id": "pmzVy_PpJAnb"
    },
    {
      "cell_type": "markdown",
      "metadata": {
        "id": "Pc93A9-mJAnb"
      },
      "source": [
        "#### 3. Print the sum of numbers from 1 to 10."
      ],
      "id": "Pc93A9-mJAnb"
    },
    {
      "cell_type": "code",
      "source": [
        "total = 0\n",
        "for i in range(1, 11):\n",
        "    total += i\n",
        "\n",
        "print(f\"Sum of numbers from 1 to 10 is {total}\")\n"
      ],
      "metadata": {
        "id": "MZI6-RrDKDW3",
        "outputId": "7b9ca03a-521c-4935-dc94-780cd3bc83b3",
        "colab": {
          "base_uri": "https://localhost:8080/"
        }
      },
      "id": "MZI6-RrDKDW3",
      "execution_count": 4,
      "outputs": [
        {
          "output_type": "stream",
          "name": "stdout",
          "text": [
            "Sum of numbers from 1 to 10 is 55\n"
          ]
        }
      ]
    },
    {
      "cell_type": "markdown",
      "metadata": {
        "id": "g3-BSBGiJAnc"
      },
      "source": [
        "#### 4. Print the first 5 even numbers."
      ],
      "id": "g3-BSBGiJAnc"
    },
    {
      "cell_type": "code",
      "execution_count": 5,
      "metadata": {
        "id": "k5_oFKXjJAnc",
        "outputId": "f9afa523-7b8d-45d6-82d3-7232494245e8",
        "colab": {
          "base_uri": "https://localhost:8080/"
        }
      },
      "outputs": [
        {
          "output_type": "stream",
          "name": "stdout",
          "text": [
            "2\n",
            "4\n",
            "6\n",
            "8\n",
            "10\n"
          ]
        }
      ],
      "source": [
        "for i in range(2, 11, 2):\n",
        "    print(i)\n"
      ],
      "id": "k5_oFKXjJAnc"
    },
    {
      "cell_type": "markdown",
      "metadata": {
        "id": "4_z36u9VJAnd"
      },
      "source": [
        "#### 5. Print the factorial of a given number."
      ],
      "id": "4_z36u9VJAnd"
    },
    {
      "cell_type": "code",
      "execution_count": null,
      "metadata": {
        "id": "ngY9qA3uJAnd"
      },
      "outputs": [],
      "source": [
        "number = 5\n",
        "factorial = 1"
      ],
      "id": "ngY9qA3uJAnd"
    },
    {
      "cell_type": "code",
      "execution_count": 6,
      "metadata": {
        "id": "Spsm2c42JAne",
        "outputId": "95265e81-dbb6-4461-af75-468d1875d87f",
        "colab": {
          "base_uri": "https://localhost:8080/"
        }
      },
      "outputs": [
        {
          "output_type": "stream",
          "name": "stdout",
          "text": [
            "Factorial of 5 is 120\n"
          ]
        }
      ],
      "source": [
        "number = 5\n",
        "factorial = 1\n",
        "\n",
        "for i in range(1, number + 1):\n",
        "    factorial *= i\n",
        "\n",
        "print(f\"Factorial of {number} is {factorial}\")\n"
      ],
      "id": "Spsm2c42JAne"
    },
    {
      "cell_type": "markdown",
      "metadata": {
        "id": "JDU9LclMJAne"
      },
      "source": [
        "#### 6. Find the sum of all even numbers between 1 and 20."
      ],
      "id": "JDU9LclMJAne"
    },
    {
      "cell_type": "code",
      "execution_count": 7,
      "metadata": {
        "id": "lVyGtCizJAne",
        "outputId": "0097cc3d-160f-4676-e5fb-a97a5c6bba0a",
        "colab": {
          "base_uri": "https://localhost:8080/"
        }
      },
      "outputs": [
        {
          "output_type": "stream",
          "name": "stdout",
          "text": [
            "Sum of even numbers from 1 to 20 is 110\n"
          ]
        }
      ],
      "source": [
        "total = 0\n",
        "\n",
        "for i in range(2, 21, 2):  # Even numbers from 2 to 20\n",
        "    total += i\n",
        "\n",
        "print(f\"Sum of even numbers from 1 to 20 is {total}\")\n"
      ],
      "id": "lVyGtCizJAne"
    },
    {
      "cell_type": "markdown",
      "metadata": {
        "id": "KPSmoK4PJAne"
      },
      "source": [
        "#### 7. Check if a given number is a prime number."
      ],
      "id": "KPSmoK4PJAne"
    },
    {
      "cell_type": "code",
      "execution_count": null,
      "metadata": {
        "id": "riWYbSXjJAnf"
      },
      "outputs": [],
      "source": [
        "number = 13"
      ],
      "id": "riWYbSXjJAnf"
    },
    {
      "cell_type": "code",
      "source": [],
      "metadata": {
        "id": "5M2WH_wLOHSM"
      },
      "id": "5M2WH_wLOHSM",
      "execution_count": null,
      "outputs": []
    },
    {
      "cell_type": "code",
      "execution_count": 9,
      "metadata": {
        "id": "ZnViVqBMJAnf",
        "outputId": "14a42369-d9f6-48fa-db89-fb52996289cc",
        "colab": {
          "base_uri": "https://localhost:8080/"
        }
      },
      "outputs": [
        {
          "output_type": "stream",
          "name": "stdout",
          "text": [
            "13 is a prime number.\n"
          ]
        }
      ],
      "source": [
        "number = 13\n",
        "is_prime = True\n",
        "\n",
        "if number < 2:\n",
        "    is_prime = False\n",
        "else:\n",
        "    for i in range(2, int(number ** 0.5) + 1):\n",
        "        if number % i == 0:\n",
        "            is_prime = False\n",
        "            break\n",
        "\n",
        "if is_prime:\n",
        "    print(f\"{number} is a prime number.\")\n",
        "else:\n",
        "    print(f\"{number} is not a prime number.\")\n"
      ],
      "id": "ZnViVqBMJAnf"
    },
    {
      "cell_type": "markdown",
      "source": [
        "A prime number has only two divisors: 1 and itself.\n",
        "\n",
        "We check divisibility from 2 up to √number (more efficient).\n",
        "\n",
        "If divisible by any of those, it's not prime."
      ],
      "metadata": {
        "id": "WYUd5GB0OMoX"
      },
      "id": "WYUd5GB0OMoX"
    },
    {
      "cell_type": "markdown",
      "metadata": {
        "id": "E8M--Wm2JAnf"
      },
      "source": [
        "#### 8. Find the greatest common divisor (GCD) of two given numbers."
      ],
      "id": "E8M--Wm2JAnf"
    },
    {
      "cell_type": "code",
      "execution_count": null,
      "metadata": {
        "id": "YC4FbD0JJAnf"
      },
      "outputs": [],
      "source": [
        "a = 56\n",
        "b = 98\n",
        "gcd = 1"
      ],
      "id": "YC4FbD0JJAnf"
    },
    {
      "cell_type": "code",
      "execution_count": null,
      "metadata": {
        "id": "5V3DiBubJAnf"
      },
      "outputs": [],
      "source": [
        "a = 56\n",
        "b = 98\n",
        "gcd = 1\n",
        "\n",
        "for i in range(1, min(a, b) + 1):\n",
        "    if a % i == 0 and b % i == 0:\n",
        "        gcd = i\n",
        "\n",
        "print(f\"The GCD of {a} and {b} is {gcd}\")\n"
      ],
      "id": "5V3DiBubJAnf"
    },
    {
      "cell_type": "markdown",
      "source": [
        "range(1, min(a, b) + 1) → checks all numbers from 1 up to the smaller of the two numbers.\n",
        "\n",
        "if a % i == 0 and b % i == 0: → checks if i divides both numbers with no remainder.\n",
        "\n",
        "The last such i found will be the greatest common divisor."
      ],
      "metadata": {
        "id": "yqeixX7DOQxg"
      },
      "id": "yqeixX7DOQxg"
    },
    {
      "cell_type": "markdown",
      "metadata": {
        "id": "OHcRCmc3JAnf"
      },
      "source": [
        "#### 9. Reverse a given string."
      ],
      "id": "OHcRCmc3JAnf"
    },
    {
      "cell_type": "code",
      "execution_count": null,
      "metadata": {
        "id": "wOFMQTI3JAnf"
      },
      "outputs": [],
      "source": [
        "text = \"Python\"\n",
        "reversed_text = \"\""
      ],
      "id": "wOFMQTI3JAnf"
    },
    {
      "cell_type": "code",
      "execution_count": 10,
      "metadata": {
        "id": "mV4fObS3JAnf",
        "outputId": "9fdf3598-e90b-4894-ffbf-9c813dd42693",
        "colab": {
          "base_uri": "https://localhost:8080/"
        }
      },
      "outputs": [
        {
          "output_type": "stream",
          "name": "stdout",
          "text": [
            "Reversed string: nohtyP\n"
          ]
        }
      ],
      "source": [
        "text = \"Python\"\n",
        "reversed_text = \"\"\n",
        "\n",
        "for char in text:\n",
        "    reversed_text = char + reversed_text  # Add each character to the front\n",
        "\n",
        "print(f\"Reversed string: {reversed_text}\")\n"
      ],
      "id": "mV4fObS3JAnf"
    },
    {
      "cell_type": "markdown",
      "source": [
        "We loop through each character in \"Python\".\n",
        "\n",
        "Instead of adding characters to the end, we add each one to the front of reversed_text.\n",
        "\n",
        "This builds the string in reverse order."
      ],
      "metadata": {
        "id": "TXaMJCFuS1q_"
      },
      "id": "TXaMJCFuS1q_"
    },
    {
      "cell_type": "markdown",
      "metadata": {
        "id": "HHz58AZtJAnf"
      },
      "source": [
        "#### 10. Count the occurrence of a specific character in a given string."
      ],
      "id": "HHz58AZtJAnf"
    },
    {
      "cell_type": "code",
      "execution_count": null,
      "metadata": {
        "id": "QLWPwmL9JAng"
      },
      "outputs": [],
      "source": [
        "text = \"Hello, World!\"\n",
        "char_to_count = \"l\"\n",
        "count = 0"
      ],
      "id": "QLWPwmL9JAng"
    },
    {
      "cell_type": "code",
      "execution_count": 11,
      "metadata": {
        "id": "d8CYL3kSJAng",
        "outputId": "a75f97d6-81f0-495f-f9de-2d0b37ea5aa2",
        "colab": {
          "base_uri": "https://localhost:8080/"
        }
      },
      "outputs": [
        {
          "output_type": "stream",
          "name": "stdout",
          "text": [
            "Occurrences of 'l': 3\n"
          ]
        }
      ],
      "source": [
        "text = \"Hello, World!\"\n",
        "char_to_count = \"l\"\n",
        "count = 0\n",
        "\n",
        "for char in text:\n",
        "    if char == char_to_count:\n",
        "        count += 1\n",
        "\n",
        "print(f\"Occurrences of '{char_to_count}': {count}\")\n"
      ],
      "id": "d8CYL3kSJAng"
    },
    {
      "cell_type": "markdown",
      "metadata": {
        "id": "FzKDlzVnJAng"
      },
      "source": [
        "#### 11. Print a right-angled triangle using asterisks, like below:\n",
        "\n",
        "#### *\n",
        "#### **\n",
        "#### ***\n",
        "#### ****\n",
        "#### *****"
      ],
      "id": "FzKDlzVnJAng"
    },
    {
      "cell_type": "code",
      "execution_count": null,
      "metadata": {
        "id": "pMVOIImYJAng"
      },
      "outputs": [],
      "source": [
        "height = 5"
      ],
      "id": "pMVOIImYJAng"
    },
    {
      "cell_type": "code",
      "execution_count": null,
      "metadata": {
        "id": "SpAvCXyeJAng"
      },
      "outputs": [],
      "source": [],
      "id": "SpAvCXyeJAng"
    },
    {
      "cell_type": "markdown",
      "metadata": {
        "id": "l1c_I1jwJAng"
      },
      "source": [
        "#### 12. Print a triangle using asterisks, like below:\n",
        "![image.png](attachment:2f535389-ca3f-4559-ade5-3caa97973023.png)"
      ],
      "id": "l1c_I1jwJAng"
    },
    {
      "cell_type": "code",
      "execution_count": null,
      "metadata": {
        "id": "_mm_eXonJAng"
      },
      "outputs": [],
      "source": [
        "height = 5"
      ],
      "id": "_mm_eXonJAng"
    }
  ],
  "metadata": {
    "kernelspec": {
      "display_name": "Python 3",
      "language": "python",
      "name": "python3"
    },
    "language_info": {
      "codemirror_mode": {
        "name": "ipython",
        "version": 3
      },
      "file_extension": ".py",
      "mimetype": "text/x-python",
      "name": "python",
      "nbconvert_exporter": "python",
      "pygments_lexer": "ipython3",
      "version": "3.8.5"
    },
    "colab": {
      "provenance": []
    }
  },
  "nbformat": 4,
  "nbformat_minor": 5
}
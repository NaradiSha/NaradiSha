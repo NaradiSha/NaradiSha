{
  "cells": [
    {
      "cell_type": "markdown",
      "metadata": {
        "id": "-QvHlspiDsNw"
      },
      "source": [
        "### Question: Create a simple \"Guess the Number\" game using either a for loop or a while loop.\n",
        "#### The game should generate a random number between 1 and 100 and ask the user to guess the number.\n",
        "#### The user has a maximum of 7 attempts to guess the correct number. If the user guesses correctly, display a success message.\n",
        "#### If the user fails to guess the number within the allotted attempts, display a failure message along with the correct number.\n",
        "\n",
        "https://colab.research.google.com/github/JunetaeKim/PythonClass/blob/main/week6/Week6.Assignment.ipynb"
      ]
    },
    {
      "cell_type": "code",
      "execution_count": null,
      "metadata": {
        "id": "mS0VoDaEDsNz"
      },
      "outputs": [],
      "source": []
    },
    {
      "cell_type": "markdown",
      "metadata": {
        "id": "EnI_4F2LDsN0"
      },
      "source": [
        "### Python code solution using a for loop:"
      ]
    },
    {
      "cell_type": "code",
      "execution_count": null,
      "metadata": {
        "id": "aG3QLEBGDsN0"
      },
      "outputs": [],
      "source": [
        "import random\n",
        "\n",
        "random_number = random.randint(1, 100)\n",
        "max_attempts = 7\n",
        "\n",
        "for attempt in range(1, max_attempts + 1):\n",
        "    user_guess = int(input(f\"Attempt {attempt}: \"))\n",
        "\n",
        "    '''\n",
        "    Complete the codes\n",
        "    '''\n",
        "\n",
        "if attempt == max_attempts and user_guess != random_number:\n",
        "    print(f\"Sorry, you didn't guess the correct number. The number was {random_number}.\")"
      ]
    },
    {
      "cell_type": "code",
      "execution_count": 8,
      "metadata": {
        "id": "3juQX1BTDsN2",
        "outputId": "f0b07470-8bd4-4445-afec-ba492922ebc1",
        "colab": {
          "base_uri": "https://localhost:8080/"
        }
      },
      "outputs": [
        {
          "output_type": "stream",
          "name": "stdout",
          "text": [
            "Welcome to the Guess the Number game!\n",
            "You have 7 attempts to guess the number between 1 and 100.\n",
            "Attempt 1: 30\n",
            "The number is higher.\n",
            "Attempt 2: 50\n",
            "The number is higher.\n",
            "Attempt 3: 80\n",
            "Congratulations! You guessed the correct number!\n"
          ]
        }
      ],
      "source": [
        "import random\n",
        "\n",
        "print(\"Welcome to the Guess the Number game!\")\n",
        "print(\"You have 7 attempts to guess the number between 1 and 100.\")\n",
        "\n",
        "random_number = random.randint(1, 100)\n",
        "max_attempts = 7\n",
        "\n",
        "for attempt in range(1, max_attempts + 1):\n",
        "    user_guess = int(input(f\"Attempt {attempt}: \"))\n",
        "\n",
        "    if user_guess == random_number:\n",
        "        print(\"Congratulations! You guessed the correct number!\")\n",
        "        break\n",
        "    elif user_guess < random_number:\n",
        "        print(\"The number is higher.\")\n",
        "    else:\n",
        "        print(\"The number is lower.\")\n",
        "else:\n",
        "    # This else block runs only if the loop didn't break (i.e., all attempts used)\n",
        "    print(f\"Sorry, you didn't guess the correct number. The number was {random_number}.\")\n"
      ]
    },
    {
      "cell_type": "markdown",
      "metadata": {
        "id": "F6t6MnWPDsN2"
      },
      "source": [
        "### Python code solution using a while loop:"
      ]
    },
    {
      "cell_type": "code",
      "execution_count": null,
      "metadata": {
        "id": "kgo1CyU3DsN2",
        "outputId": "558a388e-6bfa-49fd-cdbf-d12bd62a019e"
      },
      "outputs": [
        {
          "name": "stdout",
          "output_type": "stream",
          "text": [
            "Welcome to the Guess the Number game!\n",
            "You have 7 attempts to guess the number between 1 and 100.\n"
          ]
        },
        {
          "name": "stdin",
          "output_type": "stream",
          "text": [
            "Attempt 1:  60\n"
          ]
        },
        {
          "name": "stdout",
          "output_type": "stream",
          "text": [
            "The number is higher.\n"
          ]
        },
        {
          "name": "stdin",
          "output_type": "stream",
          "text": [
            "Attempt 2:  80\n"
          ]
        },
        {
          "name": "stdout",
          "output_type": "stream",
          "text": [
            "The number is lower.\n"
          ]
        },
        {
          "name": "stdin",
          "output_type": "stream",
          "text": [
            "Attempt 3:  70\n"
          ]
        },
        {
          "name": "stdout",
          "output_type": "stream",
          "text": [
            "The number is lower.\n"
          ]
        },
        {
          "name": "stdin",
          "output_type": "stream",
          "text": [
            "Attempt 4:  65\n"
          ]
        },
        {
          "name": "stdout",
          "output_type": "stream",
          "text": [
            "The number is lower.\n"
          ]
        },
        {
          "name": "stdin",
          "output_type": "stream",
          "text": [
            "Attempt 5:  62\n"
          ]
        },
        {
          "name": "stdout",
          "output_type": "stream",
          "text": [
            "Congratulations! You guessed the correct number!\n"
          ]
        }
      ],
      "source": [
        "import random\n",
        "\n",
        "random_number = random.randint(1, 100)\n",
        "max_attempts = 7\n",
        "attempt = 1\n",
        "\n",
        "print(\"Welcome to the Guess the Number game!\")\n",
        "print(\"You have 7 attempts to guess the number between 1 and 100.\")\n",
        "\n",
        "while attempt <= max_attempts:\n",
        "    user_guess = int(input(f\"Attempt {attempt}: \"))\n",
        "\n",
        "    '''\n",
        "    Complete the codes\n",
        "    '''\n",
        "\n",
        "if attempt > max_attempts:\n",
        "    print(f\"Sorry, you didn't guess the correct number. The number was {random_number}.\")"
      ]
    }
  ],
  "metadata": {
    "kernelspec": {
      "display_name": "Python 3 (ipykernel)",
      "language": "python",
      "name": "python3"
    },
    "language_info": {
      "codemirror_mode": {
        "name": "ipython",
        "version": 3
      },
      "file_extension": ".py",
      "mimetype": "text/x-python",
      "name": "python",
      "nbconvert_exporter": "python",
      "pygments_lexer": "ipython3",
      "version": "3.9.21"
    },
    "colab": {
      "provenance": []
    }
  },
  "nbformat": 4,
  "nbformat_minor": 0
}
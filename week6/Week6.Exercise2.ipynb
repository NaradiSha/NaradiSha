{
  "cells": [
    {
      "cell_type": "markdown",
      "metadata": {
        "id": "579t-Ts9VPOc"
      },
      "source": [
        "### \"Solve the problem using a while loop.\n",
        "#### https://colab.research.google.com/github/JunetaeKim/PythonClass/blob/main/week6/Week6.Exercise2.ipynb"
      ],
      "id": "579t-Ts9VPOc"
    },
    {
      "cell_type": "markdown",
      "metadata": {
        "id": "1jyyaRabVPOe"
      },
      "source": [
        "#### 1. Print numbers from 1 to 5."
      ],
      "id": "1jyyaRabVPOe"
    },
    {
      "cell_type": "code",
      "execution_count": 1,
      "metadata": {
        "id": "hyyg9g6HVPOe",
        "outputId": "26d7eafb-e934-447b-f610-017df16daae0",
        "colab": {
          "base_uri": "https://localhost:8080/"
        }
      },
      "outputs": [
        {
          "output_type": "stream",
          "name": "stdout",
          "text": [
            "1\n",
            "2\n",
            "3\n",
            "4\n",
            "5\n"
          ]
        }
      ],
      "source": [
        "i = 1\n",
        "while i <= 5:\n",
        "    print(i)\n",
        "    i += 1\n",
        "\n"
      ],
      "id": "hyyg9g6HVPOe"
    },
    {
      "cell_type": "markdown",
      "metadata": {
        "id": "SC3G9vYUVPOf"
      },
      "source": [
        "#### 2. Print the square of numbers from 1 to 5."
      ],
      "id": "SC3G9vYUVPOf"
    },
    {
      "cell_type": "code",
      "execution_count": 2,
      "metadata": {
        "id": "o5QsfSOTVPOf",
        "outputId": "73ad8434-70df-4ac7-c0ef-2caea339244b",
        "colab": {
          "base_uri": "https://localhost:8080/"
        }
      },
      "outputs": [
        {
          "output_type": "stream",
          "name": "stdout",
          "text": [
            "Square of 1 is 1\n",
            "Square of 2 is 4\n",
            "Square of 3 is 9\n",
            "Square of 4 is 16\n",
            "Square of 5 is 25\n"
          ]
        }
      ],
      "source": [
        "i = 1\n",
        "while i <= 5:\n",
        "    print(f\"Square of {i} is {i ** 2}\")\n",
        "    i += 1\n"
      ],
      "id": "o5QsfSOTVPOf"
    },
    {
      "cell_type": "markdown",
      "metadata": {
        "id": "4x42XD-sVPOf"
      },
      "source": [
        "#### 3. Print the sum of numbers from 1 to 10."
      ],
      "id": "4x42XD-sVPOf"
    },
    {
      "cell_type": "code",
      "execution_count": 3,
      "metadata": {
        "id": "13A5y9BCVPOf",
        "outputId": "05d14b10-6e09-4d83-f2bd-7036d3ffe787",
        "colab": {
          "base_uri": "https://localhost:8080/"
        }
      },
      "outputs": [
        {
          "output_type": "stream",
          "name": "stdout",
          "text": [
            "Sum of numbers from 1 to 10 is 55\n"
          ]
        }
      ],
      "source": [
        "i = 1\n",
        "total = 0\n",
        "\n",
        "while i <= 10:\n",
        "    total += i\n",
        "    i += 1\n",
        "\n",
        "print(f\"Sum of numbers from 1 to 10 is {total}\")\n"
      ],
      "id": "13A5y9BCVPOf"
    },
    {
      "cell_type": "markdown",
      "metadata": {
        "id": "2sk_J3oZVPOf"
      },
      "source": [
        "#### 4. Print the first 5 even numbers."
      ],
      "id": "2sk_J3oZVPOf"
    },
    {
      "cell_type": "code",
      "execution_count": 4,
      "metadata": {
        "id": "dLF4-2jMVPOg",
        "outputId": "109e7dc5-2aac-4c42-facc-c180427860b3",
        "colab": {
          "base_uri": "https://localhost:8080/"
        }
      },
      "outputs": [
        {
          "output_type": "stream",
          "name": "stdout",
          "text": [
            "2\n",
            "4\n",
            "6\n",
            "8\n",
            "10\n"
          ]
        }
      ],
      "source": [
        "i = 2            # Start from the first even number\n",
        "count = 0        # Count how many even numbers we've printed\n",
        "\n",
        "while count < 5:\n",
        "    print(i)\n",
        "    i += 2        # Move to the next even number\n",
        "    count += 1    # Increase the printed count\n"
      ],
      "id": "dLF4-2jMVPOg"
    },
    {
      "cell_type": "markdown",
      "metadata": {
        "id": "ZLzIYl-3VPOg"
      },
      "source": [
        "#### 5. Print the factorial of a given number."
      ],
      "id": "ZLzIYl-3VPOg"
    },
    {
      "cell_type": "code",
      "execution_count": null,
      "metadata": {
        "id": "SlqIsB_kVPOg"
      },
      "outputs": [],
      "source": [
        "number = 5"
      ],
      "id": "SlqIsB_kVPOg"
    },
    {
      "cell_type": "code",
      "source": [
        "number = 5\n",
        "factorial = 1\n",
        "i = 1\n",
        "\n",
        "while i <= number:\n",
        "    factorial *= i\n",
        "    i += 1\n",
        "\n",
        "print(f\"Factorial of {number} is {factorial}\")\n"
      ],
      "metadata": {
        "id": "NBvbTsm9Xf_a",
        "outputId": "d87c9dee-a6e8-4732-d6ea-6b1036de5b89",
        "colab": {
          "base_uri": "https://localhost:8080/"
        }
      },
      "id": "NBvbTsm9Xf_a",
      "execution_count": 5,
      "outputs": [
        {
          "output_type": "stream",
          "name": "stdout",
          "text": [
            "Factorial of 5 is 120\n"
          ]
        }
      ]
    },
    {
      "cell_type": "code",
      "execution_count": null,
      "metadata": {
        "id": "cBaZp18QVPOg"
      },
      "outputs": [],
      "source": [],
      "id": "cBaZp18QVPOg"
    },
    {
      "cell_type": "markdown",
      "metadata": {
        "id": "8yHBmRD4VPOg"
      },
      "source": [
        "#### 6. Find the sum of all even numbers between 1 and 20."
      ],
      "id": "8yHBmRD4VPOg"
    },
    {
      "cell_type": "code",
      "execution_count": 6,
      "metadata": {
        "id": "VjOosT9IVPOh",
        "outputId": "e4bdd1bd-ac20-4c04-8ee7-79100f776d34",
        "colab": {
          "base_uri": "https://localhost:8080/"
        }
      },
      "outputs": [
        {
          "output_type": "stream",
          "name": "stdout",
          "text": [
            "Sum of even numbers from 1 to 20 is 110\n"
          ]
        }
      ],
      "source": [
        "i = 2           # Start from the first even number\n",
        "total = 0\n",
        "\n",
        "while i <= 20:\n",
        "    total += i\n",
        "    i += 2       # Move to the next even number\n",
        "\n",
        "print(f\"Sum of even numbers from 1 to 20 is {total}\")\n"
      ],
      "id": "VjOosT9IVPOh"
    },
    {
      "cell_type": "markdown",
      "metadata": {
        "id": "PipBEUUuVPOh"
      },
      "source": [
        "#### 7. Check if a given number is a prime number.\n",
        "#### A prime number is a whole number greater than 1 whose only factors are 1 and itself.\n",
        "#### A factor is a whole number that can be divided evenly into another number.\n",
        "#### The first few prime numbers are 2, 3, 5, 7, 11, 13, 17, 19, 23 and 29."
      ],
      "id": "PipBEUUuVPOh"
    },
    {
      "cell_type": "code",
      "execution_count": null,
      "metadata": {
        "id": "uV7Lkh6lVPOh"
      },
      "outputs": [],
      "source": [
        "number = 13"
      ],
      "id": "uV7Lkh6lVPOh"
    },
    {
      "cell_type": "code",
      "execution_count": 7,
      "metadata": {
        "id": "4EGdRcDOVPOh",
        "outputId": "e296a01f-73f4-4b3b-bde5-f50ba44517ae",
        "colab": {
          "base_uri": "https://localhost:8080/"
        }
      },
      "outputs": [
        {
          "output_type": "stream",
          "name": "stdout",
          "text": [
            "13 is a prime number.\n"
          ]
        }
      ],
      "source": [
        "number = 13\n",
        "is_prime = True\n",
        "\n",
        "if number < 2:\n",
        "    is_prime = False\n",
        "else:\n",
        "    i = 2\n",
        "    while i * i <= number:\n",
        "        if number % i == 0:\n",
        "            is_prime = False\n",
        "            break\n",
        "        i += 1\n",
        "\n",
        "if is_prime:\n",
        "    print(f\"{number} is a prime number.\")\n",
        "else:\n",
        "    print(f\"{number} is not a prime number.\")\n"
      ],
      "id": "4EGdRcDOVPOh"
    },
    {
      "cell_type": "markdown",
      "metadata": {
        "id": "ivGxjVnFVPOh"
      },
      "source": [
        "#### 8. Find the greatest common divisor (GCD) of two given numbers."
      ],
      "id": "ivGxjVnFVPOh"
    },
    {
      "cell_type": "code",
      "execution_count": null,
      "metadata": {
        "id": "4MwRA5CGVPOh"
      },
      "outputs": [],
      "source": [
        "a = 56\n",
        "b = 98"
      ],
      "id": "4MwRA5CGVPOh"
    },
    {
      "cell_type": "code",
      "execution_count": 8,
      "metadata": {
        "id": "m18wjFyRVPOh",
        "outputId": "c5e42abc-d1e5-4b07-c92e-28bc68ac5471",
        "colab": {
          "base_uri": "https://localhost:8080/"
        }
      },
      "outputs": [
        {
          "output_type": "stream",
          "name": "stdout",
          "text": [
            "The GCD of 56 and 98 is 14\n"
          ]
        }
      ],
      "source": [
        "a = 56\n",
        "b = 98\n",
        "\n",
        "i = 1\n",
        "gcd = 1\n",
        "\n",
        "while i <= min(a, b):\n",
        "    if a % i == 0 and b % i == 0:\n",
        "        gcd = i\n",
        "    i += 1\n",
        "\n",
        "print(f\"The GCD of {a} and {b} is {gcd}\")\n"
      ],
      "id": "m18wjFyRVPOh"
    },
    {
      "cell_type": "markdown",
      "metadata": {
        "id": "VbQ5HcL3VPOh"
      },
      "source": [
        "#### 9. Reverse a given string."
      ],
      "id": "VbQ5HcL3VPOh"
    },
    {
      "cell_type": "code",
      "execution_count": null,
      "metadata": {
        "id": "71JI6TGyVPOh"
      },
      "outputs": [],
      "source": [
        "text = \"Python\""
      ],
      "id": "71JI6TGyVPOh"
    },
    {
      "cell_type": "code",
      "execution_count": 9,
      "metadata": {
        "id": "-sMa5vjTVPOh",
        "outputId": "570b6ed4-a683-49c7-d701-e3537ab1fdd3",
        "colab": {
          "base_uri": "https://localhost:8080/"
        }
      },
      "outputs": [
        {
          "output_type": "stream",
          "name": "stdout",
          "text": [
            "Reversed string: nohtyP\n"
          ]
        }
      ],
      "source": [
        "text = \"Python\"\n",
        "reversed_text = \"\"\n",
        "i = len(text) - 1  # Start from the last character\n",
        "\n",
        "while i >= 0:\n",
        "    reversed_text += text[i]\n",
        "    i -= 1\n",
        "\n",
        "print(f\"Reversed string: {reversed_text}\")\n"
      ],
      "id": "-sMa5vjTVPOh"
    },
    {
      "cell_type": "markdown",
      "metadata": {
        "id": "5T1CLhemVPOh"
      },
      "source": [
        "#### 10. Count the occurrence of a specific character in a given string."
      ],
      "id": "5T1CLhemVPOh"
    },
    {
      "cell_type": "code",
      "execution_count": null,
      "metadata": {
        "id": "HUYXsYMqVPOi"
      },
      "outputs": [],
      "source": [
        "text = \"Hello, World!\"\n",
        "char_to_count = \"l\""
      ],
      "id": "HUYXsYMqVPOi"
    },
    {
      "cell_type": "code",
      "execution_count": null,
      "metadata": {
        "id": "KbTx4z_kVPOi"
      },
      "outputs": [],
      "source": [],
      "id": "KbTx4z_kVPOi"
    },
    {
      "cell_type": "markdown",
      "metadata": {
        "id": "84GQBEhRVPOi"
      },
      "source": [
        "#### 11. Print a right-angled triangle using asterisks, like below:\n",
        "\n",
        "#### *\n",
        "#### **\n",
        "#### ***\n",
        "#### ****\n",
        "#### *****"
      ],
      "id": "84GQBEhRVPOi"
    },
    {
      "cell_type": "code",
      "execution_count": null,
      "metadata": {
        "id": "2-jw8Jd8VPOi"
      },
      "outputs": [],
      "source": [
        "height = 5"
      ],
      "id": "2-jw8Jd8VPOi"
    },
    {
      "cell_type": "code",
      "execution_count": null,
      "metadata": {
        "id": "rxB4-PtYVPOi"
      },
      "outputs": [],
      "source": [],
      "id": "rxB4-PtYVPOi"
    },
    {
      "cell_type": "markdown",
      "metadata": {
        "id": "WDijECGAVPOi"
      },
      "source": [
        "#### 12. Print a triangle using asterisks, like below:\n",
        "![image.png](https://raw.githubusercontent.com/JunetaeKim/PythonClass/main/week6/StarPyramid.png)"
      ],
      "id": "WDijECGAVPOi"
    },
    {
      "cell_type": "code",
      "execution_count": null,
      "metadata": {
        "id": "x8SfYGIKVPOi"
      },
      "outputs": [],
      "source": [
        "height = 5"
      ],
      "id": "x8SfYGIKVPOi"
    }
  ],
  "metadata": {
    "kernelspec": {
      "display_name": "Python 3",
      "language": "python",
      "name": "python3"
    },
    "language_info": {
      "codemirror_mode": {
        "name": "ipython",
        "version": 3
      },
      "file_extension": ".py",
      "mimetype": "text/x-python",
      "name": "python",
      "nbconvert_exporter": "python",
      "pygments_lexer": "ipython3",
      "version": "3.8.5"
    },
    "colab": {
      "provenance": []
    }
  },
  "nbformat": 4,
  "nbformat_minor": 5
}
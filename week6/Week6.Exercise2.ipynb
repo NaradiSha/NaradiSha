{
  "cells": [
    {
      "cell_type": "markdown",
      "metadata": {
        "id": "_fGWSuk5jZ9w"
      },
      "source": [
        "### \"Solve the problem using a while loop.\n",
        "#### https://colab.research.google.com/github/JunetaeKim/PythonClass/blob/main/week6/Week6.Exercise2.ipynb"
      ],
      "id": "_fGWSuk5jZ9w"
    },
    {
      "cell_type": "markdown",
      "metadata": {
        "id": "W3xPi960jZ9x"
      },
      "source": [
        "#### 1. Print numbers from 1 to 5."
      ],
      "id": "W3xPi960jZ9x"
    },
    {
      "cell_type": "code",
      "source": [
        "i = 1\n",
        "while i <= 5:\n",
        "    print(i)\n",
        "    i += 1\n"
      ],
      "metadata": {
        "id": "kaJdg2QikeXE",
        "outputId": "f9420ffc-d93e-4c19-8f6e-ff324db43f2d",
        "colab": {
          "base_uri": "https://localhost:8080/"
        }
      },
      "id": "kaJdg2QikeXE",
      "execution_count": 6,
      "outputs": [
        {
          "output_type": "stream",
          "name": "stdout",
          "text": [
            "1\n",
            "2\n",
            "3\n",
            "4\n",
            "5\n"
          ]
        }
      ]
    },
    {
      "cell_type": "markdown",
      "metadata": {
        "id": "wLNUH5HkjZ9z"
      },
      "source": [
        "#### 2. Print the square of numbers from 1 to 5."
      ],
      "id": "wLNUH5HkjZ9z"
    },
    {
      "cell_type": "code",
      "execution_count": 7,
      "metadata": {
        "id": "ypeM2WRjjZ9z",
        "outputId": "ab71c91b-051e-4bdc-c2d7-98125c336b82",
        "colab": {
          "base_uri": "https://localhost:8080/"
        }
      },
      "outputs": [
        {
          "output_type": "stream",
          "name": "stdout",
          "text": [
            "1\n",
            "4\n",
            "9\n",
            "16\n",
            "25\n"
          ]
        }
      ],
      "source": [
        "i = 1\n",
        "while i <= 5:\n",
        "    print(i ** 2)\n",
        "    i += 1\n"
      ],
      "id": "ypeM2WRjjZ9z"
    },
    {
      "cell_type": "markdown",
      "metadata": {
        "id": "nXfdLEs5jZ9z"
      },
      "source": [
        "#### 3. Print the sum of numbers from 1 to 10."
      ],
      "id": "nXfdLEs5jZ9z"
    },
    {
      "cell_type": "code",
      "source": [
        "i = 1\n",
        "while i <= 10:\n",
        "    print(i)\n",
        "    i +=1"
      ],
      "metadata": {
        "id": "WzJEvtvCmlyo",
        "outputId": "27184b5b-4e1a-4102-bc2f-e72df3c6c59e",
        "colab": {
          "base_uri": "https://localhost:8080/"
        }
      },
      "id": "WzJEvtvCmlyo",
      "execution_count": 22,
      "outputs": [
        {
          "output_type": "stream",
          "name": "stdout",
          "text": [
            "1\n",
            "2\n",
            "3\n",
            "4\n",
            "5\n",
            "6\n",
            "7\n",
            "8\n",
            "9\n",
            "10\n"
          ]
        }
      ]
    },
    {
      "cell_type": "code",
      "execution_count": 8,
      "metadata": {
        "id": "Pz8CkdU3jZ90",
        "outputId": "8eaa5f0e-5d19-4f7a-d6aa-69741bf4c8d0",
        "colab": {
          "base_uri": "https://localhost:8080/"
        }
      },
      "outputs": [
        {
          "output_type": "stream",
          "name": "stdout",
          "text": [
            "1\n",
            "2\n",
            "3\n",
            "4\n",
            "5\n",
            "6\n",
            "7\n",
            "8\n",
            "9\n",
            "10\n"
          ]
        }
      ],
      "source": [
        "i = 1\n",
        "while i <= 10:\n",
        "    print(i)\n",
        "    i += 1"
      ],
      "id": "Pz8CkdU3jZ90"
    },
    {
      "cell_type": "markdown",
      "metadata": {
        "id": "coeEuqw5jZ90"
      },
      "source": [
        "#### 4. Print the first 5 even numbers."
      ],
      "id": "coeEuqw5jZ90"
    },
    {
      "cell_type": "code",
      "source": [
        "i = 1\n",
        "count = 0\n",
        "while count < 5:\n",
        "   if i % 2 == 0:\n",
        "    print(i)\n",
        "    i += 2\n",
        "    count += 1"
      ],
      "metadata": {
        "id": "KYZuWo-amxo5",
        "outputId": "b040ea57-8c13-4cef-e151-86c72d763c87",
        "colab": {
          "base_uri": "https://localhost:8080/",
          "height": 211
        }
      },
      "id": "KYZuWo-amxo5",
      "execution_count": 27,
      "outputs": [
        {
          "output_type": "error",
          "ename": "KeyboardInterrupt",
          "evalue": "",
          "traceback": [
            "\u001b[0;31m---------------------------------------------------------------------------\u001b[0m",
            "\u001b[0;31mKeyboardInterrupt\u001b[0m                         Traceback (most recent call last)",
            "\u001b[0;32m<ipython-input-27-131850473538>\u001b[0m in \u001b[0;36m<cell line: 0>\u001b[0;34m()\u001b[0m\n\u001b[1;32m      1\u001b[0m \u001b[0mi\u001b[0m \u001b[0;34m=\u001b[0m \u001b[0;36m1\u001b[0m\u001b[0;34m\u001b[0m\u001b[0;34m\u001b[0m\u001b[0m\n\u001b[1;32m      2\u001b[0m \u001b[0mcount\u001b[0m \u001b[0;34m=\u001b[0m \u001b[0;36m0\u001b[0m\u001b[0;34m\u001b[0m\u001b[0;34m\u001b[0m\u001b[0m\n\u001b[0;32m----> 3\u001b[0;31m \u001b[0;32mwhile\u001b[0m \u001b[0mcount\u001b[0m \u001b[0;34m<\u001b[0m \u001b[0;36m5\u001b[0m\u001b[0;34m:\u001b[0m\u001b[0;34m\u001b[0m\u001b[0;34m\u001b[0m\u001b[0m\n\u001b[0m\u001b[1;32m      4\u001b[0m    \u001b[0;32mif\u001b[0m \u001b[0mi\u001b[0m \u001b[0;34m%\u001b[0m \u001b[0;36m2\u001b[0m \u001b[0;34m==\u001b[0m \u001b[0;36m0\u001b[0m\u001b[0;34m:\u001b[0m\u001b[0;34m\u001b[0m\u001b[0;34m\u001b[0m\u001b[0m\n\u001b[1;32m      5\u001b[0m     \u001b[0mprint\u001b[0m\u001b[0;34m(\u001b[0m\u001b[0mi\u001b[0m\u001b[0;34m)\u001b[0m\u001b[0;34m\u001b[0m\u001b[0;34m\u001b[0m\u001b[0m\n",
            "\u001b[0;31mKeyboardInterrupt\u001b[0m: "
          ]
        }
      ]
    },
    {
      "cell_type": "code",
      "execution_count": 20,
      "metadata": {
        "id": "PZSnXBxIjZ90",
        "outputId": "2e8f0b5e-8b85-4723-da84-22d46a69cebc",
        "colab": {
          "base_uri": "https://localhost:8080/"
        }
      },
      "outputs": [
        {
          "output_type": "stream",
          "name": "stdout",
          "text": [
            "2\n",
            "2\n",
            "2\n",
            "2\n",
            "2\n"
          ]
        }
      ],
      "source": [
        "i = 1\n",
        "count = 0\n",
        "while count < 5:\n",
        "  print(i * 2)\n",
        "  i == 2\n",
        "  count += 1\n",
        "\n"
      ],
      "id": "PZSnXBxIjZ90"
    },
    {
      "cell_type": "markdown",
      "metadata": {
        "id": "PpbIjlBFjZ90"
      },
      "source": [
        "#### 5. Print the factorial of a given number."
      ],
      "id": "PpbIjlBFjZ90"
    },
    {
      "cell_type": "code",
      "execution_count": null,
      "metadata": {
        "id": "eLawzPZ1jZ91"
      },
      "outputs": [],
      "source": [
        "number = 5"
      ],
      "id": "eLawzPZ1jZ91"
    },
    {
      "cell_type": "code",
      "execution_count": 25,
      "metadata": {
        "id": "kjl3DDXtjZ91",
        "outputId": "554d37e8-fb73-4587-9504-8d3237d61d23",
        "colab": {
          "base_uri": "https://localhost:8080/"
        }
      },
      "outputs": [
        {
          "output_type": "stream",
          "name": "stdout",
          "text": [
            "Factorial: 120\n"
          ]
        }
      ],
      "source": [
        "number = 5\n",
        "factorial = 1\n",
        "i = 1\n",
        "while i <= number:\n",
        "    factorial *= i\n",
        "    i += 1\n",
        "print(\"Factorial:\", factorial)\n"
      ],
      "id": "kjl3DDXtjZ91"
    },
    {
      "cell_type": "markdown",
      "metadata": {
        "id": "ErxlBtUNjZ91"
      },
      "source": [
        "#### 6. Find the sum of all even numbers between 1 and 20."
      ],
      "id": "ErxlBtUNjZ91"
    },
    {
      "cell_type": "code",
      "execution_count": 14,
      "metadata": {
        "id": "490wtKXmjZ91",
        "outputId": "395c4296-5a4e-410e-8174-41c2a0a75659",
        "colab": {
          "base_uri": "https://localhost:8080/"
        }
      },
      "outputs": [
        {
          "output_type": "stream",
          "name": "stdout",
          "text": [
            "Even Sum: 110\n"
          ]
        }
      ],
      "source": [
        "i = 2\n",
        "even_sum = 0\n",
        "while i <= 20:\n",
        "    even_sum += i\n",
        "    i += 2\n",
        "print(\"Even Sum:\", even_sum)\n"
      ],
      "id": "490wtKXmjZ91"
    },
    {
      "cell_type": "code",
      "source": [],
      "metadata": {
        "id": "EE1gR8ChoJfM"
      },
      "id": "EE1gR8ChoJfM",
      "execution_count": null,
      "outputs": []
    },
    {
      "cell_type": "markdown",
      "metadata": {
        "id": "k8l9MsTOjZ91"
      },
      "source": [
        "#### 7. Check if a given number is a prime number.\n",
        "#### A prime number is a whole number greater than 1 whose only factors are 1 and itself.\n",
        "#### A factor is a whole number that can be divided evenly into another number.\n",
        "#### The first few prime numbers are 2, 3, 5, 7, 11, 13, 17, 19, 23 and 29."
      ],
      "id": "k8l9MsTOjZ91"
    },
    {
      "cell_type": "code",
      "execution_count": 15,
      "metadata": {
        "id": "vqXN9qcTjZ92"
      },
      "outputs": [],
      "source": [
        "number = 13"
      ],
      "id": "vqXN9qcTjZ92"
    },
    {
      "cell_type": "code",
      "execution_count": 21,
      "metadata": {
        "id": "ziIWPeX2jZ92",
        "outputId": "420e8421-4b3c-41d2-fa5f-4ec42b5b76c9",
        "colab": {
          "base_uri": "https://localhost:8080/"
        }
      },
      "outputs": [
        {
          "output_type": "stream",
          "name": "stdout",
          "text": [
            "Prime\n"
          ]
        }
      ],
      "source": [
        "i = 2\n",
        "is_prime = True\n",
        "while i < number:\n",
        "    if number % i == 0:\n",
        "        is_prime = False\n",
        "        break\n",
        "    i += 1\n",
        "print(\"Prime\" if is_prime and number > 1 else \"Not Prime\")\n"
      ],
      "id": "ziIWPeX2jZ92"
    },
    {
      "cell_type": "code",
      "source": [
        "# professor\n",
        "\n",
        "number = 13\n",
        "is_prime = True\n",
        "i = 2\n",
        "while i < number:\n",
        "  if number % 1 == 0:\n",
        "    is_prime = False\n",
        "    break\n",
        "    i += 1\n",
        "    print( )"
      ],
      "metadata": {
        "id": "jy2XST9robJU"
      },
      "id": "jy2XST9robJU",
      "execution_count": null,
      "outputs": []
    },
    {
      "cell_type": "markdown",
      "metadata": {
        "id": "ygceH-0mjZ92"
      },
      "source": [
        "#### 8. Find the greatest common divisor (GCD) of two given numbers."
      ],
      "id": "ygceH-0mjZ92"
    },
    {
      "cell_type": "code",
      "execution_count": null,
      "metadata": {
        "id": "En-fXrfIjZ92"
      },
      "outputs": [],
      "source": [
        "a = 56\n",
        "b = 98"
      ],
      "id": "En-fXrfIjZ92"
    },
    {
      "cell_type": "code",
      "execution_count": null,
      "metadata": {
        "id": "PM09ULkWjZ92"
      },
      "outputs": [],
      "source": [],
      "id": "PM09ULkWjZ92"
    },
    {
      "cell_type": "markdown",
      "metadata": {
        "id": "tbegeLWOjZ92"
      },
      "source": [
        "#### 9. Reverse a given string."
      ],
      "id": "tbegeLWOjZ92"
    },
    {
      "cell_type": "code",
      "execution_count": null,
      "metadata": {
        "id": "jnsldB71jZ92"
      },
      "outputs": [],
      "source": [
        "text = \"Python\""
      ],
      "id": "jnsldB71jZ92"
    },
    {
      "cell_type": "code",
      "execution_count": null,
      "metadata": {
        "id": "NQY-7G7ljZ92"
      },
      "outputs": [],
      "source": [],
      "id": "NQY-7G7ljZ92"
    },
    {
      "cell_type": "markdown",
      "metadata": {
        "id": "oYCq14hZjZ92"
      },
      "source": [
        "#### 10. Count the occurrence of a specific character in a given string."
      ],
      "id": "oYCq14hZjZ92"
    },
    {
      "cell_type": "code",
      "execution_count": null,
      "metadata": {
        "id": "bDjz0wn8jZ93"
      },
      "outputs": [],
      "source": [
        "text = \"Hello, World!\"\n",
        "char_to_count = \"l\""
      ],
      "id": "bDjz0wn8jZ93"
    },
    {
      "cell_type": "code",
      "execution_count": null,
      "metadata": {
        "id": "nEuv6FsFjZ93"
      },
      "outputs": [],
      "source": [],
      "id": "nEuv6FsFjZ93"
    },
    {
      "cell_type": "markdown",
      "metadata": {
        "id": "s0D74QbSjZ93"
      },
      "source": [
        "#### 11. Print a right-angled triangle using asterisks, like below:\n",
        "\n",
        "#### *\n",
        "#### **\n",
        "#### ***\n",
        "#### ****\n",
        "#### *****"
      ],
      "id": "s0D74QbSjZ93"
    },
    {
      "cell_type": "code",
      "execution_count": null,
      "metadata": {
        "id": "hl4vY8r8jZ93"
      },
      "outputs": [],
      "source": [
        "height = 5"
      ],
      "id": "hl4vY8r8jZ93"
    },
    {
      "cell_type": "code",
      "execution_count": null,
      "metadata": {
        "id": "uzKUzq8pjZ93"
      },
      "outputs": [],
      "source": [],
      "id": "uzKUzq8pjZ93"
    },
    {
      "cell_type": "markdown",
      "metadata": {
        "id": "UVaTUtf-jZ93"
      },
      "source": [
        "#### 12. Print a triangle using asterisks, like below:\n",
        "![image.png](https://raw.githubusercontent.com/JunetaeKim/PythonClass/main/week6/StarPyramid.png)"
      ],
      "id": "UVaTUtf-jZ93"
    },
    {
      "cell_type": "code",
      "execution_count": null,
      "metadata": {
        "id": "vHDkf65RjZ93"
      },
      "outputs": [],
      "source": [
        "height = 5"
      ],
      "id": "vHDkf65RjZ93"
    }
  ],
  "metadata": {
    "kernelspec": {
      "display_name": "Python 3",
      "language": "python",
      "name": "python3"
    },
    "language_info": {
      "codemirror_mode": {
        "name": "ipython",
        "version": 3
      },
      "file_extension": ".py",
      "mimetype": "text/x-python",
      "name": "python",
      "nbconvert_exporter": "python",
      "pygments_lexer": "ipython3",
      "version": "3.8.5"
    },
    "colab": {
      "provenance": []
    }
  },
  "nbformat": 4,
  "nbformat_minor": 5
}
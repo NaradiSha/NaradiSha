{
  "cells": [
    {
      "cell_type": "markdown",
      "metadata": {
        "id": "wmEw9tuyMczS"
      },
      "source": [
        "## Objective: To learn and understand the usage of for loops in Python <br>\n",
        "https://colab.research.google.com/github/JunetaeKim/PythonClass/blob/main/week6/Week6.1.ipynb\n",
        "### Outline:\n",
        "\n",
        "#### ① Introduction to For Loops\n",
        "#### ② Basic For Loop Syntax\n",
        "#### ③ Looping Through a List\n",
        "#### ④ Looping Through a Tuple\n",
        "#### ⑤ Looping Through a String\n",
        "#### ⑥ Looping Through a Dictionary\n",
        "#### ⑦ Looping Through a Set\n",
        "#### ⑧ Looping Through a Range\n",
        "#### ⑨ Using enumerate() with For Loops\n",
        "#### ⑩ Nested For Loops\n",
        "#### ⑪ List Comprehensions\n",
        "#### ⑫ Examples of For Loops"
      ],
      "id": "wmEw9tuyMczS"
    },
    {
      "cell_type": "code",
      "execution_count": null,
      "metadata": {
        "id": "RdIz08NsMczT"
      },
      "outputs": [],
      "source": [],
      "id": "RdIz08NsMczT"
    },
    {
      "cell_type": "markdown",
      "metadata": {
        "tags": [],
        "id": "OxQxaZg4MczT"
      },
      "source": [
        "### 1. Introduction to For Loops\n",
        "#### For loops in Python are used for iterating over a sequence (a list, tuple, set, string, or dictionary).\n",
        "#### They allow you to execute a block of code for each item in the sequence."
      ],
      "id": "OxQxaZg4MczT"
    },
    {
      "cell_type": "markdown",
      "metadata": {
        "id": "BM7e_6blMczU"
      },
      "source": [
        "![Forloop.png](https://raw.githubusercontent.com/JunetaeKim/PythonClass/main/week6/IntroForLoop.png)"
      ],
      "id": "BM7e_6blMczU"
    },
    {
      "cell_type": "markdown",
      "metadata": {
        "id": "fB9qqjqrMczU"
      },
      "source": [
        "#### Introduction to basic syntax of while loop\n",
        "#### https://pynative.com/python-while-loop/\n",
        "![image.png](https://raw.githubusercontent.com/JunetaeKim/PythonClass/main/week6/SyntaxForLoop.png)!"
      ],
      "id": "fB9qqjqrMczU"
    },
    {
      "cell_type": "code",
      "execution_count": null,
      "metadata": {
        "id": "uRyZTrkqMczU"
      },
      "outputs": [],
      "source": [],
      "id": "uRyZTrkqMczU"
    },
    {
      "cell_type": "markdown",
      "metadata": {
        "id": "Eh0vzh-JMczU"
      },
      "source": [
        "### 2. Basic For Loop Syntax\n",
        "#### The basic syntax of a for loop in Python is."
      ],
      "id": "Eh0vzh-JMczU"
    },
    {
      "cell_type": "code",
      "execution_count": null,
      "metadata": {
        "id": "M6D_6c0wMczV"
      },
      "outputs": [],
      "source": [
        "for variable in sequence:\n",
        "    # Code to execute for each item"
      ],
      "id": "M6D_6c0wMczV"
    },
    {
      "cell_type": "code",
      "execution_count": null,
      "metadata": {
        "id": "PM7FVEAKMczV"
      },
      "outputs": [],
      "source": [],
      "id": "PM7FVEAKMczV"
    },
    {
      "cell_type": "markdown",
      "metadata": {
        "tags": [],
        "id": "txdqMzSZMczV"
      },
      "source": [
        "### 3. Looping Through a List\n",
        "#### To loop through a list, you can use a for loop like this."
      ],
      "id": "txdqMzSZMczV"
    },
    {
      "cell_type": "code",
      "execution_count": 1,
      "metadata": {
        "id": "h473b4j2MczV",
        "outputId": "0924e96a-56b4-4983-bec4-f43b29b11642",
        "colab": {
          "base_uri": "https://localhost:8080/"
        }
      },
      "outputs": [
        {
          "output_type": "stream",
          "name": "stdout",
          "text": [
            "apple\n",
            "banana\n",
            "orange\n"
          ]
        }
      ],
      "source": [
        "fruits = ['apple', 'banana', 'orange']\n",
        "for fruit in fruits:\n",
        "    print(fruit)"
      ],
      "id": "h473b4j2MczV"
    },
    {
      "cell_type": "code",
      "execution_count": null,
      "metadata": {
        "id": "CSc5BjDsMczW"
      },
      "outputs": [],
      "source": [],
      "id": "CSc5BjDsMczW"
    },
    {
      "cell_type": "markdown",
      "metadata": {
        "id": "gAScI34SMczW"
      },
      "source": [
        "### 4. Looping Through a Tuple\n",
        "#### Looping through a tuple is similar to looping through a list."
      ],
      "id": "gAScI34SMczW"
    },
    {
      "cell_type": "code",
      "execution_count": null,
      "metadata": {
        "id": "cWp7mM8TMczW",
        "outputId": "422991e7-067b-4c28-d4a8-79a502aa988d"
      },
      "outputs": [
        {
          "name": "stdout",
          "output_type": "stream",
          "text": [
            "red\n",
            "green\n",
            "blue\n"
          ]
        }
      ],
      "source": [
        "colors = ('red', 'green', 'blue')\n",
        "for color in colors:\n",
        "    print(color)"
      ],
      "id": "cWp7mM8TMczW"
    },
    {
      "cell_type": "code",
      "execution_count": null,
      "metadata": {
        "id": "BI35R1rFMczW"
      },
      "outputs": [],
      "source": [],
      "id": "BI35R1rFMczW"
    },
    {
      "cell_type": "markdown",
      "metadata": {
        "id": "z65nZAHjMczW"
      },
      "source": [
        "### 5. Looping Through a String\n",
        "#### You can loop through a string to access each character."
      ],
      "id": "z65nZAHjMczW"
    },
    {
      "cell_type": "code",
      "execution_count": 2,
      "metadata": {
        "id": "9I3CEqitMczX",
        "outputId": "c2c26382-a5bb-439e-aaf2-383cc5ffec06",
        "colab": {
          "base_uri": "https://localhost:8080/"
        }
      },
      "outputs": [
        {
          "output_type": "stream",
          "name": "stdout",
          "text": [
            "h\n",
            "e\n",
            "l\n",
            "l\n",
            "o\n"
          ]
        }
      ],
      "source": [
        "text = \"hello\"\n",
        "for char in text:\n",
        "    print(char)"
      ],
      "id": "9I3CEqitMczX"
    },
    {
      "cell_type": "code",
      "execution_count": null,
      "metadata": {
        "id": "sHQ_NbfpMczX"
      },
      "outputs": [],
      "source": [],
      "id": "sHQ_NbfpMczX"
    },
    {
      "cell_type": "markdown",
      "metadata": {
        "id": "tV_mVfh4MczX"
      },
      "source": [
        "### 6. Looping Through a Dictionary\n",
        "#### To loop through a dictionary, you can use the .items() method to access both keys and values."
      ],
      "id": "tV_mVfh4MczX"
    },
    {
      "cell_type": "code",
      "execution_count": 4,
      "metadata": {
        "id": "ooQs8GByMczX",
        "outputId": "9749c63b-d416-4938-9d2d-05a69ec170f5",
        "colab": {
          "base_uri": "https://localhost:8080/"
        }
      },
      "outputs": [
        {
          "output_type": "stream",
          "name": "stdout",
          "text": [
            "name: John\n",
            "age: 25\n",
            "city: New York\n"
          ]
        }
      ],
      "source": [
        "person = {'name': 'John', 'age': 25, 'city': 'New York'}\n",
        "for key, value in person.items():\n",
        "    print(f\"{key}: {value}\")"
      ],
      "id": "ooQs8GByMczX"
    },
    {
      "cell_type": "code",
      "execution_count": null,
      "metadata": {
        "id": "9BduJXVwMczX"
      },
      "outputs": [],
      "source": [],
      "id": "9BduJXVwMczX"
    },
    {
      "cell_type": "markdown",
      "metadata": {
        "id": "zDlMaUe8MczX"
      },
      "source": [
        "### 7. Looping Through a Set\n",
        "#### Looping through a set is similar to looping through a list or tuple."
      ],
      "id": "zDlMaUe8MczX"
    },
    {
      "cell_type": "code",
      "execution_count": null,
      "metadata": {
        "id": "qdaRA6jxMczX",
        "outputId": "3119c9b7-ee8c-445a-b9f6-0a97e8f73166"
      },
      "outputs": [
        {
          "name": "stdout",
          "output_type": "stream",
          "text": [
            "1\n",
            "2\n",
            "3\n",
            "4\n",
            "5\n"
          ]
        }
      ],
      "source": [
        "unique_numbers = {1, 2, 3, 4, 5}\n",
        "for number in unique_numbers:\n",
        "    print(number)"
      ],
      "id": "qdaRA6jxMczX"
    },
    {
      "cell_type": "code",
      "execution_count": null,
      "metadata": {
        "id": "N7pmA_kvMczX"
      },
      "outputs": [],
      "source": [],
      "id": "N7pmA_kvMczX"
    },
    {
      "cell_type": "markdown",
      "metadata": {
        "id": "FCxOys_-MczX"
      },
      "source": [
        "### 8. Looping Through a Range\n",
        "#### You can use the range() function to loop through a sequence of numbers."
      ],
      "id": "FCxOys_-MczX"
    },
    {
      "cell_type": "code",
      "execution_count": null,
      "metadata": {
        "id": "lxY1bB6oMczX",
        "outputId": "d55e6c26-12e4-4fb4-f088-e0c3452f6fed"
      },
      "outputs": [
        {
          "name": "stdout",
          "output_type": "stream",
          "text": [
            "0\n",
            "1\n",
            "2\n",
            "3\n",
            "4\n"
          ]
        }
      ],
      "source": [
        "for i in range(5):\n",
        "    print(i)"
      ],
      "id": "lxY1bB6oMczX"
    },
    {
      "cell_type": "code",
      "execution_count": 5,
      "metadata": {
        "id": "K0tllFiYMczX",
        "outputId": "ceb14d26-fb39-4a2c-8264-e099226171d0",
        "colab": {
          "base_uri": "https://localhost:8080/"
        }
      },
      "outputs": [
        {
          "output_type": "execute_result",
          "data": {
            "text/plain": [
              "range(0, 5)"
            ]
          },
          "metadata": {},
          "execution_count": 5
        }
      ],
      "source": [
        "range(5)  # default is zero"
      ],
      "id": "K0tllFiYMczX"
    },
    {
      "cell_type": "code",
      "source": [
        "for i in range(1, 10, 2):   # 2 shows interval\n",
        " print(i)"
      ],
      "metadata": {
        "id": "oGvNqC0COM-K",
        "outputId": "48af114f-9d35-4c59-b714-d740650ee2d6",
        "colab": {
          "base_uri": "https://localhost:8080/"
        }
      },
      "id": "oGvNqC0COM-K",
      "execution_count": 7,
      "outputs": [
        {
          "output_type": "stream",
          "name": "stdout",
          "text": [
            "1\n",
            "3\n",
            "5\n",
            "7\n",
            "9\n"
          ]
        }
      ]
    },
    {
      "cell_type": "code",
      "source": [
        "for i in range(1, 10):   # all numbers within the range\n",
        " print(i)"
      ],
      "metadata": {
        "id": "lnKhMRaDO4BN",
        "outputId": "0274f21a-0d80-41de-86a9-327988cef023",
        "colab": {
          "base_uri": "https://localhost:8080/"
        }
      },
      "id": "lnKhMRaDO4BN",
      "execution_count": 8,
      "outputs": [
        {
          "output_type": "stream",
          "name": "stdout",
          "text": [
            "1\n",
            "2\n",
            "3\n",
            "4\n",
            "5\n",
            "6\n",
            "7\n",
            "8\n",
            "9\n"
          ]
        }
      ]
    },
    {
      "cell_type": "markdown",
      "metadata": {
        "id": "Yn7QKk4aMczY"
      },
      "source": [
        "### 9. Using enumerate() with For Loops\n",
        "#### The enumerate() function can be used with a for loop to get both the index and value of each item in a sequence."
      ],
      "id": "Yn7QKk4aMczY"
    },
    {
      "cell_type": "code",
      "execution_count": null,
      "metadata": {
        "id": "ww91z5G6MczY",
        "outputId": "803a93d7-7f97-47ed-ec1d-c220b7a44fe5"
      },
      "outputs": [
        {
          "name": "stdout",
          "output_type": "stream",
          "text": [
            "0: apple\n",
            "1: banana\n",
            "2: orange\n"
          ]
        }
      ],
      "source": [
        "fruits = ['apple', 'banana', 'orange']  # which index is indicate the items\n",
        "for index, fruit in enumerate(fruits):\n",
        "    print(f\"{index}: {fruit}\")"
      ],
      "id": "ww91z5G6MczY"
    },
    {
      "cell_type": "code",
      "execution_count": null,
      "metadata": {
        "id": "UNr8lNnNMczY"
      },
      "outputs": [],
      "source": [],
      "id": "UNr8lNnNMczY"
    },
    {
      "cell_type": "markdown",
      "metadata": {
        "id": "1YlBm5ZAMczY"
      },
      "source": [
        "### 10. Nested For Loops\n",
        "#### You can use nested for loops to loop through multiple dimensions, such as a matrix."
      ],
      "id": "1YlBm5ZAMczY"
    },
    {
      "cell_type": "code",
      "execution_count": null,
      "metadata": {
        "id": "suKx5XQsMczY",
        "outputId": "7f285dbf-b628-4d4e-83ae-3f7bd8240613"
      },
      "outputs": [
        {
          "name": "stdout",
          "output_type": "stream",
          "text": [
            "1 2 3 \n",
            "4 5 6 \n",
            "7 8 9 \n"
          ]
        }
      ],
      "source": [
        "matrix = [                                # two dimnesion raw and coloumn\n",
        "    [1, 2, 3],\n",
        "    [4, 5, 6],\n",
        "    [7, 8, 9]\n",
        "]\n",
        "\n",
        "for row in matrix:\n",
        "    for element in row:\n",
        "        print(element, end=\" \")\n",
        "    print()"
      ],
      "id": "suKx5XQsMczY"
    },
    {
      "cell_type": "code",
      "source": [
        "matrix = [                                # two dimnesion raw and coloumn\n",
        "    [1, 2, 3],\n",
        "    [4, 5, 6],\n",
        "    [7, 8, 9]\n",
        "]\n",
        "\n",
        "for row in matrix:\n",
        "    for element in row:\n",
        "        print(element)    # no line change\n",
        "    print()"
      ],
      "metadata": {
        "id": "HAOYZFyuP6V5",
        "outputId": "c7adf3e1-1b64-45c6-f778-166580ce486e",
        "colab": {
          "base_uri": "https://localhost:8080/"
        }
      },
      "id": "HAOYZFyuP6V5",
      "execution_count": 9,
      "outputs": [
        {
          "output_type": "stream",
          "name": "stdout",
          "text": [
            "1\n",
            "2\n",
            "3\n",
            "\n",
            "4\n",
            "5\n",
            "6\n",
            "\n",
            "7\n",
            "8\n",
            "9\n",
            "\n"
          ]
        }
      ]
    },
    {
      "cell_type": "code",
      "source": [],
      "metadata": {
        "id": "NWYyCS5SP6Qj"
      },
      "id": "NWYyCS5SP6Qj",
      "execution_count": null,
      "outputs": []
    },
    {
      "cell_type": "code",
      "execution_count": null,
      "metadata": {
        "id": "DNBMRkp-MczY"
      },
      "outputs": [],
      "source": [],
      "id": "DNBMRkp-MczY"
    },
    {
      "cell_type": "markdown",
      "metadata": {
        "id": "X8ERxU6IMczY"
      },
      "source": [
        "### 11. List Comprehensions\n",
        "#### List comprehensions provide a concise way to create lists using a for loop."
      ],
      "id": "X8ERxU6IMczY"
    },
    {
      "cell_type": "code",
      "execution_count": 10,
      "metadata": {
        "id": "3aUfem9fMczY",
        "outputId": "40fbe1d1-7305-4312-e78f-f6524ae97ed8",
        "colab": {
          "base_uri": "https://localhost:8080/"
        }
      },
      "outputs": [
        {
          "output_type": "stream",
          "name": "stdout",
          "text": [
            "[1, 4, 9, 16, 25]\n"
          ]
        }
      ],
      "source": [
        "squares = [x**2 for x in range(1, 6)]     ## we donot count the last number # x squared for 1,2,3,4,5   ## [] within list\n",
        "print(squares)"
      ],
      "id": "3aUfem9fMczY"
    },
    {
      "cell_type": "code",
      "execution_count": null,
      "metadata": {
        "id": "KGjtr2FrMczY"
      },
      "outputs": [],
      "source": [],
      "id": "KGjtr2FrMczY"
    },
    {
      "cell_type": "markdown",
      "metadata": {
        "id": "2AKBRXo-MczY"
      },
      "source": [
        "### 12. Examples of For Loops\n",
        "#### 12.1 Calculate the sum of a list of numbers"
      ],
      "id": "2AKBRXo-MczY"
    },
    {
      "cell_type": "code",
      "execution_count": 11,
      "metadata": {
        "id": "gEq-o58wMczY",
        "outputId": "f8cc4f6d-1638-4237-dc96-2b80f4c4bfc5",
        "colab": {
          "base_uri": "https://localhost:8080/"
        }
      },
      "outputs": [
        {
          "output_type": "stream",
          "name": "stdout",
          "text": [
            "Sum of all elements: 15\n"
          ]
        }
      ],
      "source": [
        "# Calculate the sum of a list of numbers\n",
        "numbers = [1, 2, 3, 4, 5]\n",
        "total = 0\n",
        "for num in numbers:\n",
        "    total += num\n",
        "print(f\"Sum of all elements: {total}\")"
      ],
      "id": "gEq-o58wMczY"
    },
    {
      "cell_type": "code",
      "execution_count": null,
      "metadata": {
        "id": "OfeinfDoMczZ"
      },
      "outputs": [],
      "source": [],
      "id": "OfeinfDoMczZ"
    },
    {
      "cell_type": "markdown",
      "metadata": {
        "id": "px0hPQk3Mczd"
      },
      "source": [
        "#### 12.2 Calculate the sum of a list of numbers"
      ],
      "id": "px0hPQk3Mczd"
    },
    {
      "cell_type": "code",
      "execution_count": null,
      "metadata": {
        "id": "secmz665Mczd",
        "outputId": "7bd0e9a2-c1a0-4487-f6a1-4b05d9d7a587"
      },
      "outputs": [
        {
          "name": "stdout",
          "output_type": "stream",
          "text": [
            "Longest word: strawberry\n"
          ]
        }
      ],
      "source": [
        "# Find the longest word in a list\n",
        "words = ['apple', 'banana', 'orange', 'strawberry', 'kiwi']\n",
        "longest_word = ''\n",
        "for word in words:\n",
        "    if len(word) > len(longest_word):\n",
        "        longest_word = word                               # longest word replace with current word\n",
        "print(f\"Longest word: {longest_word}\")"
      ],
      "id": "secmz665Mczd"
    },
    {
      "cell_type": "code",
      "execution_count": null,
      "metadata": {
        "id": "e5Lc45gwMczd"
      },
      "outputs": [],
      "source": [],
      "id": "e5Lc45gwMczd"
    },
    {
      "cell_type": "markdown",
      "metadata": {
        "id": "epSI2zfxMczd"
      },
      "source": [
        "#### 12.3 Calculate the sum of a list of numbers"
      ],
      "id": "epSI2zfxMczd"
    },
    {
      "cell_type": "code",
      "execution_count": 13,
      "metadata": {
        "id": "Cyum04xgMczd",
        "outputId": "89797875-4913-4917-c52c-0c65a54f7b29",
        "colab": {
          "base_uri": "https://localhost:8080/"
        }
      },
      "outputs": [
        {
          "output_type": "stream",
          "name": "stdout",
          "text": [
            "Occurrences of 'l': 3\n"
          ]
        }
      ],
      "source": [
        "# Count the occurrences of a specific character in a string\n",
        "text = \"hello world\"\n",
        "target_char = 'l'    # how many L exist\n",
        "count = 0\n",
        "for char in text:\n",
        "    if char == target_char:\n",
        "        count += 1\n",
        "print(f\"Occurrences of '{target_char}': {count}\")"
      ],
      "id": "Cyum04xgMczd"
    },
    {
      "cell_type": "code",
      "execution_count": null,
      "metadata": {
        "id": "yl2hdSJSMczd"
      },
      "outputs": [],
      "source": [],
      "id": "yl2hdSJSMczd"
    },
    {
      "cell_type": "markdown",
      "metadata": {
        "id": "U_Mwc316Mczd"
      },
      "source": [
        "#### 12.4 Remove duplicates from a list using a set"
      ],
      "id": "U_Mwc316Mczd"
    },
    {
      "cell_type": "code",
      "execution_count": null,
      "metadata": {
        "id": "aq9GHv_MMcze",
        "outputId": "9d5cb398-ba48-42e2-fb7e-c910aa0076a0"
      },
      "outputs": [
        {
          "name": "stdout",
          "output_type": "stream",
          "text": [
            "Unique list: [1, 2, 3, 4, 5, 6]\n"
          ]
        }
      ],
      "source": [
        "# Remove duplicates from a list using a set\n",
        "original_list = [1, 2, 2, 3, 4, 4, 5, 6, 6]\n",
        "unique_list = list(set(original_list))\n",
        "print(f\"Unique list: {unique_list}\")"
      ],
      "id": "aq9GHv_MMcze"
    },
    {
      "cell_type": "code",
      "execution_count": 19,
      "metadata": {
        "id": "kg0zaZDdMcze",
        "outputId": "198118c3-5996-4f73-ab78-4614ecf90193",
        "colab": {
          "base_uri": "https://localhost:8080/"
        }
      },
      "outputs": [
        {
          "output_type": "stream",
          "name": "stdout",
          "text": [
            "[1]\n",
            "[1, 2]\n",
            "[1, 2, 3]\n",
            "[1, 2, 3, 4]\n",
            "[1, 2, 3, 4, 5]\n",
            "[1, 2, 3, 4, 5, 6]\n"
          ]
        }
      ],
      "source": [
        "tmp = []\n",
        "for i in [1, 2, 2, 3, 4, 4, 5, 6, 6]:\n",
        "  if i not in tmp:\n",
        "    tmp.append(i)\n",
        "    print(tmp)      ## changing the position of the print , it may be changed of results"
      ],
      "id": "kg0zaZDdMcze"
    },
    {
      "cell_type": "markdown",
      "metadata": {
        "id": "0l3cO9PRMcze"
      },
      "source": [
        "#### 12.5 Calculate the factorial of a number using a for loop"
      ],
      "id": "0l3cO9PRMcze"
    },
    {
      "cell_type": "code",
      "execution_count": 21,
      "metadata": {
        "id": "0Uu6-KKrMcze",
        "outputId": "86b9b95a-94b8-4482-cbf6-32ff35b42959",
        "colab": {
          "base_uri": "https://localhost:8080/"
        }
      },
      "outputs": [
        {
          "output_type": "stream",
          "name": "stdout",
          "text": [
            "Factorial of 5: 120\n"
          ]
        }
      ],
      "source": [
        "# Calculate the factorial of a number using a for loop\n",
        "num = 5\n",
        "factorial = 1\n",
        "for i in range(1, num + 1):\n",
        "    factorial *= i     ### multiple by factorial\n",
        "print(f\"Factorial of {num}: {factorial}\")"
      ],
      "id": "0Uu6-KKrMcze"
    }
  ],
  "metadata": {
    "kernelspec": {
      "display_name": "Python 3",
      "language": "python",
      "name": "python3"
    },
    "language_info": {
      "codemirror_mode": {
        "name": "ipython",
        "version": 3
      },
      "file_extension": ".py",
      "mimetype": "text/x-python",
      "name": "python",
      "nbconvert_exporter": "python",
      "pygments_lexer": "ipython3",
      "version": "3.8.5"
    },
    "colab": {
      "provenance": []
    }
  },
  "nbformat": 4,
  "nbformat_minor": 5
}
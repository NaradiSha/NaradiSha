{
  "cells": [
    {
      "cell_type": "markdown",
      "id": "1720409c",
      "metadata": {
        "id": "1720409c"
      },
      "source": [
        "#### https://colab.research.google.com/github/JunetaeKim/PythonClass/blob/main/week4/Week4.Exercise1.ipynb"
      ]
    },
    {
      "cell_type": "markdown",
      "id": "7eded212",
      "metadata": {
        "id": "7eded212"
      },
      "source": [
        "#### 1. Convert the given list to a tuple."
      ]
    },
    {
      "cell_type": "code",
      "execution_count": null,
      "id": "c08d4481",
      "metadata": {
        "id": "c08d4481"
      },
      "outputs": [],
      "source": [
        "fruits = [\"apple\", \"banana\", \"cherry\"]"
      ]
    },
    {
      "cell_type": "code",
      "execution_count": 1,
      "id": "49749eaf",
      "metadata": {
        "id": "49749eaf",
        "outputId": "00809883-1526-4314-b30d-01044af95a68",
        "colab": {
          "base_uri": "https://localhost:8080/"
        }
      },
      "outputs": [
        {
          "output_type": "stream",
          "name": "stdout",
          "text": [
            "('apple', 'banana', 'cherry')\n"
          ]
        }
      ],
      "source": [
        "fruits = (\"apple\",\"banana\",\"cherry\")\n",
        "print(fruits)"
      ]
    },
    {
      "cell_type": "markdown",
      "id": "b81062d9",
      "metadata": {
        "id": "b81062d9"
      },
      "source": [
        "#### 2. Convert the given tuple to a list."
      ]
    },
    {
      "cell_type": "code",
      "execution_count": 3,
      "id": "6fdaea0b",
      "metadata": {
        "id": "6fdaea0b",
        "outputId": "67b705b9-d120-4d32-f6b8-8f9ee08a867a",
        "colab": {
          "base_uri": "https://localhost:8080/"
        }
      },
      "outputs": [
        {
          "output_type": "stream",
          "name": "stdout",
          "text": [
            "['apple', 'banana', 'cherry']\n"
          ]
        }
      ],
      "source": [
        "fruits_tuple = (\"apple\", \"banana\", \"cherry\")\n",
        "fruits_list = [\"apple\", \"banana\", \"cherry\"]\n",
        "print(fruits_list)"
      ]
    },
    {
      "cell_type": "code",
      "execution_count": null,
      "id": "4e3533d9",
      "metadata": {
        "id": "4e3533d9"
      },
      "outputs": [],
      "source": []
    },
    {
      "cell_type": "markdown",
      "id": "7aaffd8c",
      "metadata": {
        "id": "7aaffd8c"
      },
      "source": [
        "#### 3. Convert the given list to a set."
      ]
    },
    {
      "cell_type": "code",
      "execution_count": null,
      "id": "a7446142",
      "metadata": {
        "id": "a7446142"
      },
      "outputs": [],
      "source": [
        "fruits = [\"apple\", \"banana\", \"cherry\", \"apple\", \"banana\"]"
      ]
    },
    {
      "cell_type": "code",
      "execution_count": null,
      "id": "c5cf42fc",
      "metadata": {
        "id": "c5cf42fc"
      },
      "outputs": [],
      "source": []
    },
    {
      "cell_type": "markdown",
      "id": "242ea4c4",
      "metadata": {
        "id": "242ea4c4"
      },
      "source": [
        "#### 4. Find the intersection of two given sets."
      ]
    },
    {
      "cell_type": "code",
      "execution_count": 5,
      "id": "b9bbeed2",
      "metadata": {
        "id": "b9bbeed2",
        "outputId": "d877a850-bf82-4c90-d5bd-df44711bfd40",
        "colab": {
          "base_uri": "https://localhost:8080/"
        }
      },
      "outputs": [
        {
          "output_type": "stream",
          "name": "stdout",
          "text": [
            "{4, 5}\n"
          ]
        }
      ],
      "source": [
        "set1 = {1, 2, 3, 4, 5}\n",
        "set2 = {4, 5, 6, 7, 8}\n",
        "\n",
        "intersection = set1.intersection(set2)\n",
        "print(intersection)"
      ]
    },
    {
      "cell_type": "markdown",
      "id": "fac36217",
      "metadata": {
        "id": "fac36217"
      },
      "source": [
        "#### 5. Find the union of two given sets."
      ]
    },
    {
      "cell_type": "code",
      "execution_count": 7,
      "id": "01690986",
      "metadata": {
        "id": "01690986",
        "outputId": "2c27538a-74b2-4c25-f701-966bc069adad",
        "colab": {
          "base_uri": "https://localhost:8080/"
        }
      },
      "outputs": [
        {
          "output_type": "stream",
          "name": "stdout",
          "text": [
            "{1, 2, 3, 4, 5, 6, 7, 8}\n"
          ]
        }
      ],
      "source": [
        "from typing import Union\n",
        "set1 = {1, 2, 3, 4, 5}\n",
        "set2 = {4, 5, 6, 7, 8}\n",
        "\n",
        "Union = set1.union(set2)\n",
        "print(Union)"
      ]
    },
    {
      "cell_type": "markdown",
      "id": "ebe2d371",
      "metadata": {
        "id": "ebe2d371"
      },
      "source": [
        "#### 6. Find the difference between two given sets."
      ]
    },
    {
      "cell_type": "code",
      "execution_count": 8,
      "id": "0e088eba",
      "metadata": {
        "id": "0e088eba",
        "outputId": "5274b06e-a0ec-4fd6-f023-10e77cb0cbcd",
        "colab": {
          "base_uri": "https://localhost:8080/"
        }
      },
      "outputs": [
        {
          "output_type": "stream",
          "name": "stdout",
          "text": [
            "{1, 2, 3}\n"
          ]
        }
      ],
      "source": [
        "set1 = {1, 2, 3, 4, 5}\n",
        "set2 = {4, 5, 6, 7, 8}\n",
        "\n",
        "difference = set1.difference(set2)\n",
        "print(difference)"
      ]
    },
    {
      "cell_type": "code",
      "execution_count": null,
      "id": "d1fa7057",
      "metadata": {
        "id": "d1fa7057"
      },
      "outputs": [],
      "source": []
    },
    {
      "cell_type": "markdown",
      "id": "5fde0a5a",
      "metadata": {
        "id": "5fde0a5a"
      },
      "source": [
        "#### 7. Check if the given element exists in the tuple."
      ]
    },
    {
      "cell_type": "code",
      "execution_count": 10,
      "id": "e986c987",
      "metadata": {
        "id": "e986c987",
        "outputId": "1623c8f8-9910-475e-af9a-d5b8f61e41c0",
        "colab": {
          "base_uri": "https://localhost:8080/"
        }
      },
      "outputs": [
        {
          "output_type": "stream",
          "name": "stdout",
          "text": [
            "True\n"
          ]
        }
      ],
      "source": [
        "fruits_tuple = (\"apple\", \"banana\", \"cherry\")\n",
        "element = \"apple\"\n",
        "\n",
        "exists = element in fruits_tuple\n",
        "print(exists)"
      ]
    },
    {
      "cell_type": "markdown",
      "id": "95e0eaba",
      "metadata": {
        "id": "95e0eaba"
      },
      "source": [
        "#### 8. Add an element to the given set."
      ]
    },
    {
      "cell_type": "code",
      "execution_count": 11,
      "id": "8bfe3a9d",
      "metadata": {
        "id": "8bfe3a9d",
        "outputId": "dc24c4df-2d5c-473e-a702-d26a4059ab82",
        "colab": {
          "base_uri": "https://localhost:8080/"
        }
      },
      "outputs": [
        {
          "output_type": "stream",
          "name": "stdout",
          "text": [
            "{'orange', 'apple', 'cherry', 'banana'}\n"
          ]
        }
      ],
      "source": [
        "fruits_set = {\"apple\", \"banana\", \"cherry\"}\n",
        "element = \"orange\"\n",
        "\n",
        "Add = fruits_set.add(element)\n",
        "print(fruits_set)"
      ]
    },
    {
      "cell_type": "code",
      "execution_count": null,
      "id": "62a2478e",
      "metadata": {
        "id": "62a2478e"
      },
      "outputs": [],
      "source": []
    },
    {
      "cell_type": "markdown",
      "id": "4ba947b6",
      "metadata": {
        "id": "4ba947b6"
      },
      "source": [
        "#### 9. Remove an element from the given set."
      ]
    },
    {
      "cell_type": "code",
      "execution_count": 12,
      "id": "fd6ce904",
      "metadata": {
        "id": "fd6ce904",
        "outputId": "cdaf64ad-6d0d-40b6-a9e6-d4922a985885",
        "colab": {
          "base_uri": "https://localhost:8080/"
        }
      },
      "outputs": [
        {
          "output_type": "stream",
          "name": "stdout",
          "text": [
            "{'apple', 'cherry'}\n"
          ]
        }
      ],
      "source": [
        "fruits_set = {\"apple\", \"banana\", \"cherry\"}\n",
        "element = \"banana\"\n",
        "\n",
        "remove = fruits_set.remove(element)\n",
        "print(fruits_set)"
      ]
    },
    {
      "cell_type": "code",
      "execution_count": null,
      "id": "a4921606",
      "metadata": {
        "id": "a4921606"
      },
      "outputs": [],
      "source": []
    },
    {
      "cell_type": "markdown",
      "id": "a725e44f",
      "metadata": {
        "id": "a725e44f"
      },
      "source": [
        "#### 10. Find the length of the given tuple."
      ]
    },
    {
      "cell_type": "code",
      "execution_count": 13,
      "id": "0d841ea0",
      "metadata": {
        "id": "0d841ea0",
        "outputId": "e26652fc-e4e7-4eb5-e574-2f7577869ac5",
        "colab": {
          "base_uri": "https://localhost:8080/"
        }
      },
      "outputs": [
        {
          "output_type": "stream",
          "name": "stdout",
          "text": [
            "3\n"
          ]
        }
      ],
      "source": [
        "fruits_tuple = (\"apple\", \"banana\", \"cherry\")\n",
        "length = len(fruits_tuple)\n",
        "print(length)"
      ]
    },
    {
      "cell_type": "code",
      "execution_count": null,
      "id": "1d91e6df",
      "metadata": {
        "id": "1d91e6df"
      },
      "outputs": [],
      "source": []
    },
    {
      "cell_type": "markdown",
      "id": "44af1d20",
      "metadata": {
        "id": "44af1d20"
      },
      "source": [
        "#### 11. Find the index of the given element in the tuple."
      ]
    },
    {
      "cell_type": "code",
      "execution_count": 14,
      "id": "708ce0db",
      "metadata": {
        "id": "708ce0db",
        "outputId": "5a4749f5-ab31-45f2-a85e-9ad5d5d8481b",
        "colab": {
          "base_uri": "https://localhost:8080/"
        }
      },
      "outputs": [
        {
          "output_type": "stream",
          "name": "stdout",
          "text": [
            "1\n"
          ]
        }
      ],
      "source": [
        "fruits_tuple = (\"apple\", \"banana\", \"cherry\")\n",
        "element = \"banana\"\n",
        "index = fruits_tuple.index(element)\n",
        "print(index)"
      ]
    },
    {
      "cell_type": "code",
      "execution_count": null,
      "id": "1a74309e",
      "metadata": {
        "id": "1a74309e"
      },
      "outputs": [],
      "source": []
    },
    {
      "cell_type": "markdown",
      "id": "d9b857e5",
      "metadata": {
        "id": "d9b857e5"
      },
      "source": [
        "#### 12. Find the count of the given element in the tuple."
      ]
    },
    {
      "cell_type": "code",
      "execution_count": 15,
      "id": "366221d0",
      "metadata": {
        "id": "366221d0",
        "outputId": "71392047-0729-475e-9974-f9ddd872b391",
        "colab": {
          "base_uri": "https://localhost:8080/"
        }
      },
      "outputs": [
        {
          "output_type": "stream",
          "name": "stdout",
          "text": [
            "2\n"
          ]
        }
      ],
      "source": [
        "fruits_tuple = (\"apple\", \"banana\", \"cherry\", \"banana\")\n",
        "element = \"banana\"\n",
        "count = fruits_tuple.count(element)\n",
        "print(count)\n"
      ]
    }
  ],
  "metadata": {
    "kernelspec": {
      "display_name": "Python 3 (ipykernel)",
      "language": "python",
      "name": "python3"
    },
    "language_info": {
      "codemirror_mode": {
        "name": "ipython",
        "version": 3
      },
      "file_extension": ".py",
      "mimetype": "text/x-python",
      "name": "python",
      "nbconvert_exporter": "python",
      "pygments_lexer": "ipython3",
      "version": "3.8.13"
    },
    "colab": {
      "provenance": []
    }
  },
  "nbformat": 4,
  "nbformat_minor": 5
}
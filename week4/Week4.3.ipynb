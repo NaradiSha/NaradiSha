{
  "cells": [
    {
      "cell_type": "markdown",
      "id": "291d2b4c",
      "metadata": {
        "id": "291d2b4c"
      },
      "source": [
        "## Objective: Learn to create and manipulate Python dictionaries <br>\n",
        "https://colab.research.google.com/github/JunetaeKim/PythonClass/blob/main/week4/Week4.3.ipynb\n",
        "### Outline:\n",
        "\n",
        "#### ① Creating a Dictionary\n",
        "#### ② Accessing Dictionary Elements\n",
        "#### ③ Adding and Updating Elements\n",
        "#### ④ Removing Elements\n",
        "#### ⑤ Looping Through a Dictionary\n",
        "#### ⑥ Dictionary Methods\n",
        "#### ⑦ Example: Working with Dictionaries\n",
        "\n",
        "# in list or tuple- not qualitative\n",
        "# list or tuple - automatically generate, no more generalized"
      ]
    },
    {
      "cell_type": "code",
      "execution_count": null,
      "id": "260f49c1",
      "metadata": {
        "id": "260f49c1"
      },
      "outputs": [],
      "source": []
    },
    {
      "cell_type": "markdown",
      "id": "6e9b4241",
      "metadata": {
        "tags": [],
        "id": "6e9b4241"
      },
      "source": [
        "### 1. Creating a Dictionary\n",
        "#### A dictionary is a collection of key-value pairs, where each key is unique.\n",
        "#### To create a dictionary, use curly braces {} and separate the keys and values with colons, and the key-value pairs with commas.\n",
        "#### You can also use the dict() constructor."
      ]
    },
    {
      "cell_type": "code",
      "execution_count": 5,
      "id": "342f0e92",
      "metadata": {
        "id": "342f0e92",
        "outputId": "536bc58c-6d6c-48c9-a687-783a6a841f82",
        "colab": {
          "base_uri": "https://localhost:8080/"
        }
      },
      "outputs": [
        {
          "output_type": "stream",
          "name": "stdout",
          "text": [
            "{'name': 'John', 'age': 30, 'city': 'New York'}\n"
          ]
        }
      ],
      "source": [
        "person = {\n",
        "    \"name\": \"John\",\n",
        "    \"age\": 30,\n",
        "    \"city\": \"New York\"\n",
        "}\n",
        "scores = dict(math=95, physics=90, chemistry=85\n",
        ""
      ]
    },
    {
      "cell_type": "code",
      "execution_count": null,
      "id": "00f3e150",
      "metadata": {
        "id": "00f3e150"
      },
      "outputs": [],
      "source": []
    },
    {
      "cell_type": "markdown",
      "id": "613dea16",
      "metadata": {
        "tags": [],
        "id": "613dea16"
      },
      "source": [
        "### 2. Accessing Dictionary Elements\n",
        "#### Use the key inside square brackets [] to access the value associated with that key.\n",
        "#### You can also use the get() method, which returns a default value if the key is not found."
      ]
    },
    {
      "cell_type": "code",
      "execution_count": 8,
      "id": "6ac08c20",
      "metadata": {
        "id": "6ac08c20",
        "outputId": "4ad9a39f-90fc-4b6f-dd9b-fca9bdd64518",
        "colab": {
          "base_uri": "https://localhost:8080/"
        }
      },
      "outputs": [
        {
          "output_type": "stream",
          "name": "stdout",
          "text": [
            "John\n",
            "30\n",
            "Not found\n"
          ]
        }
      ],
      "source": [
        "person = {\"name\": \"John\", \"age\": 30, \"city\": \"New York\"}\n",
        "\n",
        "print(person[\"name\"])  # Output: John\n",
        "print(person.get(\"age\", \"Not found\"))  # Output: 30\n",
        "print(person.get(\"country\", \"Not found\"))  # Output: Not found\n",
        "\n",
        "person.get (\"country\") # not any return"
      ]
    },
    {
      "cell_type": "code",
      "execution_count": 7,
      "id": "5c662bd0",
      "metadata": {
        "id": "5c662bd0",
        "outputId": "43e09eda-522c-473b-c07d-ec56cad58bec",
        "colab": {
          "base_uri": "https://localhost:8080/",
          "height": 106
        }
      },
      "outputs": [
        {
          "output_type": "error",
          "ename": "SyntaxError",
          "evalue": "invalid syntax (<ipython-input-7-2f8b722f41c1>, line 2)",
          "traceback": [
            "\u001b[0;36m  File \u001b[0;32m\"<ipython-input-7-2f8b722f41c1>\"\u001b[0;36m, line \u001b[0;32m2\u001b[0m\n\u001b[0;31m    tmp.=.None\u001b[0m\n\u001b[0m        ^\u001b[0m\n\u001b[0;31mSyntaxError\u001b[0m\u001b[0;31m:\u001b[0m invalid syntax\n"
          ]
        }
      ],
      "source": [
        "tmp = person.get(\"country\")\n",
        "tmp.=.None"
      ]
    },
    {
      "cell_type": "markdown",
      "id": "a8a94afe",
      "metadata": {
        "id": "a8a94afe"
      },
      "source": [
        "### 3. Adding and Updating Elements\n",
        "#### To add a new key-value pair or update the value of an existing key, use the assignment operator = with the key inside square brackets []."
      ]
    },
    {
      "cell_type": "code",
      "execution_count": 9,
      "id": "d0d89c03",
      "metadata": {
        "id": "d0d89c03",
        "outputId": "1e865ddb-9389-477e-95f9-0e82b14abaff",
        "colab": {
          "base_uri": "https://localhost:8080/"
        }
      },
      "outputs": [
        {
          "output_type": "stream",
          "name": "stdout",
          "text": [
            "{'name': 'John', 'age': 31, 'city': 'New York', 'country': 'USA'}\n"
          ]
        }
      ],
      "source": [
        "person = {\"name\": \"John\", \"age\": 30, \"city\": \"New York\"}\n",
        "\n",
        "person[\"country\"] = \"USA\"  # Adds a new key-value pair\n",
        "person[\"age\"] = 31  # Updates the value of an existing key# replacing age from 30 to 31\n",
        "print(person)"
      ]
    },
    {
      "cell_type": "code",
      "execution_count": null,
      "id": "2c519fe0",
      "metadata": {
        "id": "2c519fe0"
      },
      "outputs": [],
      "source": []
    },
    {
      "cell_type": "markdown",
      "id": "3e898a17",
      "metadata": {
        "id": "3e898a17"
      },
      "source": [
        "### 4. Removing Elements\n",
        "#### Use the pop() method to remove a key-value pair by its key, and the popitem() method to remove the last key-value pair.\n",
        "#### To remove all items, use the clear() method."
      ]
    },
    {
      "cell_type": "code",
      "execution_count": null,
      "id": "52c3f181",
      "metadata": {
        "id": "52c3f181",
        "outputId": "5b61fc12-bac7-461a-ed2f-c5c738b1f891"
      },
      "outputs": [
        {
          "name": "stdout",
          "output_type": "stream",
          "text": [
            "{'name': 'John', 'city': 'New York'}\n",
            "{'name': 'John'}\n",
            "{}\n"
          ]
        }
      ],
      "source": [
        "person = {\"name\": \"John\", \"age\": 30, \"city\": \"New York\"}\n",
        "\n",
        "person.pop(\"age\")\n",
        "print(person)  # Output: {'name': 'John', 'city': 'New York'}\n",
        "\n",
        "person.popitem() # Remove the last item\n",
        "print(person)  # Output: {'name': 'John'}\n",
        "\n",
        "person.clear() # clear every thing\n",
        "print(person)  # Output: {}"
      ]
    },
    {
      "cell_type": "code",
      "execution_count": null,
      "id": "3aae7424",
      "metadata": {
        "id": "3aae7424",
        "outputId": "1e6835d6-abe4-4adb-99a3-679235eaf8ca"
      },
      "outputs": [
        {
          "data": {
            "text/plain": [
              "{'name': 'John'}"
            ]
          },
          "execution_count": 4,
          "metadata": {},
          "output_type": "execute_result"
        }
      ],
      "source": []
    },
    {
      "cell_type": "markdown",
      "id": "cac63968",
      "metadata": {
        "id": "cac63968"
      },
      "source": [
        "### 5. Looping Through a Dictionary\n",
        "#### Use a for loop to iterate through the keys, values, or both."
      ]
    },
    {
      "cell_type": "code",
      "execution_count": null,
      "id": "c924abfd",
      "metadata": {
        "id": "c924abfd",
        "outputId": "236aabbe-5793-461d-f691-e62ed043ed99"
      },
      "outputs": [
        {
          "name": "stdout",
          "output_type": "stream",
          "text": [
            "name\n",
            "age\n",
            "city\n",
            "John\n",
            "30\n",
            "New York\n",
            "name: John\n",
            "age: 30\n",
            "city: New York\n"
          ]
        }
      ],
      "source": [
        "person = {\"name\": \"John\", \"age\": 30, \"city\": \"New York\"}\n",
        "\n",
        "for key in person:\n",
        "    print(key)\n",
        "\n",
        "for value in person.values():\n",
        "    print(value)\n",
        "\n",
        "for key, value in person.items():\n",
        "    print(f\"{key}: {value}\")"
      ]
    },
    {
      "cell_type": "code",
      "execution_count": null,
      "id": "2a6b00ca",
      "metadata": {
        "id": "2a6b00ca"
      },
      "outputs": [],
      "source": []
    },
    {
      "cell_type": "markdown",
      "id": "70fab57d",
      "metadata": {
        "id": "70fab57d"
      },
      "source": [
        "### 6. Dictionary Methods\n",
        "#### Some common dictionary methods include keys(), values(), items(), copy(), and update()."
      ]
    },
    {
      "cell_type": "code",
      "execution_count": 10,
      "id": "fe46749a",
      "metadata": {
        "id": "fe46749a"
      },
      "outputs": [],
      "source": [
        "person = {\"name\": \"John\", \"age\": 30, \"city\": \"New York\"}\n",
        "\n",
        "keys = person.keys()\n",
        "values = person.values()\n",
        "items = person.items()\n",
        "person_copy = person.copy() # copy only value\n",
        "\n",
        "person.update({\"country\": \"USA\", \"city\": \"Los Angeles\"})"
      ]
    },
    {
      "cell_type": "code",
      "execution_count": null,
      "id": "4361e5c8",
      "metadata": {
        "id": "4361e5c8"
      },
      "outputs": [],
      "source": []
    },
    {
      "cell_type": "markdown",
      "id": "c799c8b0",
      "metadata": {
        "id": "c799c8b0"
      },
      "source": [
        "### 7. Example: Working with Dictionaries\n",
        "#### In this example, we'll demonstrate a simple use case of dictionaries."
      ]
    },
    {
      "cell_type": "code",
      "execution_count": 1,
      "id": "7c15fda7",
      "metadata": {
        "id": "7c15fda7",
        "outputId": "58d4f42c-3509-488f-c001-8e77c382da65",
        "colab": {
          "base_uri": "https://localhost:8080/"
        }
      },
      "outputs": [
        {
          "output_type": "stream",
          "name": "stdout",
          "text": [
            "{'John': 85, 'Emily': 95, 'Lucy': 88, 'Michael': 90}\n",
            "{'John': 85, 'Emily': 95, 'Michael': 90}\n",
            "Average grade: 90.0\n",
            "Highest grade: 95\n"
          ]
        }
      ],
      "source": [
        "# Create a dictionary of student grades\n",
        "grades = {\"John\": 85, \"Emily\": 92, \"Lucy\": 88}\n",
        "\n",
        "# Add a new student's grade\n",
        "grades[\"Michael\"] = 90\n",
        "\n",
        "# Update a student's grade\n",
        "grades[\"Emily\"] = 95\n",
        "print(grades)  # Output: {'John': 85, 'Emily': 95, 'Lucy': 88, 'Michael': 90}\n",
        "\n",
        "# Remove a student's grade\n",
        "grades.pop(\"Lucy\")\n",
        "print(grades)  # Output: {'John': 85, 'Emily': 95, 'Michael': 90}\n",
        "\n",
        "# Calculate the average grade\n",
        "average = sum(grades.values()) / len(grades)\n",
        "print(f\"Average grade: {average}\")\n",
        "\n",
        "# Find the highest grade\n",
        "highest_grade = max(grades.values())\n",
        "print(f\"Highest grade: {highest_grade}\")\n"
      ]
    }
  ],
  "metadata": {
    "kernelspec": {
      "display_name": "Python 3 (ipykernel)",
      "language": "python",
      "name": "python3"
    },
    "language_info": {
      "codemirror_mode": {
        "name": "ipython",
        "version": 3
      },
      "file_extension": ".py",
      "mimetype": "text/x-python",
      "name": "python",
      "nbconvert_exporter": "python",
      "pygments_lexer": "ipython3",
      "version": "3.8.13"
    },
    "colab": {
      "provenance": []
    }
  },
  "nbformat": 4,
  "nbformat_minor": 5
}
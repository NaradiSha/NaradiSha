{
  "cells": [
    {
      "cell_type": "markdown",
      "id": "727561cc",
      "metadata": {
        "id": "727561cc"
      },
      "source": [
        "## Objective: Learn to create and manipulate Python sets <br>\n",
        "https://colab.research.google.com/github/JunetaeKim/PythonClass/blob/main/week4/Week4.2.ipynb\n",
        "### Outline:\n",
        "#### ① Creating a Set\n",
        "#### ② Accessing Set Elements\n",
        "#### ③ Adding Elements to a Set\n",
        "#### ④ Removing Elements from a Set\n",
        "#### ⑤ Set Operations {Union, Intersection, Difference, Symmetric Difference}\n",
        "#### ⑥ Example: Working with Sets"
      ]
    },
    {
      "cell_type": "code",
      "execution_count": null,
      "id": "dc856726",
      "metadata": {
        "id": "dc856726"
      },
      "outputs": [],
      "source": []
    },
    {
      "cell_type": "markdown",
      "id": "77fcbd97",
      "metadata": {
        "tags": [],
        "id": "77fcbd97"
      },
      "source": [
        "### 1. Creating a Set\n",
        "#### To create a set, use curly braces {} and separate the elements with commas.\n",
        "#### Alternatively, you can use the set() constructor. Sets do not allow duplicate elements and are unordered."
      ]
    },
    {
      "cell_type": "code",
      "execution_count": null,
      "id": "3e6295bb",
      "metadata": {
        "id": "3e6295bb"
      },
      "outputs": [],
      "source": [
        "fruits = {\"apple\", \"banana\", \"cherry\"}\n",
        "numbers = set([1, 2, 3, 4, 5])"
      ]
    },
    {
      "cell_type": "code",
      "execution_count": null,
      "id": "c8d25d5d",
      "metadata": {
        "id": "c8d25d5d"
      },
      "outputs": [],
      "source": []
    },
    {
      "cell_type": "markdown",
      "id": "5e7561b5",
      "metadata": {
        "id": "5e7561b5"
      },
      "source": [
        "### 2. Accessing Set Elements\n",
        "#### Since sets are unordered, you cannot access elements using an index.\n",
        "#### However, you can use a for loop to iterate through the elements, or check if an element is present using the in keyword."
      ]
    },
    {
      "cell_type": "code",
      "execution_count": null,
      "id": "e2c5a6c4",
      "metadata": {
        "id": "e2c5a6c4",
        "outputId": "09dfa8df-4a9b-45b9-a1c0-516230d3087c"
      },
      "outputs": [
        {
          "name": "stdout",
          "output_type": "stream",
          "text": [
            "apple\n",
            "cherry\n",
            "banana\n",
            "True\n"
          ]
        }
      ],
      "source": [
        "fruits = {\"apple\", \"banana\", \"cherry\"}\n",
        "\n",
        "# Iterate through the set elements\n",
        "for fruit in fruits:\n",
        "    print(fruit)\n",
        "\n",
        "# Check if an element is in the set\n",
        "print(\"banana\" in fruits)  # Output: True"
      ]
    },
    {
      "cell_type": "code",
      "execution_count": null,
      "id": "5992a949",
      "metadata": {
        "id": "5992a949"
      },
      "outputs": [],
      "source": []
    },
    {
      "cell_type": "markdown",
      "id": "c0708876",
      "metadata": {
        "id": "c0708876"
      },
      "source": [
        "### 3. Adding Elements to a Set\n",
        "#### Use the add() method to add a single element, and the update() method to add multiple elements from another set or iterable."
      ]
    },
    {
      "cell_type": "code",
      "execution_count": null,
      "id": "8a393ead",
      "metadata": {
        "id": "8a393ead",
        "outputId": "c8f8280d-d4fa-499c-9a48-bb6f53250f0a"
      },
      "outputs": [
        {
          "name": "stdout",
          "output_type": "stream",
          "text": [
            "{'apple', 'cherry', 'orange', 'banana'}\n",
            "{'cherry', 'grape', 'orange', 'banana', 'apple', 'kiwi'}\n"
          ]
        }
      ],
      "source": [
        "fruits = {\"apple\", \"banana\", \"cherry\"}\n",
        "fruits.add(\"orange\")\n",
        "print(fruits)  # Output: {'apple', 'banana', 'cherry', 'orange'}\n",
        "\n",
        "fruits.update([\"grape\", \"kiwi\"])\n",
        "print(fruits)  # Output: {'apple', 'banana', 'cherry', 'orange', 'grape', 'kiwi'}"
      ]
    },
    {
      "cell_type": "code",
      "execution_count": null,
      "id": "d1e11064",
      "metadata": {
        "id": "d1e11064"
      },
      "outputs": [],
      "source": []
    },
    {
      "cell_type": "markdown",
      "id": "c3611397",
      "metadata": {
        "id": "c3611397"
      },
      "source": [
        "### 4. Removing Elements from a Set\n",
        "#### Use the remove() method to remove a specific element.\n",
        "#### If the element is not found, a KeyError will be raised.\n",
        "#### Alternatively, use the discard() method, which will not raise an error if the element is not found."
      ]
    },
    {
      "cell_type": "code",
      "execution_count": null,
      "id": "1d45f7d5",
      "metadata": {
        "id": "1d45f7d5",
        "outputId": "d4958bda-0721-47cc-87cf-fa011c179a66"
      },
      "outputs": [
        {
          "name": "stdout",
          "output_type": "stream",
          "text": [
            "{'apple', 'cherry'}\n",
            "{'apple', 'cherry'}\n"
          ]
        }
      ],
      "source": [
        "fruits = {\"apple\", \"banana\", \"cherry\"}\n",
        "fruits.remove(\"banana\")\n",
        "print(fruits)  # Output: {'apple', 'cherry'}\n",
        "\n",
        "fruits.discard(\"banana\")\n",
        "print(fruits)  # Output: {'apple', 'cherry'}"
      ]
    },
    {
      "cell_type": "code",
      "execution_count": null,
      "id": "153e44cb",
      "metadata": {
        "id": "153e44cb"
      },
      "outputs": [],
      "source": []
    },
    {
      "cell_type": "markdown",
      "id": "d6ce36d5",
      "metadata": {
        "tags": [],
        "id": "d6ce36d5"
      },
      "source": [
        "### 5. Set Operations\n",
        "#### Sets support various operations such as union, intersection, difference, and symmetric difference."
      ]
    },
    {
      "cell_type": "code",
      "execution_count": null,
      "id": "40976ecb",
      "metadata": {
        "id": "40976ecb",
        "outputId": "13fc2252-627f-4054-ace8-f67194c5046c"
      },
      "outputs": [
        {
          "name": "stdout",
          "output_type": "stream",
          "text": [
            "{1, 2, 3, 4, 5, 6}\n",
            "{3, 4}\n",
            "{1, 2}\n",
            "{1, 2, 5, 6}\n"
          ]
        }
      ],
      "source": [
        "A = {1, 2, 3, 4}\n",
        "B = {3, 4, 5, 6}\n",
        "\n",
        "# Union\n",
        "union = A.union(B)\n",
        "print(union)  # Output: {1, 2, 3, 4, 5, 6}\n",
        "\n",
        "# Intersection\n",
        "intersection = A.intersection(B)\n",
        "print(intersection)  # Output: {3, 4}\n",
        "\n",
        "# Difference\n",
        "difference = A.difference(B)\n",
        "print(difference)  # Output: {1, 2}\n",
        "\n",
        "# Symmetric Difference  # either of the set , But not in both\n",
        "symmetric_difference = A.symmetric_difference(B)\n",
        "print(symmetric_difference)  # Output: {1, 2, 5, 6}"
      ]
    },
    {
      "cell_type": "code",
      "execution_count": null,
      "id": "05bc21cb",
      "metadata": {
        "id": "05bc21cb"
      },
      "outputs": [],
      "source": []
    },
    {
      "cell_type": "markdown",
      "id": "7d5504df",
      "metadata": {
        "id": "7d5504df"
      },
      "source": [
        "### 6. Example: Working with Sets\n",
        "#### In this example, we'll demonstrate a simple use case of sets.\n",
        "#### Sets are useful when you need to store a collection of unique, unordered elements and perform operations like union, intersection, or difference."
      ]
    },
    {
      "cell_type": "code",
      "execution_count": null,
      "id": "596f4280",
      "metadata": {
        "id": "596f4280"
      },
      "outputs": [],
      "source": [
        "# Create a set of numbers\n",
        "numbers = {5, 2, 9, 4, 7}\n",
        "\n",
        "# Add a new number to the set\n",
        "numbers.add(10)\n",
        "print(f\"Set after adding a new number: {numbers}\")\n",
        "\n",
        "# Remove an element from the set\n",
        "numbers.discard(7)\n",
        "print(f\"Set after removing an element: {numbers}\")\n",
        "\n",
        "\n",
        "# Find the union of two sets\n",
        "even_numbers = {2, 4, 6, 8, 10}\n",
        "odd_numbers = {1, 3, 5, 7, 9}\n",
        "all_numbers = even_numbers.union(odd_numbers)\n",
        "print(f\"Union of even and odd numbers: {all_numbers}\")\n",
        "\n",
        "# Find the intersection of two sets\n",
        "common_numbers = even_numbers.intersection(numbers)\n",
        "print(f\"Intersection of even_numbers and numbers: {common_numbers}\")"
      ]
    }
  ],
  "metadata": {
    "kernelspec": {
      "display_name": "Python 3 (ipykernel)",
      "language": "python",
      "name": "python3"
    },
    "language_info": {
      "codemirror_mode": {
        "name": "ipython",
        "version": 3
      },
      "file_extension": ".py",
      "mimetype": "text/x-python",
      "name": "python",
      "nbconvert_exporter": "python",
      "pygments_lexer": "ipython3",
      "version": "3.8.13"
    },
    "colab": {
      "provenance": []
    }
  },
  "nbformat": 4,
  "nbformat_minor": 5
}
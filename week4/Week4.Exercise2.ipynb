{
  "cells": [
    {
      "cell_type": "markdown",
      "id": "ab55dad6",
      "metadata": {
        "id": "ab55dad6"
      },
      "source": [
        "#### https://colab.research.google.com/github/JunetaeKim/PythonClass/blob/main/week4/Week4.Exercise2.ipynb"
      ]
    },
    {
      "cell_type": "markdown",
      "id": "05346da9",
      "metadata": {
        "id": "05346da9"
      },
      "source": [
        "#### 1. Create a list with the following elements: \"apple\", \"banana\", \"cherry\"."
      ]
    },
    {
      "cell_type": "code",
      "execution_count": null,
      "id": "85c86eb1",
      "metadata": {
        "id": "85c86eb1"
      },
      "outputs": [],
      "source": [
        "list ="
      ]
    },
    {
      "cell_type": "markdown",
      "id": "187665df",
      "metadata": {
        "id": "187665df"
      },
      "source": [
        "#### 2. Create a set with the following elements: \"apple\", \"banana\", \"cherry\"."
      ]
    },
    {
      "cell_type": "code",
      "execution_count": null,
      "id": "144b9c69",
      "metadata": {
        "id": "144b9c69"
      },
      "outputs": [],
      "source": []
    },
    {
      "cell_type": "markdown",
      "id": "99a7e4ec",
      "metadata": {
        "id": "99a7e4ec"
      },
      "source": [
        "#### 3. Create a dictionary with the following keys and values: \"apple\" - 3, \"banana\" - 5, \"cherry\" - 2."
      ]
    },
    {
      "cell_type": "code",
      "execution_count": null,
      "id": "4f98d30a",
      "metadata": {
        "id": "4f98d30a"
      },
      "outputs": [],
      "source": []
    },
    {
      "cell_type": "markdown",
      "id": "3f6d481a",
      "metadata": {
        "id": "3f6d481a"
      },
      "source": [
        "#### 4. Create a tuple with the following elements: \"apple\", \"banana\", \"cherry\"."
      ]
    },
    {
      "cell_type": "code",
      "execution_count": null,
      "id": "3972a82c",
      "metadata": {
        "id": "3972a82c"
      },
      "outputs": [],
      "source": []
    },
    {
      "cell_type": "markdown",
      "id": "db371e8f",
      "metadata": {
        "id": "db371e8f"
      },
      "source": [
        "#### 5. Access the value for the key \"apple\" in the given dictionary.\n",
        "## apple ekata ayath value eka kiyada?"
      ]
    },
    {
      "cell_type": "code",
      "execution_count": 3,
      "id": "1ee6f56b",
      "metadata": {
        "id": "1ee6f56b",
        "outputId": "b6602c70-90b6-4036-b8fc-f63f6d6cf6ac",
        "colab": {
          "base_uri": "https://localhost:8080/"
        }
      },
      "outputs": [
        {
          "output_type": "stream",
          "name": "stdout",
          "text": [
            "3\n"
          ]
        }
      ],
      "source": [
        "fruits_dict = {\"apple\": 3, \"banana\": 5, \"cherry\": 2}\n",
        "\n",
        "# Access value for key \"apple\"\n",
        "value = fruits_dict[\"apple\"]\n",
        "print(value)\n"
      ]
    },
    {
      "cell_type": "code",
      "execution_count": null,
      "id": "cab6a913",
      "metadata": {
        "id": "cab6a913"
      },
      "outputs": [],
      "source": []
    },
    {
      "cell_type": "markdown",
      "id": "f6f2efa3",
      "metadata": {
        "id": "f6f2efa3"
      },
      "source": [
        "#### 6. Update the value for the key \"banana\" in the given dictionary to 10."
      ]
    },
    {
      "cell_type": "code",
      "execution_count": 5,
      "id": "1528e0aa",
      "metadata": {
        "id": "1528e0aa",
        "outputId": "59706153-6458-4f5d-96e2-a9d34b737952",
        "colab": {
          "base_uri": "https://localhost:8080/"
        }
      },
      "outputs": [
        {
          "output_type": "stream",
          "name": "stdout",
          "text": [
            "{'apple': 3, 'banana': 10, 'cherry': 2}\n"
          ]
        }
      ],
      "source": [
        "fruits_dict = {\"apple\": 3, \"banana\": 5, \"cherry\": 2}\n",
        "update = fruits_dict[\"banana\"] = 10\n",
        "print(fruits_dict)"
      ]
    },
    {
      "cell_type": "code",
      "execution_count": null,
      "id": "d4d88ec3",
      "metadata": {
        "id": "d4d88ec3"
      },
      "outputs": [],
      "source": []
    },
    {
      "cell_type": "markdown",
      "id": "b9bdeeb5",
      "metadata": {
        "id": "b9bdeeb5"
      },
      "source": [
        "#### 7. Remove the \"cherry\" key-value pair from the given dictionary."
      ]
    },
    {
      "cell_type": "code",
      "execution_count": 6,
      "id": "d86c8213",
      "metadata": {
        "id": "d86c8213",
        "outputId": "6749635f-1f0f-472b-9112-924eca313577",
        "colab": {
          "base_uri": "https://localhost:8080/"
        }
      },
      "outputs": [
        {
          "output_type": "stream",
          "name": "stdout",
          "text": [
            "{'apple': 3, 'banana': 5}\n"
          ]
        }
      ],
      "source": [
        "fruits_dict = {\"apple\": 3, \"banana\": 5, \"cherry\": 2}\n",
        "remove = fruits_dict.pop(\"cherry\")\n",
        "print(fruits_dict)"
      ]
    },
    {
      "cell_type": "code",
      "execution_count": null,
      "id": "aa1e5b64",
      "metadata": {
        "id": "aa1e5b64"
      },
      "outputs": [],
      "source": []
    },
    {
      "cell_type": "markdown",
      "id": "11e06547",
      "metadata": {
        "id": "11e06547"
      },
      "source": [
        "#### 8. Check if the given element exists in the list."
      ]
    },
    {
      "cell_type": "code",
      "execution_count": 7,
      "id": "13e879e3",
      "metadata": {
        "id": "13e879e3",
        "outputId": "19f44853-7aa3-410e-83da-3a03ec95573f",
        "colab": {
          "base_uri": "https://localhost:8080/"
        }
      },
      "outputs": [
        {
          "output_type": "stream",
          "name": "stdout",
          "text": [
            "True\n"
          ]
        }
      ],
      "source": [
        "fruits_list = [\"apple\", \"banana\", \"cherry\"]\n",
        "element = \"banana\"\n",
        "\n",
        "exists = element in fruits_list\n",
        "print(exists)"
      ]
    },
    {
      "cell_type": "code",
      "execution_count": null,
      "id": "2ace025d",
      "metadata": {
        "id": "2ace025d"
      },
      "outputs": [],
      "source": []
    },
    {
      "cell_type": "markdown",
      "id": "90db96f2",
      "metadata": {
        "id": "90db96f2"
      },
      "source": [
        "#### 9. Add an element to the given list."
      ]
    },
    {
      "cell_type": "code",
      "execution_count": 8,
      "id": "58ba0122",
      "metadata": {
        "id": "58ba0122",
        "outputId": "bae1f21c-c381-4f1a-eca0-8384680497b6",
        "colab": {
          "base_uri": "https://localhost:8080/"
        }
      },
      "outputs": [
        {
          "output_type": "stream",
          "name": "stdout",
          "text": [
            "['apple', 'banana', 'cherry', 'orange']\n"
          ]
        }
      ],
      "source": [
        "fruits_list = [\"apple\", \"banana\", \"cherry\"]\n",
        "element = \"orange\"\n",
        "\n",
        "add = fruits_list.append(element)\n",
        "print(fruits_list)"
      ]
    },
    {
      "cell_type": "code",
      "execution_count": null,
      "id": "a726628d",
      "metadata": {
        "id": "a726628d"
      },
      "outputs": [],
      "source": []
    },
    {
      "cell_type": "markdown",
      "id": "79eefce2",
      "metadata": {
        "id": "79eefce2"
      },
      "source": [
        "#### 10.Remove the given element from the list."
      ]
    },
    {
      "cell_type": "code",
      "execution_count": 10,
      "id": "39b51bce",
      "metadata": {
        "id": "39b51bce",
        "outputId": "11065a7c-324d-4de8-e6b0-74a2f01e72b2",
        "colab": {
          "base_uri": "https://localhost:8080/"
        }
      },
      "outputs": [
        {
          "output_type": "stream",
          "name": "stdout",
          "text": [
            "['apple', 'cherry']\n"
          ]
        }
      ],
      "source": [
        "fruits_list = [\"apple\", \"banana\", \"cherry\"]\n",
        "element = \"banana\"\n",
        "\n",
        "remove = fruits_list.remove(element)\n",
        "print(fruits_list)"
      ]
    }
  ],
  "metadata": {
    "kernelspec": {
      "display_name": "Python 3 (ipykernel)",
      "language": "python",
      "name": "python3"
    },
    "language_info": {
      "codemirror_mode": {
        "name": "ipython",
        "version": 3
      },
      "file_extension": ".py",
      "mimetype": "text/x-python",
      "name": "python",
      "nbconvert_exporter": "python",
      "pygments_lexer": "ipython3",
      "version": "3.8.13"
    },
    "colab": {
      "provenance": []
    }
  },
  "nbformat": 4,
  "nbformat_minor": 5
}
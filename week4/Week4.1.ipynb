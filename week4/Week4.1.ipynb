{
  "cells": [
    {
      "cell_type": "markdown",
      "id": "32ba45de",
      "metadata": {
        "id": "32ba45de"
      },
      "source": [
        "## Objective: Learn to create and manipulate Python tuples <br>\n",
        "https://colab.research.google.com/github/JunetaeKim/PythonClass/blob/main/week4/Week4.1.ipynb\n",
        "\n",
        "### Outline:\n",
        "#### ① Creating a Tuple\n",
        "#### ② Accessing Tuple Elements\n",
        "#### ③ Negative Indexing\n",
        "#### ④ Slicing Tuples\n",
        "#### ⑤ Tuple Immutability\n",
        "#### ⑥ Concatenating Tuples\n",
        "#### ⑦ Finding the Length of a Tuple\n",
        "#### ⑧ Example: Working with Tuples\n",
        "\n",
        "\n",
        "lecture 03\n",
        "# list - can re\n",
        "# pop- removing the last elements\n",
        "#"
      ]
    },
    {
      "cell_type": "code",
      "execution_count": null,
      "id": "e8fe0df3",
      "metadata": {
        "id": "e8fe0df3"
      },
      "outputs": [],
      "source": []
    },
    {
      "cell_type": "markdown",
      "id": "d76b7584",
      "metadata": {
        "tags": [],
        "id": "d76b7584"
      },
      "source": [
        "### 1. Creating a Tuple\n",
        "#### To create a tuple, use parentheses () and separate the elements with commas.\n",
        "#### Tuples can contain different data types, including strings, integers, and floats.\n",
        "# list [] but tuple ()\n"
      ]
    },
    {
      "cell_type": "code",
      "execution_count": 1,
      "id": "25674cf0",
      "metadata": {
        "id": "25674cf0"
      },
      "outputs": [],
      "source": [
        "fruits = (\"apple\", \"banana\", \"cherry\")\n",
        "numbers = (1, 2, 3, 4, 5)\n",
        "mixed_tuple = (\"apple\", 1, 2.5)"
      ]
    },
    {
      "cell_type": "code",
      "execution_count": null,
      "id": "5277fc56",
      "metadata": {
        "id": "5277fc56"
      },
      "outputs": [],
      "source": []
    },
    {
      "cell_type": "markdown",
      "id": "20ab05f6",
      "metadata": {
        "tags": [],
        "id": "20ab05f6"
      },
      "source": [
        "### 2. Accessing Tuple Elements\n",
        "#### You can access tuple elements using their index. Indexing starts at 0."
      ]
    },
    {
      "cell_type": "code",
      "execution_count": 2,
      "id": "0c840a74",
      "metadata": {
        "id": "0c840a74",
        "outputId": "1239ffd1-36ce-4494-f08b-ea0651927539",
        "colab": {
          "base_uri": "https://localhost:8080/"
        }
      },
      "outputs": [
        {
          "output_type": "stream",
          "name": "stdout",
          "text": [
            "apple\n",
            "banana\n"
          ]
        }
      ],
      "source": [
        "fruits = (\"apple\", \"banana\", \"cherry\")\n",
        "print(fruits[0])  # Output: apple\n",
        "print(fruits[1])  # Output: banana\n"
      ]
    },
    {
      "cell_type": "code",
      "execution_count": null,
      "id": "6974dd85",
      "metadata": {
        "id": "6974dd85"
      },
      "outputs": [],
      "source": []
    },
    {
      "cell_type": "markdown",
      "id": "14b8445e",
      "metadata": {
        "tags": [],
        "id": "14b8445e"
      },
      "source": [
        "### 3. Negative Indexing\n",
        "#### Negative indexing allows you to access elements from the end of the tuple.\n",
        "# reverse fro last elements\n",
        "# (-0) is not excisting"
      ]
    },
    {
      "cell_type": "code",
      "execution_count": 3,
      "id": "6745adda",
      "metadata": {
        "id": "6745adda",
        "outputId": "d6f54bb3-2fa1-463d-b857-27a802dfffb8",
        "colab": {
          "base_uri": "https://localhost:8080/"
        }
      },
      "outputs": [
        {
          "output_type": "stream",
          "name": "stdout",
          "text": [
            "cherry\n",
            "banana\n"
          ]
        }
      ],
      "source": [
        "fruits = (\"apple\", \"banana\", \"cherry\")\n",
        "print(fruits[-1])  # Output: cherry\n",
        "print(fruits[-2])  # Output: banana"
      ]
    },
    {
      "cell_type": "code",
      "execution_count": null,
      "id": "cd840f99",
      "metadata": {
        "id": "cd840f99"
      },
      "outputs": [],
      "source": []
    },
    {
      "cell_type": "markdown",
      "id": "6137f298",
      "metadata": {
        "id": "6137f298"
      },
      "source": [
        "### 4. Slicing Tuples\n",
        "#### Slicing allows you to get a portion of a tuple. Use the colon : to indicate the start and end index.\n",
        "# index- pick one elements, reducing  the dimension  \n",
        "# slicing- already removing dimension\n",
        "# when u  use the"
      ]
    },
    {
      "cell_type": "code",
      "execution_count": 4,
      "id": "af78e539",
      "metadata": {
        "id": "af78e539"
      },
      "outputs": [],
      "source": [
        "fruits = (\"apple\", \"banana\", \"cherry\", \"orange\", \"grape\")\n",
        "subtuple = fruits[1:4]  # Output: ('banana', 'cherry', 'orange')"
      ]
    },
    {
      "cell_type": "code",
      "execution_count": null,
      "id": "690ab68e",
      "metadata": {
        "id": "690ab68e"
      },
      "outputs": [],
      "source": []
    },
    {
      "cell_type": "markdown",
      "id": "0bc5caf1",
      "metadata": {
        "id": "0bc5caf1"
      },
      "source": [
        "### 5. Tuple Immutability\n",
        "#### Tuples are immutable, which means their elements cannot be modified.\n",
        "#### Attempting to change an element in a tuple will result in an error.ㅡ"
      ]
    },
    {
      "cell_type": "code",
      "execution_count": 6,
      "id": "89a7ede0",
      "metadata": {
        "id": "89a7ede0",
        "outputId": "09d3360c-04e9-4fb7-aadc-e1b4be4de820",
        "colab": {
          "base_uri": "https://localhost:8080/",
          "height": 211
        }
      },
      "outputs": [
        {
          "output_type": "error",
          "ename": "TypeError",
          "evalue": "'tuple' object does not support item assignment",
          "traceback": [
            "\u001b[0;31m---------------------------------------------------------------------------\u001b[0m",
            "\u001b[0;31mTypeError\u001b[0m                                 Traceback (most recent call last)",
            "\u001b[0;32m<ipython-input-6-9ae843505653>\u001b[0m in \u001b[0;36m<cell line: 0>\u001b[0;34m()\u001b[0m\n\u001b[1;32m      1\u001b[0m \u001b[0mfruits\u001b[0m \u001b[0;34m=\u001b[0m \u001b[0;34m(\u001b[0m\u001b[0;34m\"apple\"\u001b[0m\u001b[0;34m,\u001b[0m \u001b[0;34m\"banana\"\u001b[0m\u001b[0;34m,\u001b[0m \u001b[0;34m\"cherry\"\u001b[0m\u001b[0;34m)\u001b[0m\u001b[0;34m\u001b[0m\u001b[0;34m\u001b[0m\u001b[0m\n\u001b[0;32m----> 2\u001b[0;31m \u001b[0mfruits\u001b[0m\u001b[0;34m[\u001b[0m\u001b[0;36m1\u001b[0m\u001b[0;34m]\u001b[0m \u001b[0;34m=\u001b[0m \u001b[0;34m\"blueberry\"\u001b[0m  \u001b[0;31m# TypeError: 'tuple' object does not support item assignment\u001b[0m\u001b[0;34m\u001b[0m\u001b[0;34m\u001b[0m\u001b[0m\n\u001b[0m\u001b[1;32m      3\u001b[0m \u001b[0;34m\u001b[0m\u001b[0m\n\u001b[1;32m      4\u001b[0m \u001b[0mfruits\u001b[0m \u001b[0;34m=\u001b[0m \u001b[0;34m(\u001b[0m\u001b[0;34m\"apple\"\u001b[0m\u001b[0;34m,\u001b[0m \u001b[0;34m\"banana\"\u001b[0m\u001b[0;34m,\u001b[0m \u001b[0;34m\"cherry\"\u001b[0m\u001b[0;34m)\u001b[0m\u001b[0;34m\u001b[0m\u001b[0;34m\u001b[0m\u001b[0m\n\u001b[1;32m      5\u001b[0m \u001b[0mlist\u001b[0m\u001b[0;34m(\u001b[0m\u001b[0mfruits\u001b[0m\u001b[0;34m)\u001b[0m\u001b[0;34m\u001b[0m\u001b[0;34m\u001b[0m\u001b[0m\n",
            "\u001b[0;31mTypeError\u001b[0m: 'tuple' object does not support item assignment"
          ]
        }
      ],
      "source": [
        "fruits = (\"apple\", \"banana\", \"cherry\")\n",
        "fruits[1] = \"blueberry\"  # TypeError: 'tuple' object does not support item assignment\n",
        "\n",
        "fruits = (\"apple\", \"banana\", \"cherry\")\n",
        "list(fruits)  # then list can be changeble\n"
      ]
    },
    {
      "cell_type": "code",
      "execution_count": null,
      "id": "b073c3a4",
      "metadata": {
        "id": "b073c3a4"
      },
      "outputs": [],
      "source": []
    },
    {
      "cell_type": "markdown",
      "id": "943f4075",
      "metadata": {
        "tags": [],
        "id": "943f4075"
      },
      "source": [
        "### 6.Concatenating Tuples\n",
        "#### Use the + operator to combine two tuples."
      ]
    },
    {
      "cell_type": "code",
      "execution_count": 7,
      "id": "c8774ccb",
      "metadata": {
        "id": "c8774ccb",
        "outputId": "ea89902d-743f-4ccd-fc92-ec78b5151e94",
        "colab": {
          "base_uri": "https://localhost:8080/"
        }
      },
      "outputs": [
        {
          "output_type": "stream",
          "name": "stdout",
          "text": [
            "(1, 2, 3, 4, 5, 6)\n"
          ]
        }
      ],
      "source": [
        "tuple1 = (1, 2, 3)\n",
        "tuple2 = (4, 5, 6)\n",
        "combined_tuple = tuple1 + tuple2\n",
        "print(combined_tuple)  # Output: (1, 2, 3, 4, 5, 6)"
      ]
    },
    {
      "cell_type": "code",
      "execution_count": null,
      "id": "e982e00d",
      "metadata": {
        "id": "e982e00d"
      },
      "outputs": [],
      "source": []
    },
    {
      "cell_type": "markdown",
      "id": "6d879082",
      "metadata": {
        "tags": [],
        "id": "6d879082"
      },
      "source": [
        "### 7. Finding the Length of a Tuple\n",
        "#### Use the len() function to find the length of a tuple."
      ]
    },
    {
      "cell_type": "code",
      "execution_count": 8,
      "id": "3fe73d28",
      "metadata": {
        "id": "3fe73d28",
        "outputId": "f2d442b2-d654-4dc7-b9c4-515cca690446",
        "colab": {
          "base_uri": "https://localhost:8080/"
        }
      },
      "outputs": [
        {
          "output_type": "stream",
          "name": "stdout",
          "text": [
            "4\n"
          ]
        }
      ],
      "source": [
        "fruits = (\"apple\", \"banana\", \"cherry\", \"orange\") # no of the words only 4\n",
        "tuple_length = len(fruits)\n",
        "print(tuple_length)  # Output: 4"
      ]
    },
    {
      "cell_type": "code",
      "execution_count": 9,
      "id": "5f9f9026",
      "metadata": {
        "id": "5f9f9026",
        "outputId": "5e44396e-3b69-46d6-a185-4f50d1205964",
        "colab": {
          "base_uri": "https://localhost:8080/"
        }
      },
      "outputs": [
        {
          "output_type": "execute_result",
          "data": {
            "text/plain": [
              "8"
            ]
          },
          "metadata": {},
          "execution_count": 9
        }
      ],
      "source": [
        "len('abcdefgf') # no of characters"
      ]
    },
    {
      "cell_type": "markdown",
      "id": "f34e7530",
      "metadata": {
        "tags": [],
        "id": "f34e7530"
      },
      "source": [
        "### 8. Example: Working with Tuples\n",
        "#### In this example, we'll demonstrate a simple use case of tuples without using functions, for loops, or if statements."
      ]
    },
    {
      "cell_type": "code",
      "execution_count": 11,
      "id": "cc35f98b",
      "metadata": {
        "id": "cc35f98b",
        "outputId": "9791b4c1-f183-46f7-f060-ff706e464a1c",
        "colab": {
          "base_uri": "https://localhost:8080/"
        }
      },
      "outputs": [
        {
          "output_type": "stream",
          "name": "stdout",
          "text": [
            "The first number is 5 and the last number is 7\n",
            "The middle three numbers are (2, 9, 4)\n"
          ]
        }
      ],
      "source": [
        "# Create a tuple of numbers\n",
        "numbers = (5, 2, 9, 4, 7)\n",
        "\n",
        "# Access and print the first and last elements of the tuple\n",
        "first_number = numbers[0]\n",
        "last_number = numbers[-1]\n",
        "\n",
        "print(f\"The first number is {first_number} and the last number is {last_number}\")\n",
        "\n",
        "# Slice the tuple to get a subtuple of the middle three elements\n",
        "middle_three = numbers[1:4]\n",
        "print(f\"The middle three numbers are {middle_three}\")\n",
        "\n",
        "# Attempting to modify the second element of the tuple will result in an error\n",
        "# numbers[1] = 3  # Uncommenting this"
      ]
    },
    {
      "cell_type": "code",
      "execution_count": null,
      "id": "d7d83fe2",
      "metadata": {
        "id": "d7d83fe2"
      },
      "outputs": [],
      "source": []
    }
  ],
  "metadata": {
    "kernelspec": {
      "display_name": "Python 3 (ipykernel)",
      "language": "python",
      "name": "python3"
    },
    "language_info": {
      "codemirror_mode": {
        "name": "ipython",
        "version": 3
      },
      "file_extension": ".py",
      "mimetype": "text/x-python",
      "name": "python",
      "nbconvert_exporter": "python",
      "pygments_lexer": "ipython3",
      "version": "3.8.15"
    },
    "colab": {
      "provenance": []
    }
  },
  "nbformat": 4,
  "nbformat_minor": 5
}
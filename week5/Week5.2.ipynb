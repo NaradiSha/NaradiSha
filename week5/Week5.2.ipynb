{
  "cells": [
    {
      "cell_type": "markdown",
      "id": "b1253ea4",
      "metadata": {
        "id": "b1253ea4"
      },
      "source": [
        "## Objective: Learn and understand advanced conditional statements and error handling in Python\n",
        "https://colab.research.google.com/github/JunetaeKim/PythonClass/blob/main/week5/Week5.2.ipynb\n",
        "### Outline:\n",
        "#### ① Short-circuit evaluation\n",
        "#### ② Try-Except blocks for error handling\n",
        "#### ③ Else and Finally clauses\n",
        "#### ④ Handling multiple exceptions\n",
        "#### ⑤ Assert statements"
      ]
    },
    {
      "cell_type": "code",
      "execution_count": null,
      "id": "15b77469",
      "metadata": {
        "id": "15b77469"
      },
      "outputs": [],
      "source": []
    },
    {
      "cell_type": "markdown",
      "id": "8bc744a5",
      "metadata": {
        "tags": [],
        "id": "8bc744a5"
      },
      "source": [
        "### 1. Short-circuit evaluation\n",
        "#### Python uses short-circuit evaluation when evaluating logical expressions, meaning that it stops evaluating as soon as the result is determined."
      ]
    },
    {
      "cell_type": "code",
      "execution_count": 1,
      "id": "5d342639",
      "metadata": {
        "id": "5d342639",
        "outputId": "190866d4-20ff-4d76-9ff8-9edba95a9d0c",
        "colab": {
          "base_uri": "https://localhost:8080/"
        }
      },
      "outputs": [
        {
          "output_type": "stream",
          "name": "stdout",
          "text": [
            "False\n"
          ]
        }
      ],
      "source": [
        "# and operator\n",
        "x = False\n",
        "y = True  # ZeroDivisionError occurs # boolen type\n",
        "\n",
        "# Thanks to short-circuit evaluation, y is not evaluated\n",
        "result = x and y  # result is False # fist X already false nam definitely false\n",
        "print(result)  # Output: False"
      ]
    },
    {
      "cell_type": "code",
      "execution_count": null,
      "id": "1f31a46e",
      "metadata": {
        "id": "1f31a46e",
        "outputId": "cdc068a5-1461-4c5d-bd6f-8aaa1d58dd16"
      },
      "outputs": [
        {
          "name": "stdout",
          "output_type": "stream",
          "text": [
            "True\n"
          ]
        }
      ],
      "source": [
        "# or operator\n",
        "x = True\n",
        "y = False\n",
        "\n",
        "# Thanks to short-circuit evaluation, y is not evaluated\n",
        "result = x or y  # result is True # atleast one is false\n",
        "print(result)  # Output: True"
      ]
    },
    {
      "cell_type": "code",
      "execution_count": null,
      "id": "dae410ca-eee4-49f9-96dc-abe4e043eae9",
      "metadata": {
        "id": "dae410ca-eee4-49f9-96dc-abe4e043eae9"
      },
      "outputs": [],
      "source": []
    },
    {
      "cell_type": "markdown",
      "id": "bc6badd1",
      "metadata": {
        "jp-MarkdownHeadingCollapsed": true,
        "id": "bc6badd1"
      },
      "source": [
        "### 2. Try-Except blocks for error handling\n",
        "#### You can use try-except blocks to catch and handle exceptions that may occur during the execution of your program."
      ]
    },
    {
      "cell_type": "code",
      "execution_count": 2,
      "id": "a46519de",
      "metadata": {
        "id": "a46519de",
        "outputId": "4e8c65ac-476a-4c42-b6da-248377645982",
        "colab": {
          "base_uri": "https://localhost:8080/"
        }
      },
      "outputs": [
        {
          "output_type": "stream",
          "name": "stdout",
          "text": [
            "Cannot divide by zero\n"
          ]
        }
      ],
      "source": [
        "try:\n",
        "    x = 1 / 0\n",
        "except ZeroDivisionError:\n",
        "    print(\"Cannot divide by zero\")"
      ]
    },
    {
      "cell_type": "code",
      "execution_count": 3,
      "id": "77125366",
      "metadata": {
        "id": "77125366",
        "outputId": "c63a67fa-d8d2-470a-c74b-2e53e8beea87",
        "colab": {
          "base_uri": "https://localhost:8080/",
          "height": 141
        }
      },
      "outputs": [
        {
          "output_type": "error",
          "ename": "ZeroDivisionError",
          "evalue": "division by zero",
          "traceback": [
            "\u001b[0;31m---------------------------------------------------------------------------\u001b[0m",
            "\u001b[0;31mZeroDivisionError\u001b[0m                         Traceback (most recent call last)",
            "\u001b[0;32m<ipython-input-3-bfdf2b0f658a>\u001b[0m in \u001b[0;36m<cell line: 0>\u001b[0;34m()\u001b[0m\n\u001b[0;32m----> 1\u001b[0;31m \u001b[0mx\u001b[0m \u001b[0;34m=\u001b[0m \u001b[0;36m1\u001b[0m\u001b[0;34m/\u001b[0m\u001b[0;36m0\u001b[0m\u001b[0;34m\u001b[0m\u001b[0;34m\u001b[0m\u001b[0m\n\u001b[0m",
            "\u001b[0;31mZeroDivisionError\u001b[0m: division by zero"
          ]
        }
      ],
      "source": [
        "x = 1/0\n"
      ]
    },
    {
      "cell_type": "code",
      "source": [
        "try:\n",
        "    x = 1 / 0\n",
        "except ZeroDivisionError:\n",
        "    print(\"\") # no output , but logic is error"
      ],
      "metadata": {
        "id": "qEN3Ic3zhDyc",
        "outputId": "5d2e9153-c63a-4030-a38a-55d36d077dac",
        "colab": {
          "base_uri": "https://localhost:8080/"
        }
      },
      "id": "qEN3Ic3zhDyc",
      "execution_count": 4,
      "outputs": [
        {
          "output_type": "stream",
          "name": "stdout",
          "text": [
            "\n"
          ]
        }
      ]
    },
    {
      "cell_type": "code",
      "source": [
        "for i in (3,2,1,0):\n",
        "  try:\n",
        "     print (1/i)\n",
        "\n",
        "  except ZeroDivisionError:\n",
        "print(\"Cannot divide by zero\")\n",
        "\n"
      ],
      "metadata": {
        "id": "GkrgCtz_hjEZ",
        "outputId": "0d4aa276-ddfd-4216-f55b-a958868b70ea",
        "colab": {
          "base_uri": "https://localhost:8080/",
          "height": 106
        }
      },
      "id": "GkrgCtz_hjEZ",
      "execution_count": 8,
      "outputs": [
        {
          "output_type": "error",
          "ename": "IndentationError",
          "evalue": "expected an indented block after 'except' statement on line 5 (<ipython-input-8-a7bfdec3ad4e>, line 6)",
          "traceback": [
            "\u001b[0;36m  File \u001b[0;32m\"<ipython-input-8-a7bfdec3ad4e>\"\u001b[0;36m, line \u001b[0;32m6\u001b[0m\n\u001b[0;31m    print(\"Cannot divide by zero\")\u001b[0m\n\u001b[0m                                   ^\u001b[0m\n\u001b[0;31mIndentationError\u001b[0m\u001b[0;31m:\u001b[0m expected an indented block after 'except' statement on line 5\n"
          ]
        }
      ]
    },
    {
      "cell_type": "markdown",
      "id": "e5499ac1",
      "metadata": {
        "id": "e5499ac1"
      },
      "source": [
        "### 3. Else and Finally clauses\n",
        "#### You can use the else and finally clauses with try-except blocks to execute code that should run when no exceptions are raised or after the try block completes, respectively."
      ]
    },
    {
      "cell_type": "code",
      "execution_count": null,
      "id": "f3788edb",
      "metadata": {
        "id": "f3788edb",
        "outputId": "cb496a27-3026-47f0-b943-c41da298fdd1"
      },
      "outputs": [
        {
          "name": "stdout",
          "output_type": "stream",
          "text": [
            "Division was successful\n",
            "This code always runs\n"
          ]
        }
      ],
      "source": [
        "try:\n",
        "    x = 1 / 2\n",
        "except ZeroDivisionError:\n",
        "    print(\"Cannot divide by zero\")\n",
        "else:\n",
        "    print(\"Division was successful\")\n",
        "finally:\n",
        "    print(\"This code always runs\")"
      ]
    },
    {
      "cell_type": "code",
      "execution_count": 9,
      "id": "d5b3041c",
      "metadata": {
        "id": "d5b3041c",
        "outputId": "9d83cbe3-e827-4177-8000-b55d053f8972",
        "colab": {
          "base_uri": "https://localhost:8080/"
        }
      },
      "outputs": [
        {
          "output_type": "stream",
          "name": "stdout",
          "text": [
            "Cannot divide by zero\n",
            "This code always runs\n"
          ]
        }
      ],
      "source": [
        "try:\n",
        "    x = 1 / 0\n",
        "except ZeroDivisionError:\n",
        "    print(\"Cannot divide by zero\")\n",
        "else:\n",
        "    print(\"Division was successful\")\n",
        "finally:\n",
        "    print(\"This code always runs\")"
      ]
    },
    {
      "cell_type": "markdown",
      "id": "28c27e41",
      "metadata": {
        "id": "28c27e41"
      },
      "source": [
        "### 4. Handling multiple exceptions\n",
        "#### You can catch and handle multiple exceptions in a single try-except block. <br>\n",
        "##### ValueError: Raised when a function receives an argument of the correct type but an inappropriate value, making it impossible to perform the intended operation.\n",
        "##### EX: int(\"abc\")  # Cannot convert the string \"abc\" to an integer <br>\n",
        "\n",
        "##### TypeError: Raised when an operation or function is applied to an object of an inappropriate type, indicating that the object is not suitable for the given operation.\n",
        "##### EX: 3 + \"abc\"  # Cannot add an integer (3) and a string (\"abc\") together"
      ]
    },
    {
      "cell_type": "code",
      "execution_count": null,
      "id": "d59613db",
      "metadata": {
        "id": "d59613db",
        "outputId": "eb2a529a-b14f-40b7-cf52-2d3f14575bda"
      },
      "outputs": [
        {
          "name": "stdout",
          "output_type": "stream",
          "text": [
            "Invalid input\n"
          ]
        }
      ],
      "source": [
        "try:\n",
        "    x = int(\"not a number\")\n",
        "except (ValueError, TypeError):\n",
        "    print(\"Invalid input\")"
      ]
    },
    {
      "cell_type": "code",
      "execution_count": null,
      "id": "0d23bdc6",
      "metadata": {
        "id": "0d23bdc6"
      },
      "outputs": [],
      "source": []
    },
    {
      "cell_type": "markdown",
      "id": "cd3198e9",
      "metadata": {
        "id": "cd3198e9"
      },
      "source": [
        "### 5. Assert statements\n",
        "#### Assert statements are used to check if a condition is true, and if it's not, an AssertionError is raised.\n",
        "#### This can be useful for debugging and catching programming errors early."
      ]
    },
    {
      "cell_type": "code",
      "execution_count": null,
      "id": "0e43297d",
      "metadata": {
        "id": "0e43297d",
        "outputId": "2f8cbd56-d34f-4a88-db04-5677fefd422b"
      },
      "outputs": [
        {
          "name": "stdout",
          "output_type": "stream",
          "text": [
            "Passed\n"
          ]
        }
      ],
      "source": [
        "x = 5\n",
        "assert x > 0, \"x must be positive\"\n",
        "\n",
        "print('Passed')"
      ]
    },
    {
      "cell_type": "code",
      "source": [
        "x = -5  # intentionally make the error as massage\n",
        "assert x > 0, \"x must be positive\"\n",
        "\n",
        "print('Passed')"
      ],
      "metadata": {
        "id": "VaqxSFc4jmZo",
        "outputId": "6154bd7e-0396-4288-9595-1d6bf605d102",
        "colab": {
          "base_uri": "https://localhost:8080/",
          "height": 193
        }
      },
      "id": "VaqxSFc4jmZo",
      "execution_count": 10,
      "outputs": [
        {
          "output_type": "error",
          "ename": "AssertionError",
          "evalue": "x must be positive",
          "traceback": [
            "\u001b[0;31m---------------------------------------------------------------------------\u001b[0m",
            "\u001b[0;31mAssertionError\u001b[0m                            Traceback (most recent call last)",
            "\u001b[0;32m<ipython-input-10-cbaf5715f5a3>\u001b[0m in \u001b[0;36m<cell line: 0>\u001b[0;34m()\u001b[0m\n\u001b[1;32m      1\u001b[0m \u001b[0mx\u001b[0m \u001b[0;34m=\u001b[0m \u001b[0;34m-\u001b[0m\u001b[0;36m5\u001b[0m\u001b[0;34m\u001b[0m\u001b[0;34m\u001b[0m\u001b[0m\n\u001b[0;32m----> 2\u001b[0;31m \u001b[0;32massert\u001b[0m \u001b[0mx\u001b[0m \u001b[0;34m>\u001b[0m \u001b[0;36m0\u001b[0m\u001b[0;34m,\u001b[0m \u001b[0;34m\"x must be positive\"\u001b[0m\u001b[0;34m\u001b[0m\u001b[0;34m\u001b[0m\u001b[0m\n\u001b[0m\u001b[1;32m      3\u001b[0m \u001b[0;34m\u001b[0m\u001b[0m\n\u001b[1;32m      4\u001b[0m \u001b[0mprint\u001b[0m\u001b[0;34m(\u001b[0m\u001b[0;34m'Passed'\u001b[0m\u001b[0;34m)\u001b[0m\u001b[0;34m\u001b[0m\u001b[0;34m\u001b[0m\u001b[0m\n",
            "\u001b[0;31mAssertionError\u001b[0m: x must be positive"
          ]
        }
      ]
    }
  ],
  "metadata": {
    "kernelspec": {
      "display_name": "Python 3 (ipykernel)",
      "language": "python",
      "name": "python3"
    },
    "language_info": {
      "codemirror_mode": {
        "name": "ipython",
        "version": 3
      },
      "file_extension": ".py",
      "mimetype": "text/x-python",
      "name": "python",
      "nbconvert_exporter": "python",
      "pygments_lexer": "ipython3",
      "version": "3.9.18"
    },
    "colab": {
      "provenance": []
    }
  },
  "nbformat": 4,
  "nbformat_minor": 5
}
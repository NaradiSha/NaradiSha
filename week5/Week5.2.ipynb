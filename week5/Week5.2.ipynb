{
  "cells": [
    {
      "cell_type": "markdown",
      "id": "b1253ea4",
      "metadata": {
        "id": "b1253ea4"
      },
      "source": [
        "## Objective: Learn and understand advanced conditional statements and error handling in Python\n",
        "https://colab.research.google.com/github/JunetaeKim/PythonClass/blob/main/week5/Week5.2.ipynb\n",
        "### Outline:\n",
        "#### ① Short-circuit evaluation\n",
        "#### ② Try-Except blocks for error handling\n",
        "#### ③ Else and Finally clauses\n",
        "#### ④ Handling multiple exceptions\n",
        "#### ⑤ Assert statements"
      ]
    },
    {
      "cell_type": "code",
      "execution_count": null,
      "id": "15b77469",
      "metadata": {
        "id": "15b77469"
      },
      "outputs": [],
      "source": []
    },
    {
      "cell_type": "markdown",
      "id": "8bc744a5",
      "metadata": {
        "tags": [],
        "id": "8bc744a5"
      },
      "source": [
        "### 1. Short-circuit evaluation\n",
        "#### Python uses short-circuit evaluation when evaluating logical expressions, meaning that it stops evaluating as soon as the result is determined."
      ]
    },
    {
      "cell_type": "code",
      "execution_count": 1,
      "id": "5d342639",
      "metadata": {
        "id": "5d342639",
        "outputId": "e60cd877-bec8-4cf7-d4e5-138a7ce97fa6",
        "colab": {
          "base_uri": "https://localhost:8080/"
        }
      },
      "outputs": [
        {
          "output_type": "stream",
          "name": "stdout",
          "text": [
            "False\n"
          ]
        }
      ],
      "source": [
        "# and operator\n",
        "x = False\n",
        "y = True  # ZeroDivisionError occurs\n",
        "\n",
        "# Thanks to short-circuit evaluation, y is not evaluated\n",
        "result = x and y  # result is False\n",
        "print(result)  # Output: False"
      ]
    },
    {
      "cell_type": "code",
      "execution_count": null,
      "id": "1f31a46e",
      "metadata": {
        "id": "1f31a46e",
        "outputId": "0e9d1566-5ef3-4c91-a8d1-0c8af6c211c1"
      },
      "outputs": [
        {
          "name": "stdout",
          "output_type": "stream",
          "text": [
            "True\n"
          ]
        }
      ],
      "source": [
        "# or operator\n",
        "x = True\n",
        "y = False\n",
        "\n",
        "# Thanks to short-circuit evaluation, y is not evaluated\n",
        "result = x or y  # result is True\n",
        "print(result)  # Output: True"
      ]
    },
    {
      "cell_type": "code",
      "execution_count": null,
      "id": "dae410ca-eee4-49f9-96dc-abe4e043eae9",
      "metadata": {
        "id": "dae410ca-eee4-49f9-96dc-abe4e043eae9"
      },
      "outputs": [],
      "source": []
    },
    {
      "cell_type": "markdown",
      "id": "bc6badd1",
      "metadata": {
        "jp-MarkdownHeadingCollapsed": true,
        "id": "bc6badd1"
      },
      "source": [
        "### 2. Try-Except blocks for error handling\n",
        "#### You can use try-except blocks to catch and handle exceptions that may occur during the execution of your program."
      ]
    },
    {
      "cell_type": "code",
      "execution_count": null,
      "id": "a46519de",
      "metadata": {
        "id": "a46519de",
        "outputId": "b7f391a9-e9bc-4edd-ce00-ae0770e52d9c"
      },
      "outputs": [
        {
          "name": "stdout",
          "output_type": "stream",
          "text": [
            "Cannot divide by zero\n"
          ]
        }
      ],
      "source": [
        "try:\n",
        "    x = 1 / 0\n",
        "except ZeroDivisionError:\n",
        "    print(\"Cannot divide by zero\")"
      ]
    },
    {
      "cell_type": "code",
      "execution_count": null,
      "id": "77125366",
      "metadata": {
        "id": "77125366"
      },
      "outputs": [],
      "source": []
    },
    {
      "cell_type": "markdown",
      "id": "e5499ac1",
      "metadata": {
        "id": "e5499ac1"
      },
      "source": [
        "### 3. Else and Finally clauses\n",
        "#### You can use the else and finally clauses with try-except blocks to execute code that should run when no exceptions are raised or after the try block completes, respectively."
      ]
    },
    {
      "cell_type": "code",
      "execution_count": null,
      "id": "f3788edb",
      "metadata": {
        "id": "f3788edb",
        "outputId": "71ae13ea-0d73-4db9-f57f-63ea99ed99c8"
      },
      "outputs": [
        {
          "name": "stdout",
          "output_type": "stream",
          "text": [
            "Division was successful\n",
            "This code always runs\n"
          ]
        }
      ],
      "source": [
        "try:\n",
        "    x = 1 / 2\n",
        "except ZeroDivisionError:\n",
        "    print(\"Cannot divide by zero\")\n",
        "else:\n",
        "    print(\"Division was successful\")\n",
        "finally:\n",
        "    print(\"This code always runs\")"
      ]
    },
    {
      "cell_type": "code",
      "execution_count": null,
      "id": "d5b3041c",
      "metadata": {
        "id": "d5b3041c"
      },
      "outputs": [],
      "source": []
    },
    {
      "cell_type": "markdown",
      "id": "28c27e41",
      "metadata": {
        "id": "28c27e41"
      },
      "source": [
        "### 4. Handling multiple exceptions\n",
        "#### You can catch and handle multiple exceptions in a single try-except block. <br>\n",
        "##### ValueError: Raised when a function receives an argument of the correct type but an inappropriate value, making it impossible to perform the intended operation.\n",
        "##### EX: int(\"abc\")  # Cannot convert the string \"abc\" to an integer <br>\n",
        "\n",
        "##### TypeError: Raised when an operation or function is applied to an object of an inappropriate type, indicating that the object is not suitable for the given operation.\n",
        "##### EX: 3 + \"abc\"  # Cannot add an integer (3) and a string (\"abc\") together"
      ]
    },
    {
      "cell_type": "code",
      "execution_count": null,
      "id": "d59613db",
      "metadata": {
        "id": "d59613db",
        "outputId": "4ef7e53a-37a6-4f25-d1fa-f91f44fe127c"
      },
      "outputs": [
        {
          "name": "stdout",
          "output_type": "stream",
          "text": [
            "Invalid input\n"
          ]
        }
      ],
      "source": [
        "try:\n",
        "    x = int(\"not a number\")\n",
        "except (ValueError, TypeError):\n",
        "    print(\"Invalid input\")"
      ]
    },
    {
      "cell_type": "code",
      "execution_count": null,
      "id": "0d23bdc6",
      "metadata": {
        "id": "0d23bdc6"
      },
      "outputs": [],
      "source": []
    },
    {
      "cell_type": "markdown",
      "id": "cd3198e9",
      "metadata": {
        "id": "cd3198e9"
      },
      "source": [
        "### 5. Assert statements\n",
        "#### Assert statements are used to check if a condition is true, and if it's not, an AssertionError is raised.\n",
        "#### This can be useful for debugging and catching programming errors early."
      ]
    },
    {
      "cell_type": "code",
      "execution_count": null,
      "id": "0e43297d",
      "metadata": {
        "id": "0e43297d",
        "outputId": "a894ad5f-48ff-4c7d-8e3a-91aadd8faa25"
      },
      "outputs": [
        {
          "name": "stdout",
          "output_type": "stream",
          "text": [
            "Passed\n"
          ]
        }
      ],
      "source": [
        "x = 5\n",
        "assert x > 0, \"x must be positive\"\n",
        "\n",
        "print('Passed')"
      ]
    }
  ],
  "metadata": {
    "kernelspec": {
      "display_name": "Python 3 (ipykernel)",
      "language": "python",
      "name": "python3"
    },
    "language_info": {
      "codemirror_mode": {
        "name": "ipython",
        "version": 3
      },
      "file_extension": ".py",
      "mimetype": "text/x-python",
      "name": "python",
      "nbconvert_exporter": "python",
      "pygments_lexer": "ipython3",
      "version": "3.9.18"
    },
    "colab": {
      "provenance": []
    }
  },
  "nbformat": 4,
  "nbformat_minor": 5
}
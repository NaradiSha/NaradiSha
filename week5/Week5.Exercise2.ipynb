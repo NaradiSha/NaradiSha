{
  "cells": [
    {
      "cell_type": "markdown",
      "id": "d40fce9f-b7b6-4d64-90f0-a1852d8cdda2",
      "metadata": {
        "id": "d40fce9f-b7b6-4d64-90f0-a1852d8cdda2"
      },
      "source": [
        "#### https://colab.research.google.com/github/JunetaeKim/PythonClass/blob/main/week5/Week5.Exercise2.ipynb"
      ]
    },
    {
      "cell_type": "markdown",
      "id": "b3578e08",
      "metadata": {
        "id": "b3578e08"
      },
      "source": [
        "#### 1. Handle a division by zero exception. 'ZeroDivisionError'"
      ]
    },
    {
      "cell_type": "code",
      "execution_count": 1,
      "id": "2771376b",
      "metadata": {
        "id": "2771376b",
        "outputId": "3c8ecfb0-777e-4fd9-fe5b-7aefbba90cd3",
        "colab": {
          "base_uri": "https://localhost:8080/"
        }
      },
      "outputs": [
        {
          "output_type": "stream",
          "name": "stdout",
          "text": [
            "error\n"
          ]
        }
      ],
      "source": [
        "a = 10\n",
        "b = 0\n",
        "try:\n",
        "    result = a / b\n",
        "except ZeroDivisionError:\n",
        "    print(\"error\")"
      ]
    },
    {
      "cell_type": "code",
      "execution_count": null,
      "id": "22d6c29a",
      "metadata": {
        "id": "22d6c29a"
      },
      "outputs": [],
      "source": []
    },
    {
      "cell_type": "markdown",
      "id": "96e999ae",
      "metadata": {
        "id": "96e999ae"
      },
      "source": [
        "#### 2. Handle an exception when trying to access a non-existent key in a dictionary. 'KeyError'"
      ]
    },
    {
      "cell_type": "code",
      "execution_count": 3,
      "id": "c6ac0fe1",
      "metadata": {
        "id": "c6ac0fe1",
        "outputId": "2a453cd2-50a7-4b4e-c297-13b7752649f4",
        "colab": {
          "base_uri": "https://localhost:8080/"
        }
      },
      "outputs": [
        {
          "output_type": "stream",
          "name": "stdout",
          "text": [
            "Key 'city' not found in the dictionary.\n"
          ]
        }
      ],
      "source": [
        "d = {'name': 'Alice', 'age': 25}\n",
        "key = 'city'\n",
        "\n",
        "try:\n",
        "    value = d[key]\n",
        "    print(\"Value:\", value)\n",
        "except KeyError:\n",
        "    print(f\"Key '{key}' not found in the dictionary.\")\n"
      ]
    },
    {
      "cell_type": "markdown",
      "id": "c4d51be0",
      "metadata": {
        "id": "c4d51be0"
      },
      "source": [
        "#### 3. Handle an exception when trying to convert a non-numeric string to an integer. 'ValueError'"
      ]
    },
    {
      "cell_type": "code",
      "execution_count": null,
      "id": "ebbdd393",
      "metadata": {
        "id": "ebbdd393"
      },
      "outputs": [],
      "source": [
        "s = \"not_a_number\""
      ]
    },
    {
      "cell_type": "code",
      "execution_count": 4,
      "id": "da21b6fa",
      "metadata": {
        "id": "da21b6fa",
        "outputId": "e05e4a3d-fe3b-46a5-82d5-0d416747925a",
        "colab": {
          "base_uri": "https://localhost:8080/"
        }
      },
      "outputs": [
        {
          "output_type": "stream",
          "name": "stdout",
          "text": [
            "Cannot convert 'not_a_number' to an integer.\n"
          ]
        }
      ],
      "source": [
        "s = \"not_a_number\"\n",
        "\n",
        "try:\n",
        "    num = int(s)\n",
        "    print(\"Converted number:\", num)\n",
        "except ValueError:\n",
        "    print(f\"Cannot convert '{s}' to an integer.\")\n"
      ]
    },
    {
      "cell_type": "markdown",
      "id": "fcc37f7b",
      "metadata": {
        "id": "fcc37f7b"
      },
      "source": [
        "#### 4. Handle an exception when trying to access an out-of-range index in a list. 'IndexError'"
      ]
    },
    {
      "cell_type": "code",
      "execution_count": null,
      "id": "73f5f390",
      "metadata": {
        "id": "73f5f390"
      },
      "outputs": [],
      "source": [
        "my_list = [1, 2, 3]\n",
        "index = 5"
      ]
    },
    {
      "cell_type": "code",
      "execution_count": 5,
      "id": "1546eb0a",
      "metadata": {
        "id": "1546eb0a",
        "outputId": "43e53d27-7a0b-44e9-dba2-125856446062",
        "colab": {
          "base_uri": "https://localhost:8080/"
        }
      },
      "outputs": [
        {
          "output_type": "stream",
          "name": "stdout",
          "text": [
            "Index 5 is out of range.\n"
          ]
        }
      ],
      "source": [
        "my_list = [1, 2, 3]\n",
        "index = 5\n",
        "\n",
        "try:\n",
        "    value = my_list[index]\n",
        "    print(\"Value at index\", index, \"is\", value)\n",
        "except IndexError:\n",
        "    print(f\"Index {index} is out of range.\")\n"
      ]
    },
    {
      "cell_type": "markdown",
      "id": "a31a0287",
      "metadata": {
        "id": "a31a0287"
      },
      "source": [
        "#### 5. Handle an exception when trying to open a non-existent file. 'FileNotFoundError'"
      ]
    },
    {
      "cell_type": "code",
      "execution_count": null,
      "id": "9851b6b7",
      "metadata": {
        "id": "9851b6b7"
      },
      "outputs": [],
      "source": [
        "filename = \"non_existent_file.txt\""
      ]
    },
    {
      "cell_type": "code",
      "execution_count": 6,
      "id": "03e8faff",
      "metadata": {
        "id": "03e8faff",
        "outputId": "42df8a05-bd0a-49a4-d0a5-9a35d0c75c9a",
        "colab": {
          "base_uri": "https://localhost:8080/"
        }
      },
      "outputs": [
        {
          "output_type": "stream",
          "name": "stdout",
          "text": [
            "The file 'non_existent_file.txt' was not found.\n"
          ]
        }
      ],
      "source": [
        "filename = \"non_existent_file.txt\"\n",
        "\n",
        "try:\n",
        "    with open(filename, \"r\") as file:\n",
        "        content = file.read()\n",
        "        print(content)\n",
        "except FileNotFoundError:\n",
        "    print(f\"The file '{filename}' was not found.\")\n"
      ]
    },
    {
      "cell_type": "markdown",
      "id": "7100da80",
      "metadata": {
        "id": "7100da80"
      },
      "source": [
        "#### 6. Handle a TypeError when trying to concatenate a string and an integer. 'TypeError'"
      ]
    },
    {
      "cell_type": "code",
      "execution_count": null,
      "id": "35c9d1f3",
      "metadata": {
        "id": "35c9d1f3"
      },
      "outputs": [],
      "source": [
        "a = \"hello\"\n",
        "b = 42\n"
      ]
    },
    {
      "cell_type": "code",
      "execution_count": 7,
      "id": "09aca3cf",
      "metadata": {
        "id": "09aca3cf",
        "outputId": "c617e963-e3f0-4b7f-816d-c7d12fa33d18",
        "colab": {
          "base_uri": "https://localhost:8080/"
        }
      },
      "outputs": [
        {
          "output_type": "stream",
          "name": "stdout",
          "text": [
            "Cannot concatenate a string and an integer directly.\n"
          ]
        }
      ],
      "source": [
        "a = \"hello\"\n",
        "b = 42\n",
        "\n",
        "try:\n",
        "    result = a + b\n",
        "    print(result)\n",
        "except TypeError:\n",
        "    print(\"Cannot concatenate a string and an integer directly.\")\n"
      ]
    },
    {
      "cell_type": "markdown",
      "id": "28c90296",
      "metadata": {
        "id": "28c90296"
      },
      "source": [
        "#### 7. Handle an exception when trying to import a non-existent module. 'ImportError'"
      ]
    },
    {
      "cell_type": "code",
      "execution_count": null,
      "id": "6edcaeb6",
      "metadata": {
        "id": "6edcaeb6"
      },
      "outputs": [],
      "source": [
        "module_name = \"non_existent_module\"\n"
      ]
    },
    {
      "cell_type": "code",
      "execution_count": 8,
      "id": "2f07eb4d",
      "metadata": {
        "id": "2f07eb4d",
        "outputId": "c8b2aaf5-10a9-479a-e998-770f9caddf97",
        "colab": {
          "base_uri": "https://localhost:8080/"
        }
      },
      "outputs": [
        {
          "output_type": "stream",
          "name": "stdout",
          "text": [
            "Module 'non_existent_module' could not be imported.\n"
          ]
        }
      ],
      "source": [
        "module_name = \"non_existent_module\"\n",
        "\n",
        "try:\n",
        "    __import__(module_name)\n",
        "except ImportError:\n",
        "    print(f\"Module '{module_name}' could not be imported.\")\n"
      ]
    },
    {
      "cell_type": "markdown",
      "id": "31272b71",
      "metadata": {
        "id": "31272b71"
      },
      "source": [
        "#### 8. Handle an exception when trying to call an undefined function. 'NameError'"
      ]
    },
    {
      "cell_type": "code",
      "execution_count": null,
      "id": "066a9e7c",
      "metadata": {
        "id": "066a9e7c"
      },
      "outputs": [],
      "source": [
        "function_name = \"undefined_function\"\n"
      ]
    },
    {
      "cell_type": "code",
      "execution_count": 9,
      "id": "b2d3b053",
      "metadata": {
        "id": "b2d3b053",
        "outputId": "36a6e915-cbbd-4738-9812-899878a5acb9",
        "colab": {
          "base_uri": "https://localhost:8080/"
        }
      },
      "outputs": [
        {
          "output_type": "stream",
          "name": "stdout",
          "text": [
            "The function 'undefined_function' is not defined.\n"
          ]
        }
      ],
      "source": [
        "function_name = \"undefined_function\"\n",
        "\n",
        "try:\n",
        "    undefined_function()  # This function is not defined\n",
        "except NameError:\n",
        "    print(f\"The function '{function_name}' is not defined.\")\n"
      ]
    },
    {
      "cell_type": "markdown",
      "id": "e3d3d897",
      "metadata": {
        "id": "e3d3d897"
      },
      "source": [
        "#### 9. Handle multiple exceptions when trying to convert user input to an integer and divide by it. 'ValueError' , 'ZeroDivisionError'"
      ]
    },
    {
      "cell_type": "code",
      "execution_count": null,
      "id": "a6502ab8",
      "metadata": {
        "id": "a6502ab8",
        "outputId": "cc925293-66cc-46be-cffe-c1994732a5a4"
      },
      "outputs": [
        {
          "name": "stdin",
          "output_type": "stream",
          "text": [
            " 10\n"
          ]
        }
      ],
      "source": [
        "user_input = input()\n",
        "dividend = 10"
      ]
    },
    {
      "cell_type": "code",
      "execution_count": null,
      "id": "6f4ab442",
      "metadata": {
        "id": "6f4ab442"
      },
      "outputs": [],
      "source": [
        "user_input = input(\"Enter a number: \")\n",
        "dividend = 10\n",
        "\n",
        "try:\n",
        "    divisor = int(user_input)\n",
        "    result = dividend / divisor\n",
        "    print(\"Result:\", result)\n",
        "except ValueError:\n",
        "    print(\"Invalid input! Please enter a numeric value.\")\n",
        "except ZeroDivisionError:\n",
        "    print(\"Cannot divide by zero.\")\n"
      ]
    }
  ],
  "metadata": {
    "kernelspec": {
      "display_name": "Python 3 (ipykernel)",
      "language": "python",
      "name": "python3"
    },
    "language_info": {
      "codemirror_mode": {
        "name": "ipython",
        "version": 3
      },
      "file_extension": ".py",
      "mimetype": "text/x-python",
      "name": "python",
      "nbconvert_exporter": "python",
      "pygments_lexer": "ipython3",
      "version": "3.8.13"
    },
    "colab": {
      "provenance": []
    }
  },
  "nbformat": 4,
  "nbformat_minor": 5
}
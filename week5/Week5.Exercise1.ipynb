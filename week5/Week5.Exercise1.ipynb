{
  "cells": [
    {
      "cell_type": "markdown",
      "id": "a3282ad1-f8df-42c5-9320-0f4d2a6c53e5",
      "metadata": {
        "id": "a3282ad1-f8df-42c5-9320-0f4d2a6c53e5"
      },
      "source": [
        "#### https://colab.research.google.com/github/JunetaeKim/PythonClass/blob/main/week5/Week5.Exercise1.ipynb"
      ]
    },
    {
      "cell_type": "markdown",
      "id": "73b90246",
      "metadata": {
        "id": "73b90246"
      },
      "source": [
        "#### 1. Check if the given number is divisible by 5."
      ]
    },
    {
      "cell_type": "code",
      "execution_count": 1,
      "id": "8c2e6051",
      "metadata": {
        "id": "8c2e6051"
      },
      "outputs": [],
      "source": [
        "number = 25\n"
      ]
    },
    {
      "cell_type": "code",
      "execution_count": null,
      "id": "b5fbbefa",
      "metadata": {
        "id": "b5fbbefa"
      },
      "outputs": [],
      "source": [
        "if number % 5 == 0:\n",
        "  print(\"Divisable by 5\")\n",
        "  else :\n",
        "  print(\"Not divisabke by 5\")"
      ]
    },
    {
      "cell_type": "markdown",
      "id": "d44deafa",
      "metadata": {
        "id": "d44deafa"
      },
      "source": [
        "#### 2. Check if the given two numbers are equal."
      ]
    },
    {
      "cell_type": "code",
      "execution_count": null,
      "id": "7b9f4c05",
      "metadata": {
        "id": "7b9f4c05"
      },
      "outputs": [],
      "source": [
        "a = 10\n",
        "b = 15"
      ]
    },
    {
      "cell_type": "code",
      "execution_count": null,
      "id": "b1d4d8f6",
      "metadata": {
        "id": "b1d4d8f6"
      },
      "outputs": [],
      "source": [
        "print(\"Equal\" if a == b else \"Not equal\")\n",
        "\n",
        "if a == b:\n",
        "  print(\"equal\")\n",
        "  else:\n",
        "    print(\"not equal\")"
      ]
    },
    {
      "cell_type": "markdown",
      "id": "7bf3f4b1",
      "metadata": {
        "id": "7bf3f4b1"
      },
      "source": [
        "#### 3. Find the smallest of three given numbers."
      ]
    },
    {
      "cell_type": "code",
      "execution_count": null,
      "id": "3b0a12aa",
      "metadata": {
        "id": "3b0a12aa"
      },
      "outputs": [],
      "source": [
        "a = 3\n",
        "b = 5\n",
        "c = 2"
      ]
    },
    {
      "cell_type": "code",
      "execution_count": null,
      "id": "d652fb21",
      "metadata": {
        "id": "d652fb21"
      },
      "outputs": [],
      "source": [
        "a, b, c = 3, 5, 2\n",
        "smallest = min(a,b,c)\n",
        "print(\"Smallest number:\", smallest)"
      ]
    },
    {
      "cell_type": "markdown",
      "id": "a25f9c71",
      "metadata": {
        "id": "a25f9c71"
      },
      "source": [
        "#### 4. Check if the given number is between 1 and 10 (inclusive)."
      ]
    },
    {
      "cell_type": "code",
      "execution_count": null,
      "id": "5f7d31cc",
      "metadata": {
        "id": "5f7d31cc"
      },
      "outputs": [],
      "source": [
        "number = 7"
      ]
    },
    {
      "cell_type": "code",
      "execution_count": null,
      "id": "05583d8d",
      "metadata": {
        "id": "05583d8d"
      },
      "outputs": [],
      "source": [
        "print(\"In range\" if 1 <= number <= 10 else \"Out of range\")\n",
        "if 1 <= number"
      ]
    },
    {
      "cell_type": "markdown",
      "id": "822359c1",
      "metadata": {
        "id": "822359c1"
      },
      "source": [
        "#### 5. Determine the sign of the given number: positive, negative, or zero."
      ]
    },
    {
      "cell_type": "code",
      "execution_count": null,
      "id": "11d7d657",
      "metadata": {
        "id": "11d7d657"
      },
      "outputs": [],
      "source": [
        "number = -3"
      ]
    },
    {
      "cell_type": "code",
      "execution_count": null,
      "id": "9e22aa93",
      "metadata": {
        "id": "9e22aa93"
      },
      "outputs": [],
      "source": [
        "if number > 0:\n",
        "  print(\"positive\")\n",
        "  elif number < 0:\n",
        "    print(\"negative\")\n",
        "    else:\n",
        "      print(\"Zero\")\n"
      ]
    },
    {
      "cell_type": "markdown",
      "id": "84953199",
      "metadata": {
        "id": "84953199"
      },
      "source": [
        "#### 6. Calculate the total cost of items with a given price and quantity, including a 10% discount if the quantity is 5 or more."
      ]
    },
    {
      "cell_type": "code",
      "execution_count": null,
      "id": "70f581f0",
      "metadata": {
        "id": "70f581f0"
      },
      "outputs": [],
      "source": [
        "price = 15\n",
        "quantity = 7"
      ]
    },
    {
      "cell_type": "code",
      "execution_count": null,
      "id": "fdd178fb",
      "metadata": {
        "id": "fdd178fb"
      },
      "outputs": [],
      "source": [
        "total = price * quantity\n",
        "if quantity >= 5:\n",
        "total *= 0.9\n",
        "print(\"Total cost:\", total)\n"
      ]
    },
    {
      "cell_type": "markdown",
      "id": "5ccaa31b",
      "metadata": {
        "id": "5ccaa31b"
      },
      "source": [
        "#### 7. Check if the given string starts with the letter 'a' or 'A'."
      ]
    },
    {
      "cell_type": "code",
      "execution_count": null,
      "id": "f8632485",
      "metadata": {
        "id": "f8632485"
      },
      "outputs": [],
      "source": [
        "text = \"Apple\""
      ]
    },
    {
      "cell_type": "code",
      "execution_count": null,
      "id": "0affc41c",
      "metadata": {
        "id": "0affc41c"
      },
      "outputs": [],
      "source": [
        "print(\"Starts with A\" if text.lower().startswith(\"a\") else \"Does not start with A\")\n",
        "\n"
      ]
    },
    {
      "cell_type": "code",
      "source": [
        "text[0] == \"a\" or text[0] == \"A\""
      ],
      "metadata": {
        "id": "KVAdXy-RqYdf"
      },
      "id": "KVAdXy-RqYdf",
      "execution_count": null,
      "outputs": []
    },
    {
      "cell_type": "markdown",
      "id": "d4bc4183",
      "metadata": {
        "id": "d4bc4183"
      },
      "source": [
        "#### 8. Check if the given two numbers have the same sign (both positive or both negative)."
      ]
    },
    {
      "cell_type": "code",
      "execution_count": null,
      "id": "ea8ffca8",
      "metadata": {
        "id": "ea8ffca8"
      },
      "outputs": [],
      "source": [
        "a = 4\n",
        "b = 6"
      ]
    },
    {
      "cell_type": "code",
      "execution_count": null,
      "id": "6beb1b1b",
      "metadata": {
        "id": "6beb1b1b"
      },
      "outputs": [],
      "source": [
        "if (a >= 0 and b >= 0) or (a < 0 and b < 0):\n",
        "  print(\"both positive\")\n",
        "  else:\n",
        "    print(\"both negative\")"
      ]
    },
    {
      "cell_type": "code",
      "source": [],
      "metadata": {
        "id": "BajbdJ2aqx-t"
      },
      "id": "BajbdJ2aqx-t",
      "execution_count": null,
      "outputs": []
    },
    {
      "cell_type": "markdown",
      "id": "541ce83b",
      "metadata": {
        "id": "541ce83b"
      },
      "source": [
        "#### 9. Calculate the price after applying a 10% discount for items over $100."
      ]
    },
    {
      "cell_type": "code",
      "execution_count": null,
      "id": "c7a89197",
      "metadata": {
        "id": "c7a89197"
      },
      "outputs": [],
      "source": [
        "price = 150"
      ]
    },
    {
      "cell_type": "code",
      "execution_count": null,
      "id": "2a5756fb",
      "metadata": {
        "id": "2a5756fb"
      },
      "outputs": [],
      "source": [
        "if price > 100:\n",
        "  price *= 0.9\n",
        "  print(\"Final price:\", price)"
      ]
    },
    {
      "cell_type": "markdown",
      "id": "7a430cfe",
      "metadata": {
        "id": "7a430cfe"
      },
      "source": [
        "#### 10. Check if the given age qualifies for a senior citizen discount (65 years or older)."
      ]
    },
    {
      "cell_type": "code",
      "execution_count": null,
      "id": "2889161a",
      "metadata": {
        "id": "2889161a"
      },
      "outputs": [],
      "source": [
        "age = 70\n",
        "if age >= 65:\n",
        "    print(\"Eligible for senior discount\")\n",
        "else:\n",
        "    print(\"Not eligible\")\n"
      ]
    }
  ],
  "metadata": {
    "kernelspec": {
      "display_name": "Python 3 (ipykernel)",
      "language": "python",
      "name": "python3"
    },
    "language_info": {
      "codemirror_mode": {
        "name": "ipython",
        "version": 3
      },
      "file_extension": ".py",
      "mimetype": "text/x-python",
      "name": "python",
      "nbconvert_exporter": "python",
      "pygments_lexer": "ipython3",
      "version": "3.8.13"
    },
    "colab": {
      "provenance": []
    }
  },
  "nbformat": 4,
  "nbformat_minor": 5
}
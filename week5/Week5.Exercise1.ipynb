{
  "cells": [
    {
      "cell_type": "markdown",
      "id": "a3282ad1-f8df-42c5-9320-0f4d2a6c53e5",
      "metadata": {
        "id": "a3282ad1-f8df-42c5-9320-0f4d2a6c53e5"
      },
      "source": [
        "#### https://colab.research.google.com/github/JunetaeKim/PythonClass/blob/main/week5/Week5.Exercise1.ipynb"
      ]
    },
    {
      "cell_type": "markdown",
      "id": "73b90246",
      "metadata": {
        "id": "73b90246"
      },
      "source": [
        "#### 1. Check if the given number is divisible by 5."
      ]
    },
    {
      "cell_type": "code",
      "execution_count": null,
      "id": "8c2e6051",
      "metadata": {
        "id": "8c2e6051"
      },
      "outputs": [],
      "source": [
        "number = 25\n",
        "if number % 5 == 0:\n",
        "  print()\n"
      ]
    },
    {
      "cell_type": "code",
      "execution_count": null,
      "id": "b5fbbefa",
      "metadata": {
        "id": "b5fbbefa"
      },
      "outputs": [],
      "source": []
    },
    {
      "cell_type": "markdown",
      "id": "d44deafa",
      "metadata": {
        "id": "d44deafa"
      },
      "source": [
        "#### 2. Check if the given two numbers are equal."
      ]
    },
    {
      "cell_type": "code",
      "execution_count": 2,
      "id": "7b9f4c05",
      "metadata": {
        "id": "7b9f4c05"
      },
      "outputs": [],
      "source": [
        "a = 10\n",
        "b = 15\n",
        "if a==b:\n",
        "  print(equal)"
      ]
    },
    {
      "cell_type": "code",
      "execution_count": null,
      "id": "b1d4d8f6",
      "metadata": {
        "id": "b1d4d8f6"
      },
      "outputs": [],
      "source": []
    },
    {
      "cell_type": "markdown",
      "id": "7bf3f4b1",
      "metadata": {
        "id": "7bf3f4b1"
      },
      "source": [
        "#### 3. Find the smallest of three given numbers."
      ]
    },
    {
      "cell_type": "code",
      "execution_count": 3,
      "id": "3b0a12aa",
      "metadata": {
        "id": "3b0a12aa",
        "outputId": "712abc94-062a-484f-93fb-f4da0179be9b",
        "colab": {
          "base_uri": "https://localhost:8080/",
          "height": 106
        }
      },
      "outputs": [
        {
          "output_type": "error",
          "ename": "SyntaxError",
          "evalue": "invalid syntax (<ipython-input-3-2046898611>, line 8)",
          "traceback": [
            "\u001b[0;36m  File \u001b[0;32m\"<ipython-input-3-2046898611>\"\u001b[0;36m, line \u001b[0;32m8\u001b[0m\n\u001b[0;31m    else:\u001b[0m\n\u001b[0m    ^\u001b[0m\n\u001b[0;31mSyntaxError\u001b[0m\u001b[0;31m:\u001b[0m invalid syntax\n"
          ]
        }
      ],
      "source": [
        "a = 3\n",
        "b = 5\n",
        "c = 2\n",
        "if a<b and a<c:\n",
        "  print(a)\n",
        "  if b<c:\n",
        "    print(b)\n",
        "   else:\n",
        "      print(c)"
      ]
    },
    {
      "cell_type": "code",
      "execution_count": null,
      "id": "d652fb21",
      "metadata": {
        "id": "d652fb21"
      },
      "outputs": [],
      "source": []
    },
    {
      "cell_type": "markdown",
      "id": "a25f9c71",
      "metadata": {
        "id": "a25f9c71"
      },
      "source": [
        "#### 4. Check if the given number is between 1 and 10 (inclusive)."
      ]
    },
    {
      "cell_type": "code",
      "execution_count": 4,
      "id": "5f7d31cc",
      "metadata": {
        "id": "5f7d31cc",
        "outputId": "33277df0-27db-4587-d1e5-83e226c03164",
        "colab": {
          "base_uri": "https://localhost:8080/"
        }
      },
      "outputs": [
        {
          "output_type": "stream",
          "name": "stdout",
          "text": [
            "7\n"
          ]
        }
      ],
      "source": [
        "number = 7\n",
        "if number>=1 and number<=10:\n",
        "  print(number)"
      ]
    },
    {
      "cell_type": "code",
      "execution_count": null,
      "id": "05583d8d",
      "metadata": {
        "id": "05583d8d"
      },
      "outputs": [],
      "source": []
    },
    {
      "cell_type": "markdown",
      "id": "822359c1",
      "metadata": {
        "id": "822359c1"
      },
      "source": [
        "#### 5. Determine the sign of the given number: positive, negative, or zero."
      ]
    },
    {
      "cell_type": "code",
      "source": [
        "number = -3\n",
        "\n",
        "if number > 0:\n",
        "    print(\"The number is positive.\")\n",
        "elif number < 0:\n",
        "    print(\"The number is negative.\")\n",
        "else:\n",
        "    print(\"The number is zero.\")\n"
      ],
      "metadata": {
        "id": "t6gS9fUjCmt-",
        "outputId": "dbb6b93a-1f01-4d0c-ea98-a3a0b5f2d0d2",
        "colab": {
          "base_uri": "https://localhost:8080/"
        }
      },
      "id": "t6gS9fUjCmt-",
      "execution_count": 13,
      "outputs": [
        {
          "output_type": "stream",
          "name": "stdout",
          "text": [
            "The number is negative.\n"
          ]
        }
      ]
    },
    {
      "cell_type": "code",
      "execution_count": null,
      "id": "9e22aa93",
      "metadata": {
        "id": "9e22aa93"
      },
      "outputs": [],
      "source": []
    },
    {
      "cell_type": "markdown",
      "id": "84953199",
      "metadata": {
        "id": "84953199"
      },
      "source": [
        "#### 6. Calculate the total cost of items with a given price and quantity, including a 10% discount if the quantity is 5 or more."
      ]
    },
    {
      "cell_type": "code",
      "execution_count": 12,
      "id": "fdd178fb",
      "metadata": {
        "id": "fdd178fb",
        "outputId": "054a6f16-ae4b-4c17-c324-15f8a25436cb",
        "colab": {
          "base_uri": "https://localhost:8080/"
        }
      },
      "outputs": [
        {
          "output_type": "stream",
          "name": "stdout",
          "text": [
            "Total cost: 94.5\n"
          ]
        }
      ],
      "source": [
        "price = 15\n",
        "quantity = 7\n",
        "\n",
        "total = price * quantity\n",
        "\n",
        "# Apply 10% discount if quantity is 5 or more\n",
        "if quantity >= 5:\n",
        "    total *= 0.9  # 10% discount\n",
        "\n",
        "print(\"Total cost:\", total)\n"
      ]
    },
    {
      "cell_type": "markdown",
      "id": "5ccaa31b",
      "metadata": {
        "id": "5ccaa31b"
      },
      "source": [
        "#### 7. Check if the given string starts with the letter 'a' or 'A'."
      ]
    },
    {
      "cell_type": "code",
      "source": [
        "word = \"Apple\"\n",
        "\n",
        "if word[0] == 'a' or word[0] == 'A':\n",
        "    print(\"Yes, it starts with 'a' or 'A'.\")\n",
        "else:\n",
        "    print(\"No, it doesn't start with 'a' or 'A'.\")\n"
      ],
      "metadata": {
        "id": "D4ymGL2HCFX1",
        "outputId": "333d9a95-cf8a-46ec-8665-f1597e55f303",
        "colab": {
          "base_uri": "https://localhost:8080/"
        }
      },
      "id": "D4ymGL2HCFX1",
      "execution_count": 11,
      "outputs": [
        {
          "output_type": "stream",
          "name": "stdout",
          "text": [
            "Yes, it starts with 'a' or 'A'.\n"
          ]
        }
      ]
    },
    {
      "cell_type": "code",
      "execution_count": null,
      "id": "0affc41c",
      "metadata": {
        "id": "0affc41c"
      },
      "outputs": [],
      "source": []
    },
    {
      "cell_type": "markdown",
      "id": "d4bc4183",
      "metadata": {
        "id": "d4bc4183"
      },
      "source": [
        "#### 8. Check if the given two numbers have the same sign (both positive or both negative)."
      ]
    },
    {
      "cell_type": "code",
      "execution_count": null,
      "id": "ea8ffca8",
      "metadata": {
        "id": "ea8ffca8"
      },
      "outputs": [],
      "source": [
        "a = 4\n",
        "b = 6"
      ]
    },
    {
      "cell_type": "code",
      "execution_count": 14,
      "id": "6beb1b1b",
      "metadata": {
        "id": "6beb1b1b",
        "outputId": "1d4376d6-9c15-4f2b-ab69-2c18f5f90922",
        "colab": {
          "base_uri": "https://localhost:8080/"
        }
      },
      "outputs": [
        {
          "output_type": "stream",
          "name": "stdout",
          "text": [
            "Both numbers have the same sign.\n"
          ]
        }
      ],
      "source": [
        "a = 4\n",
        "b = 6\n",
        "\n",
        "if (a > 0 and b > 0) or (a < 0 and b < 0):\n",
        "    print(\"Both numbers have the same sign.\")\n",
        "else:\n",
        "    print(\"The numbers have different signs.\")\n"
      ]
    },
    {
      "cell_type": "markdown",
      "id": "541ce83b",
      "metadata": {
        "id": "541ce83b"
      },
      "source": [
        "#### 9. Calculate the price after applying a 10% discount for items over $100."
      ]
    },
    {
      "cell_type": "code",
      "execution_count": null,
      "id": "c7a89197",
      "metadata": {
        "id": "c7a89197"
      },
      "outputs": [],
      "source": [
        "price = 150\n",
        "if"
      ]
    },
    {
      "cell_type": "code",
      "execution_count": 15,
      "id": "2a5756fb",
      "metadata": {
        "id": "2a5756fb",
        "outputId": "2191cc6e-e82b-4af8-809b-ff59f7b1d594",
        "colab": {
          "base_uri": "https://localhost:8080/"
        }
      },
      "outputs": [
        {
          "output_type": "stream",
          "name": "stdout",
          "text": [
            "Final price: 135.0\n"
          ]
        }
      ],
      "source": [
        "price = 150\n",
        "\n",
        "if price > 100:\n",
        "    price *= 0.9  # Apply 10% discount\n",
        "\n",
        "print(\"Final price:\", price)\n"
      ]
    },
    {
      "cell_type": "markdown",
      "id": "7a430cfe",
      "metadata": {
        "id": "7a430cfe"
      },
      "source": [
        "#### 10. Check if the given age qualifies for a senior citizen discount (65 years or older)."
      ]
    },
    {
      "cell_type": "code",
      "execution_count": null,
      "id": "2889161a",
      "metadata": {
        "id": "2889161a"
      },
      "outputs": [],
      "source": [
        "age = 70"
      ]
    },
    {
      "cell_type": "code",
      "source": [
        "age = 70\n",
        "\n",
        "if age >= 65:\n",
        "    print(\"Eligible for senior citizen discount.\")\n",
        "else:\n",
        "    print(\"Not eligible for senior citizen discount.\")\n"
      ],
      "metadata": {
        "id": "0Wapc5zIExXe",
        "outputId": "bc8bd2cb-6d60-4c38-f89e-2150ed92e997",
        "colab": {
          "base_uri": "https://localhost:8080/"
        }
      },
      "id": "0Wapc5zIExXe",
      "execution_count": 16,
      "outputs": [
        {
          "output_type": "stream",
          "name": "stdout",
          "text": [
            "Eligible for senior citizen discount.\n"
          ]
        }
      ]
    },
    {
      "cell_type": "code",
      "source": [],
      "metadata": {
        "id": "xItfRN6jExOq"
      },
      "id": "xItfRN6jExOq",
      "execution_count": null,
      "outputs": []
    }
  ],
  "metadata": {
    "kernelspec": {
      "display_name": "Python 3 (ipykernel)",
      "language": "python",
      "name": "python3"
    },
    "language_info": {
      "codemirror_mode": {
        "name": "ipython",
        "version": 3
      },
      "file_extension": ".py",
      "mimetype": "text/x-python",
      "name": "python",
      "nbconvert_exporter": "python",
      "pygments_lexer": "ipython3",
      "version": "3.8.13"
    },
    "colab": {
      "provenance": []
    }
  },
  "nbformat": 4,
  "nbformat_minor": 5
}
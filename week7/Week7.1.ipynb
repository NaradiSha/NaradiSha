{
  "cells": [
    {
      "cell_type": "markdown",
      "metadata": {
        "id": "yvoHyQMkZaVf"
      },
      "source": [
        "## Objective: To learn and understand the usage of functions in Python <br>\n",
        "https://colab.research.google.com/github/JunetaeKim/PythonClass/blob/main/week7/Week7.1.ipynb\n",
        "### Outline:\n",
        "\n",
        "#### ① Introduction to Functions\n",
        "#### ② Defining a Function\n",
        "#### ③ Calling a Function\n",
        "#### ④ Function Parameters\n",
        "#### &nbsp;&nbsp; a. Positional Parameters\n",
        "#### &nbsp;&nbsp; b. Default Parameter Values\n",
        "#### &nbsp;&nbsp; c. Keyword Arguments\n",
        "#### &nbsp;&nbsp; d. Arbitrary Arguments\n",
        "#### ⑤ Return Statement\n",
        "#### ⑥ Docstrings\n",
        "#### ⑦ Nested Functions\n",
        "#### ⑧ Recursion\n",
        "#### ⑨ Lambda Functions\n",
        "#### ⑩ Function Annotations\n",
        "#### ⑪ Scope of Variables\n",
        "#### ⑫ Global and Nonlocal Keywords\n",
        "#### ⑬ Example\n",
        "#### ⑭ Tips for Best Practices"
      ],
      "id": "yvoHyQMkZaVf"
    },
    {
      "cell_type": "code",
      "execution_count": null,
      "metadata": {
        "id": "BeHurVDuZaVi"
      },
      "outputs": [],
      "source": [],
      "id": "BeHurVDuZaVi"
    },
    {
      "cell_type": "markdown",
      "metadata": {
        "tags": [],
        "id": "aUpQgp8QZaVj"
      },
      "source": [
        "### 1. Introduction to Functions\n",
        "#### Functions are a fundamental concept in programming, used to group and organize code into reusable, modular blocks.\n",
        "#### Functions enable code reusability, easier debugging, and improved readability."
      ],
      "id": "aUpQgp8QZaVj"
    },
    {
      "cell_type": "code",
      "execution_count": null,
      "metadata": {
        "id": "hb6bBpYFZaVk"
      },
      "outputs": [],
      "source": [],
      "id": "hb6bBpYFZaVk"
    },
    {
      "cell_type": "markdown",
      "metadata": {
        "id": "MmhGht9PZaVk"
      },
      "source": [
        "### 2. Basic for a Function\n",
        "#### In Python, functions are defined using the def keyword, followed by the function name, a pair of parentheses, and a colon.\n",
        "#### The function's code block is then indented."
      ],
      "id": "MmhGht9PZaVk"
    },
    {
      "cell_type": "markdown",
      "metadata": {
        "id": "RL6lrXpsZaVk"
      },
      "source": [
        "#### https://pynative.com/python-functions/\n",
        "![Forloop.png](https://raw.githubusercontent.com/JunetaeKim/PythonClass/main/week7/SyntaxFunction.PNG)"
      ],
      "id": "RL6lrXpsZaVk"
    },
    {
      "cell_type": "code",
      "execution_count": null,
      "metadata": {
        "id": "P-2bICGsZaVl"
      },
      "outputs": [],
      "source": [],
      "id": "P-2bICGsZaVl"
    },
    {
      "cell_type": "markdown",
      "metadata": {
        "tags": [],
        "id": "K17dtclEZaVl"
      },
      "source": [
        "### 3. Defining and calling a Function\n",
        "#### To call a function, simply write the function's name followed by a pair of parentheses."
      ],
      "id": "K17dtclEZaVl"
    },
    {
      "cell_type": "code",
      "execution_count": null,
      "metadata": {
        "id": "CzLiwS2OZaVm",
        "outputId": "16286b49-d1a0-47a6-ef53-6a63f5d2117d"
      },
      "outputs": [
        {
          "name": "stdout",
          "output_type": "stream",
          "text": [
            "Hello from my_function!\n"
          ]
        }
      ],
      "source": [
        "def my_function():\n",
        "    print(\"Hello from my_function!\")\n",
        "\n",
        "my_function()"
      ],
      "id": "CzLiwS2OZaVm"
    },
    {
      "cell_type": "code",
      "execution_count": null,
      "metadata": {
        "id": "IgM_CAWcZaVn"
      },
      "outputs": [],
      "source": [],
      "id": "IgM_CAWcZaVn"
    },
    {
      "cell_type": "markdown",
      "metadata": {
        "id": "Ugo8bG9cZaVn"
      },
      "source": [
        "### 4. Function Parameters\n",
        "#### Functions can take input values, called parameters.\n",
        "#### There are several types of parameters in Python:\n",
        "#### a. Positional Parameters - The order of these parameters matters."
      ],
      "id": "Ugo8bG9cZaVn"
    },
    {
      "cell_type": "code",
      "execution_count": null,
      "metadata": {
        "id": "ByJpSeoeZaVn",
        "outputId": "07fcbb6a-5b68-41b6-f082-25815db82c14"
      },
      "outputs": [
        {
          "name": "stdout",
          "output_type": "stream",
          "text": [
            "Hello, Alice Johnson!\n"
          ]
        }
      ],
      "source": [
        "def greet(first_name, last_name):\n",
        "    print(f\"Hello, {first_name} {last_name}!\")        # receive arguments based on their position (order) in the function call.\n",
        "\n",
        "greet(\"Alice\", \"Johnson\")                             # The first argument goes to the first parameter, the second to the second, and so on."
      ],
      "id": "ByJpSeoeZaVn"
    },
    {
      "cell_type": "code",
      "execution_count": null,
      "metadata": {
        "id": "vKRtE3HiZaVo"
      },
      "outputs": [],
      "source": [],
      "id": "vKRtE3HiZaVo"
    },
    {
      "cell_type": "markdown",
      "metadata": {
        "id": "sF6Df3cgZaVo"
      },
      "source": [
        "#### b. Default Parameter Values - You can set default values for function parameters. If no value is provided for a parameter with a default value, the default value is used."
      ],
      "id": "sF6Df3cgZaVo"
    },
    {
      "cell_type": "code",
      "execution_count": null,
      "metadata": {
        "id": "qak88WJJZaVo",
        "outputId": "ed4a1cc8-6b78-4dc9-f161-7bb20c1bb372"
      },
      "outputs": [
        {
          "name": "stdout",
          "output_type": "stream",
          "text": [
            "Hello, World!\n",
            "Hello, Alice!\n"
          ]
        }
      ],
      "source": [
        "def greet(name=\"World\"):\n",
        "    print(f\"Hello, {name}!\")\n",
        "\n",
        "greet()\n",
        "greet(\"Alice\")"
      ],
      "id": "qak88WJJZaVo"
    },
    {
      "cell_type": "code",
      "execution_count": null,
      "metadata": {
        "id": "KUQ7P3HdZaVo"
      },
      "outputs": [],
      "source": [],
      "id": "KUQ7P3HdZaVo"
    },
    {
      "cell_type": "markdown",
      "metadata": {
        "id": "6HI33db-ZaVo"
      },
      "source": [
        "#### c. Keyword Arguments - When calling a function, you can use keyword arguments to pass values to the parameters in any order."
      ],
      "id": "6HI33db-ZaVo"
    },
    {
      "cell_type": "code",
      "execution_count": null,
      "metadata": {
        "id": "PDg-fTxLZaVp",
        "outputId": "b37c8d8a-fc10-4d4c-c6f7-2da4a811a061"
      },
      "outputs": [
        {
          "name": "stdout",
          "output_type": "stream",
          "text": [
            "Hello, John Doe!\n"
          ]
        }
      ],
      "source": [
        "def greet(first_name, last_name):\n",
        "    print(f\"Hello, {first_name} {last_name}!\")\n",
        "\n",
        "greet(last_name=\"Doe\", first_name=\"John\")"
      ],
      "id": "PDg-fTxLZaVp"
    },
    {
      "cell_type": "code",
      "execution_count": null,
      "metadata": {
        "id": "Of1wCIGgZaVp"
      },
      "outputs": [],
      "source": [],
      "id": "Of1wCIGgZaVp"
    },
    {
      "cell_type": "markdown",
      "metadata": {
        "id": "d7ioQs__ZaVp"
      },
      "source": [
        "#### d. Arbitrary Arguments - If you don't know how many arguments a function will receive, you can use the * syntax for arbitrary arguments."
      ],
      "id": "d7ioQs__ZaVp"
    },
    {
      "cell_type": "code",
      "execution_count": null,
      "metadata": {
        "id": "M4578yS3ZaVp",
        "outputId": "a3c2655a-c68c-482d-ea04-228206165f5c"
      },
      "outputs": [
        {
          "name": "stdout",
          "output_type": "stream",
          "text": [
            "Alice\n",
            "Bob\n",
            "Charlie\n"
          ]
        }
      ],
      "source": [
        "def print_names(*names):\n",
        "    for name in names:\n",
        "        print(name)\n",
        "\n",
        "print_names(\"Alice\", \"Bob\", \"Charlie\")"
      ],
      "id": "M4578yS3ZaVp"
    },
    {
      "cell_type": "code",
      "execution_count": null,
      "metadata": {
        "id": "fV7_ItisZaVp"
      },
      "outputs": [],
      "source": [],
      "id": "fV7_ItisZaVp"
    },
    {
      "cell_type": "markdown",
      "metadata": {
        "id": "7Dhh-rCpZaVp"
      },
      "source": [
        "### 5. Return Statement\n",
        "#### Functions can return a value using the return statement. If no return statement is provided, the function returns None by default."
      ],
      "id": "7Dhh-rCpZaVp"
    },
    {
      "cell_type": "code",
      "execution_count": 2,
      "metadata": {
        "id": "beyEh5eTZaVp",
        "outputId": "47e42998-9420-42f6-c192-1b2bcafb8dc6",
        "colab": {
          "base_uri": "https://localhost:8080/"
        }
      },
      "outputs": [
        {
          "output_type": "stream",
          "name": "stdout",
          "text": [
            "8\n"
          ]
        }
      ],
      "source": [
        "def add(a, b):\n",
        "    return a + b\n",
        "\n",
        "result = add(3, 5)\n",
        "print(result)"
      ],
      "id": "beyEh5eTZaVp"
    },
    {
      "cell_type": "markdown",
      "metadata": {
        "id": "HpEwVhInZaVp"
      },
      "source": [
        "### 6. Docstrings\n",
        "#### A docstring is a string that describes a function.\n",
        "#### It's placed immediately after the function definition, within triple quotes."
      ],
      "id": "HpEwVhInZaVp"
    },
    {
      "cell_type": "code",
      "execution_count": null,
      "metadata": {
        "id": "Sk1wfJs0ZaVp",
        "outputId": "93e2270e-2a86-4c05-8c1f-99f613136702"
      },
      "outputs": [
        {
          "name": "stdout",
          "output_type": "stream",
          "text": [
            "Hello, Kim!\n"
          ]
        }
      ],
      "source": [
        "def greet(name):\n",
        "    \"\"\"\n",
        "    Greets the given name.\n",
        "    \"\"\"\n",
        "    print(f\"Hello, {name}!\")\n",
        "\n",
        "greet('Kim')"
      ],
      "id": "Sk1wfJs0ZaVp"
    },
    {
      "cell_type": "code",
      "execution_count": null,
      "metadata": {
        "id": "wrGX098eZaVq"
      },
      "outputs": [],
      "source": [],
      "id": "wrGX098eZaVq"
    },
    {
      "cell_type": "code",
      "source": [],
      "metadata": {
        "id": "VPChyjuehEOq"
      },
      "id": "VPChyjuehEOq",
      "execution_count": null,
      "outputs": []
    },
    {
      "cell_type": "markdown",
      "metadata": {
        "id": "PdCr_iZmZaVq"
      },
      "source": [
        "### 7. Nested Functions\n",
        "#### Functions can be defined inside other functions, known as nested functions.\n",
        "#### These inner functions can only be called within the outer function."
      ],
      "id": "PdCr_iZmZaVq"
    },
    {
      "cell_type": "code",
      "execution_count": null,
      "metadata": {
        "id": "R9EB8MY9ZaVq",
        "outputId": "2fad7034-c698-42d7-d1a6-b67123b23e2e"
      },
      "outputs": [
        {
          "name": "stdout",
          "output_type": "stream",
          "text": [
            "Hello from outer_function!\n",
            "Hello from inner_function!\n"
          ]
        }
      ],
      "source": [
        "def outer_function():\n",
        "    def inner_function():\n",
        "        print(\"Hello from inner_function!\")\n",
        "\n",
        "    print(\"Hello from outer_function!\")\n",
        "    inner_function()\n",
        "\n",
        "outer_function()"
      ],
      "id": "R9EB8MY9ZaVq"
    },
    {
      "cell_type": "code",
      "execution_count": null,
      "metadata": {
        "id": "wt_l7JJpZaVq"
      },
      "outputs": [],
      "source": [],
      "id": "wt_l7JJpZaVq"
    },
    {
      "cell_type": "markdown",
      "metadata": {
        "id": "5u6u_hZ3ZaVq"
      },
      "source": [
        "### 8. Recursion\n",
        "#### A function can call itself, a concept called recursion. Here's an example of a recursive function to calculate the factorial of a number"
      ],
      "id": "5u6u_hZ3ZaVq"
    },
    {
      "cell_type": "code",
      "execution_count": null,
      "metadata": {
        "id": "pnLvwpHuZaVq",
        "outputId": "7df8f49f-70f8-4d9b-96f3-7bb833f75323"
      },
      "outputs": [
        {
          "name": "stdout",
          "output_type": "stream",
          "text": [
            "120\n"
          ]
        }
      ],
      "source": [
        "def factorial(n):\n",
        "    if n == 1:\n",
        "        return 1\n",
        "    else:\n",
        "        return n * factorial(n - 1)\n",
        "\n",
        "result = factorial(5)\n",
        "print(result)"
      ],
      "id": "pnLvwpHuZaVq"
    },
    {
      "cell_type": "code",
      "execution_count": null,
      "metadata": {
        "id": "8PPjja9YZaVq"
      },
      "outputs": [],
      "source": [],
      "id": "8PPjja9YZaVq"
    },
    {
      "cell_type": "markdown",
      "metadata": {
        "id": "nYfffqo2ZaVq"
      },
      "source": [
        "### 9. Lambda Functions\n",
        "#### Lambda functions are small, anonymous functions that can be defined using the 'lambda' keyword.\n",
        "#### They can have any number of parameters but only one expression."
      ],
      "id": "nYfffqo2ZaVq"
    },
    {
      "cell_type": "code",
      "execution_count": null,
      "metadata": {
        "id": "8_JXaU9VZaVq",
        "outputId": "0f427e39-d51b-403d-8e0f-deb5675cd409"
      },
      "outputs": [
        {
          "name": "stdout",
          "output_type": "stream",
          "text": [
            "8\n"
          ]
        }
      ],
      "source": [
        "add = (lambda x, y: x + y)(3,5)\n",
        "add"
      ],
      "id": "8_JXaU9VZaVq"
    },
    {
      "cell_type": "code",
      "execution_count": null,
      "metadata": {
        "id": "l_oD_QOtZaVr"
      },
      "outputs": [],
      "source": [],
      "id": "l_oD_QOtZaVr"
    },
    {
      "cell_type": "markdown",
      "metadata": {
        "id": "w-7Tb2JhZaVr"
      },
      "source": [
        "### 10. Function Annotations\n",
        "#### Function annotations provide a way to add hints about the expected data types of function parameters and return values.\n",
        "#### They don't affect the function's behavior."
      ],
      "id": "w-7Tb2JhZaVr"
    },
    {
      "cell_type": "code",
      "execution_count": null,
      "metadata": {
        "id": "uAwDduDTZaVr",
        "outputId": "7ccf05b4-0b47-43a6-ba6e-9ee1dfe023dc"
      },
      "outputs": [
        {
          "name": "stdout",
          "output_type": "stream",
          "text": [
            "{'name': <class 'str'>, 'return': None}\n"
          ]
        }
      ],
      "source": [
        "def greet(name: str) -> None:\n",
        "    print(f\"Hello, {name}!\")\n",
        "\n",
        "print(greet.__annotations__)"
      ],
      "id": "uAwDduDTZaVr"
    },
    {
      "cell_type": "code",
      "execution_count": null,
      "metadata": {
        "id": "F76KVNI1ZaVv"
      },
      "outputs": [],
      "source": [],
      "id": "F76KVNI1ZaVv"
    },
    {
      "cell_type": "markdown",
      "source": [],
      "metadata": {
        "id": "Tr6oqhO6ii2L"
      },
      "id": "Tr6oqhO6ii2L"
    },
    {
      "cell_type": "markdown",
      "metadata": {
        "id": "dSKrVoqKZaVv"
      },
      "source": [
        "### 11. Scope of Variables\n",
        "#### Variables in Python have a specific scope, which determines where they can be accessed within the code.\n",
        "#### There are two main types of variable scope: local and global."
      ],
      "id": "dSKrVoqKZaVv"
    },
    {
      "cell_type": "code",
      "execution_count": 4,
      "metadata": {
        "id": "s6jcmVBeZaVv",
        "outputId": "e1077a61-704e-4730-f071-c10d1c9cd609",
        "colab": {
          "base_uri": "https://localhost:8080/"
        }
      },
      "outputs": [
        {
          "output_type": "stream",
          "name": "stdout",
          "text": [
            "10\n",
            "5\n"
          ]
        }
      ],
      "source": [
        "x = 5  # Global variable\n",
        "\n",
        "def print_x():\n",
        "    x = 10  # Local variable\n",
        "    print(x)\n",
        "\n",
        "print_x()\n",
        "print(x)"
      ],
      "id": "s6jcmVBeZaVv"
    },
    {
      "cell_type": "code",
      "execution_count": null,
      "metadata": {
        "id": "TAa-goTxZaVw"
      },
      "outputs": [],
      "source": [],
      "id": "TAa-goTxZaVw"
    },
    {
      "cell_type": "markdown",
      "metadata": {
        "id": "ZzRdjgtHZaVw"
      },
      "source": [
        "### 12. Global and Nonlocal Keywords\n",
        "#### The global keyword allows you to modify a global variable from within a function."
      ],
      "id": "ZzRdjgtHZaVw"
    },
    {
      "cell_type": "code",
      "execution_count": 3,
      "metadata": {
        "id": "wEqf6DRpZaVw",
        "outputId": "49ac9889-74ea-4ad7-ba60-ce143acc51e9",
        "colab": {
          "base_uri": "https://localhost:8080/"
        }
      },
      "outputs": [
        {
          "output_type": "stream",
          "name": "stdout",
          "text": [
            "10\n"
          ]
        }
      ],
      "source": [
        "x = 5\n",
        "\n",
        "def modify_x():\n",
        "    global x\n",
        "    x = 10\n",
        "\n",
        "modify_x()\n",
        "print(x)"
      ],
      "id": "wEqf6DRpZaVw"
    },
    {
      "cell_type": "code",
      "execution_count": null,
      "metadata": {
        "id": "BwW5lCCrZaVw"
      },
      "outputs": [],
      "source": [],
      "id": "BwW5lCCrZaVw"
    },
    {
      "cell_type": "markdown",
      "metadata": {
        "id": "UUVBtWhOZaVw"
      },
      "source": [
        "### 13. Example\n",
        "#### Objective: Create a Python program to calculate the area of a rectangle, circle, or triangle using functions."
      ],
      "id": "UUVBtWhOZaVw"
    },
    {
      "cell_type": "code",
      "execution_count": null,
      "metadata": {
        "id": "seVeZiPSZaVw",
        "outputId": "6fa79009-4a42-4d9e-cfed-e90e4839402e"
      },
      "outputs": [
        {
          "name": "stdin",
          "output_type": "stream",
          "text": [
            "Enter the shape (rectangle, circle, or triangle):  rectangle\n",
            "Enter the width:  5\n",
            "Enter the height:  4\n"
          ]
        },
        {
          "name": "stdout",
          "output_type": "stream",
          "text": [
            "The area of the rectangle is 20.00\n"
          ]
        }
      ],
      "source": [
        "def rectangle_area(width, height):\n",
        "    return width * height\n",
        "\n",
        "def circle_area(radius):\n",
        "    import math\n",
        "    return math.pi * radius**2\n",
        "\n",
        "def triangle_area(base, height):\n",
        "    return 0.5 * base * height\n",
        "\n",
        "shape = input(\"Enter the shape (rectangle, circle, or triangle): \").lower()\n",
        "\n",
        "if shape == \"rectangle\":\n",
        "    width = float(input(\"Enter the width: \"))\n",
        "    height = float(input(\"Enter the height: \"))\n",
        "    area = rectangle_area(width, height)\n",
        "    print(f\"The area of the rectangle is {area:.2f}\")\n",
        "elif shape == \"circle\":\n",
        "    radius = float(input(\"Enter the radius: \"))\n",
        "    area = circle_area(radius)\n",
        "    print(f\"The area of the circle is {area:.2f}\")\n",
        "elif shape == \"triangle\":\n",
        "    base = float(input(\"Enter the base: \"))\n",
        "    height = float(input(\"Enter the height: \"))\n",
        "    area = triangle_area(base, height)\n",
        "    print(f\"The area of the triangle is {area:.2f}\")\n",
        "else:\n",
        "    print(\"Invalid shape!\")"
      ],
      "id": "seVeZiPSZaVw"
    },
    {
      "cell_type": "code",
      "execution_count": null,
      "metadata": {
        "id": "AHcifvZMZaVw"
      },
      "outputs": [],
      "source": [],
      "id": "AHcifvZMZaVw"
    },
    {
      "cell_type": "markdown",
      "metadata": {
        "id": "8cW-nXIxZaVw"
      },
      "source": [
        "### 14. Tips for Best Practices\n",
        "#### When working with functions, it's essential to follow best practices to ensure code readability, reusability, and maintainability:\n",
        "#### º Use descriptive function names\n",
        "#### º Keep functions small and focused\n",
        "#### º Document functions with docstrings\n",
        "#### º Use function annotations for type hints\n",
        "#### º Follow the DRY (Don't Repeat Yourself) principle\n",
        "#### º Use appropriate parameter types and default values"
      ],
      "id": "8cW-nXIxZaVw"
    },
    {
      "cell_type": "code",
      "execution_count": null,
      "metadata": {
        "id": "lakfX2F9ZaVw"
      },
      "outputs": [],
      "source": [],
      "id": "lakfX2F9ZaVw"
    },
    {
      "cell_type": "code",
      "execution_count": null,
      "metadata": {
        "id": "E9LbRpfxZaVw"
      },
      "outputs": [],
      "source": [],
      "id": "E9LbRpfxZaVw"
    },
    {
      "cell_type": "code",
      "execution_count": null,
      "metadata": {
        "id": "Euc0pBU7ZaVw"
      },
      "outputs": [],
      "source": [],
      "id": "Euc0pBU7ZaVw"
    }
  ],
  "metadata": {
    "kernelspec": {
      "display_name": "Python 3",
      "language": "python",
      "name": "python3"
    },
    "language_info": {
      "codemirror_mode": {
        "name": "ipython",
        "version": 3
      },
      "file_extension": ".py",
      "mimetype": "text/x-python",
      "name": "python",
      "nbconvert_exporter": "python",
      "pygments_lexer": "ipython3",
      "version": "3.8.5"
    },
    "colab": {
      "provenance": []
    }
  },
  "nbformat": 4,
  "nbformat_minor": 5
}
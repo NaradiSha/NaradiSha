{
  "cells": [
    {
      "cell_type": "markdown",
      "metadata": {
        "id": "TjHAYyXCl_HY"
      },
      "source": [
        "https://colab.research.google.com/github/JunetaeKim/PythonClass/blob/main/week7/Week7.Exercise1.ipynb\n",
        "\n",
        "### 1. Write a Python function that calculates the total price of items in a shopping cart, including a specified sales tax percentage.\n",
        "#### Tip: Hint: Initialize a total variable, iterate through the list of items, add the price of each item to the total, and then apply the tax percentage.\n",
        "#### Finally, round the result before returning."
      ],
      "id": "TjHAYyXCl_HY"
    },
    {
      "cell_type": "code",
      "execution_count": null,
      "metadata": {
        "id": "8C7zXfmBl_Hc"
      },
      "outputs": [],
      "source": [
        "def calculate_total(items, tax_percent):\n",
        "    total = 0\n",
        "    for item in items:\n",
        "        total += item[\"price\"]\n",
        "    # Apply tax_percent and round the result"
      ],
      "id": "8C7zXfmBl_Hc"
    },
    {
      "cell_type": "code",
      "execution_count": null,
      "metadata": {
        "id": "_rs1IJHwl_Hd",
        "outputId": "412c95a8-9da2-4b51-ff56-b9c472003865"
      },
      "outputs": [
        {
          "name": "stdout",
          "output_type": "stream",
          "text": [
            "6.05\n"
          ]
        }
      ],
      "source": [
        "items = [\n",
        "    {\"name\": \"apple\", \"price\": 2.5},\n",
        "    {\"name\": \"banana\", \"price\": 1.2},\n",
        "    {\"name\": \"orange\", \"price\": 1.8}\n",
        "]\n",
        "\n",
        "total_price = calculate_total(items, tax_percent)\n",
        "print(total_price)  # Output: 5.5"
      ],
      "id": "_rs1IJHwl_Hd"
    },
    {
      "cell_type": "code",
      "execution_count": 1,
      "metadata": {
        "id": "pzN6XmcYl_He",
        "outputId": "239d0f01-d32d-45a6-c1c7-6058f1509701",
        "colab": {
          "base_uri": "https://localhost:8080/"
        }
      },
      "outputs": [
        {
          "output_type": "stream",
          "name": "stdout",
          "text": [
            "Total with tax: $6.05\n"
          ]
        }
      ],
      "source": [
        "def calculate_total(items, tax_percent):\n",
        "    total = 0\n",
        "    for item in items:\n",
        "        total += item[\"price\"]\n",
        "\n",
        "    total_with_tax = total + (total * tax_percent / 100)\n",
        "    return round(total_with_tax, 2)\n",
        "items = [\n",
        "    {\"name\": \"apple\", \"price\": 2.5},\n",
        "    {\"name\": \"banana\", \"price\": 1.2},\n",
        "    {\"name\": \"orange\", \"price\": 1.8}\n",
        "]\n",
        "\n",
        "final_amount = calculate_total(items, tax_percent=10)\n",
        "print(f\"Total with tax: ${final_amount}\")\n"
      ],
      "id": "pzN6XmcYl_He"
    },
    {
      "cell_type": "markdown",
      "metadata": {
        "id": "HgLSCJ5il_He"
      },
      "source": [
        "### 2. Write a Python function that calculates the average temperature for a given list of daily temperatures and returns the result in Fahrenheit or Celsius based on user input.\n",
        "#### Tip: First, calculate the average temperature in Celsius. Then, if needed, convert it to Fahrenheit using the formula: F = C * 9/5 + 32"
      ],
      "id": "HgLSCJ5il_He"
    },
    {
      "cell_type": "code",
      "execution_count": null,
      "metadata": {
        "id": "WukExxvFl_Hf"
      },
      "outputs": [],
      "source": [
        "def average_temperature(temps, unit):\n",
        "    avg_temp = sum(temps) / len(temps)\n",
        "    if unit.lower() == 'fahrenheit':\n",
        "        # Convert avg_temp to Fahrenheit and round the result\n",
        "    else:\n",
        "        # Round the result in Celsius"
      ],
      "id": "WukExxvFl_Hf"
    },
    {
      "cell_type": "code",
      "execution_count": null,
      "metadata": {
        "id": "vNCKhTG-l_Hf",
        "outputId": "d7d699ac-1992-40e0-8ddb-66d517d4a071"
      },
      "outputs": [
        {
          "name": "stdout",
          "output_type": "stream",
          "text": [
            "75.2\n"
          ]
        }
      ],
      "source": [
        "temps = [20, 22, 24, 26, 28]\n",
        "unit = 'Fahrenheit'\n",
        "\n",
        "average_temp = average_temperature(temps, unit)\n",
        "print(average_temp)  # Output: 73.4 (in Fahrenheit)"
      ],
      "id": "vNCKhTG-l_Hf"
    },
    {
      "cell_type": "code",
      "execution_count": 2,
      "metadata": {
        "id": "NKh8OG-kl_Hf",
        "outputId": "46eb4bf1-cd76-4fbc-b567-c189268a33b6",
        "colab": {
          "base_uri": "https://localhost:8080/"
        }
      },
      "outputs": [
        {
          "output_type": "stream",
          "name": "stdout",
          "text": [
            "Average temperature in Fahrenheit: 75.2\n"
          ]
        }
      ],
      "source": [
        "def average_temperature(temps, unit):\n",
        "    avg_temp = sum(temps) / len(temps)\n",
        "    if unit.lower() == 'fahrenheit':\n",
        "        avg_temp = avg_temp * 9/5 + 32\n",
        "        return round(avg_temp, 2)\n",
        "    else:\n",
        "        return round(avg_temp, 2)\n",
        "\n",
        "temps = [20, 22, 24, 26, 28]\n",
        "unit = 'Fahrenheit'\n",
        "\n",
        "print(f\"Average temperature in {unit}: {average_temperature(temps, unit)}\")\n"
      ],
      "id": "NKh8OG-kl_Hf"
    },
    {
      "cell_type": "markdown",
      "metadata": {
        "id": "yAgplrFSl_Hg"
      },
      "source": [
        "### 3. Write a Python function that finds the longest word in a given string.\n",
        "#### Tip: Split the input sentence into words using the split() method.\n",
        "#### Initialize an empty string longest_word, then iterate through the words and update longest_word if a longer word is found."
      ],
      "id": "yAgplrFSl_Hg"
    },
    {
      "cell_type": "code",
      "execution_count": null,
      "metadata": {
        "id": "xBjJBNjEl_Hg"
      },
      "outputs": [],
      "source": [
        "def find_longest_word(sentence):\n",
        "    words = sentence.split()\n",
        "    longest_word = ''\n",
        "    for word in words:\n",
        "        # Update longest_word"
      ],
      "id": "xBjJBNjEl_Hg"
    },
    {
      "cell_type": "code",
      "execution_count": null,
      "metadata": {
        "id": "7yqakYl4l_Hg",
        "outputId": "9353a0bb-a7f6-47b1-8d1e-8963c6329508"
      },
      "outputs": [
        {
          "name": "stdout",
          "output_type": "stream",
          "text": [
            "quick\n"
          ]
        }
      ],
      "source": [
        "sentence = \"The quick brown fox jumps over the lazy dog\"\n",
        "\n",
        "longest_word = find_longest_word(sentence)\n",
        "print(longest_word)  # Output: \"jumps\""
      ],
      "id": "7yqakYl4l_Hg"
    },
    {
      "cell_type": "code",
      "execution_count": null,
      "metadata": {
        "id": "DAb09rx4l_Hg"
      },
      "outputs": [],
      "source": [
        "def find_longest_word(sentence):\n",
        "    words = sentence.split()\n",
        "    longest_word = ''\n",
        "    for word in words:\n",
        "        # Update longest_word\n",
        "        if len(word) > len(longest_word):\n",
        "            longest_word = word\n",
        "    return longest_word\n"
      ],
      "id": "DAb09rx4l_Hg"
    },
    {
      "cell_type": "markdown",
      "metadata": {
        "id": "rQbIcV41l_Hh"
      },
      "source": [
        "### 4. Problem: Write a Python function that takes a list of numbers as input and returns the sum of all even numbers in the list.\n",
        "#### Tip: Initialize a variable even_sum, then iterate through the list of numbers. If a number is even (i.e., its remainder when divided by 2 is 0), add it to even_sum."
      ],
      "id": "rQbIcV41l_Hh"
    },
    {
      "cell_type": "code",
      "execution_count": null,
      "metadata": {
        "id": "Sv5Fk_Wrl_Hh"
      },
      "outputs": [],
      "source": [
        "def sum_even_numbers(numbers):\n",
        "    even_sum = 0\n",
        "    for number in numbers:\n",
        "        # Add the even number to even_sum"
      ],
      "id": "Sv5Fk_Wrl_Hh"
    },
    {
      "cell_type": "code",
      "execution_count": null,
      "metadata": {
        "id": "WjfWqPqtl_Hh",
        "outputId": "d7855e9f-5e21-4249-f945-52607b8c30bd"
      },
      "outputs": [
        {
          "name": "stdout",
          "output_type": "stream",
          "text": [
            "30\n"
          ]
        }
      ],
      "source": [
        "numbers = [1, 2, 3, 4, 5, 6, 7, 8, 9, 10]\n",
        "\n",
        "even_sum = sum_even_numbers(numbers)\n",
        "print(even_sum)  # Output: 30"
      ],
      "id": "WjfWqPqtl_Hh"
    },
    {
      "cell_type": "code",
      "execution_count": 3,
      "metadata": {
        "id": "X1Vo2Vlcl_Hh",
        "outputId": "3b796d5a-4d77-4276-c66b-7a22d6a8917a",
        "colab": {
          "base_uri": "https://localhost:8080/"
        }
      },
      "outputs": [
        {
          "output_type": "stream",
          "name": "stdout",
          "text": [
            "Sum of even numbers: 30\n"
          ]
        }
      ],
      "source": [
        "def sum_even_numbers(numbers):\n",
        "    even_sum = 0\n",
        "    for number in numbers:\n",
        "        # Add the even number to even_sum\n",
        "        if number % 2 == 0:\n",
        "            even_sum += number\n",
        "    return even_sum\n",
        "\n",
        "numbers = [1, 2, 3, 4, 5, 6, 7, 8, 9, 10]\n",
        "print(\"Sum of even numbers:\", sum_even_numbers(numbers))\n"
      ],
      "id": "X1Vo2Vlcl_Hh"
    },
    {
      "cell_type": "markdown",
      "metadata": {
        "id": "Bccji9zxl_Hh"
      },
      "source": [
        "### 5. Write a Python function that takes a list of strings and returns a dictionary with the frequency of each unique string.\n",
        "#### Tip: Create an empty dictionary called frequency.\n",
        "#### Iterate through the input list of strings, and for each string, either initialize its count in the dictionary or increment it if it already exists."
      ],
      "id": "Bccji9zxl_Hh"
    },
    {
      "cell_type": "code",
      "execution_count": null,
      "metadata": {
        "id": "3wYb4Wr4l_Hh"
      },
      "outputs": [],
      "source": [
        "def count_string_frequency(strings):\n",
        "    frequency = {}\n",
        "    for string in strings:\n",
        "        if string not in frequency:\n",
        "            # Initialize the count for the string in the dictionary\n",
        "        else:\n",
        "            # Increment the count for the string in the dictionary"
      ],
      "id": "3wYb4Wr4l_Hh"
    },
    {
      "cell_type": "code",
      "execution_count": null,
      "metadata": {
        "id": "9O4Ac3-sl_Hi",
        "outputId": "07dd790d-33cb-486c-e129-576a81e2194c"
      },
      "outputs": [
        {
          "name": "stdout",
          "output_type": "stream",
          "text": [
            "{'apple': 4, 'banana': 2, 'orange': 2}\n"
          ]
        }
      ],
      "source": [
        "strings = [\"apple\", \"banana\", \"apple\", \"orange\", \"banana\", \"apple\", \"orange\", \"apple\"]\n",
        "\n",
        "frequency = count_string_frequency(strings)\n",
        "print(frequency)  # Output: {'apple': 4, 'banana': 2, 'orange': 2}"
      ],
      "id": "9O4Ac3-sl_Hi"
    },
    {
      "cell_type": "code",
      "source": [
        "def count_string_frequency(strings):\n",
        "    frequency = {}\n",
        "    for string in strings:\n",
        "        if string not in frequency:\n",
        "            # Initialize the count for the string in the dictionary\n",
        "            frequency[string] = 1\n",
        "        else:\n",
        "            # Increment the count for the string in the dictionary\n",
        "            frequency[string] += 1\n",
        "    return frequency\n",
        "\n",
        "strings = [\"apple\", \"banana\", \"apple\", \"orange\", \"banana\", \"apple\", \"orange\", \"apple\"]\n",
        "print(\"String frequencies:\", count_string_frequency(strings))\n"
      ],
      "metadata": {
        "id": "n3N3eX5z1f62",
        "outputId": "631e8d52-6d5c-497f-9080-f493b60f17cd",
        "colab": {
          "base_uri": "https://localhost:8080/"
        }
      },
      "id": "n3N3eX5z1f62",
      "execution_count": 4,
      "outputs": [
        {
          "output_type": "stream",
          "name": "stdout",
          "text": [
            "String frequencies: {'apple': 4, 'banana': 2, 'orange': 2}\n"
          ]
        }
      ]
    }
  ],
  "metadata": {
    "kernelspec": {
      "display_name": "Python 3",
      "language": "python",
      "name": "python3"
    },
    "language_info": {
      "codemirror_mode": {
        "name": "ipython",
        "version": 3
      },
      "file_extension": ".py",
      "mimetype": "text/x-python",
      "name": "python",
      "nbconvert_exporter": "python",
      "pygments_lexer": "ipython3",
      "version": "3.8.5"
    },
    "colab": {
      "provenance": []
    }
  },
  "nbformat": 4,
  "nbformat_minor": 5
}
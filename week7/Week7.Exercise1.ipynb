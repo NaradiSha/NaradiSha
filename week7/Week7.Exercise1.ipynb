{
  "cells": [
    {
      "cell_type": "markdown",
      "metadata": {
        "id": "70K_ZLKoV3RP"
      },
      "source": [
        "https://colab.research.google.com/github/JunetaeKim/PythonClass/blob/main/week7/Week7.Exercise1.ipynb\n",
        "\n",
        "### 1. Write a Python function that calculates the total price of items in a shopping cart, including a specified sales tax percentage.\n",
        "#### Tip: Hint: Initialize a total variable, iterate through the list of items, add the price of each item to the total, and then apply the tax percentage.\n",
        "#### Finally, round the result before returning."
      ],
      "id": "70K_ZLKoV3RP"
    },
    {
      "cell_type": "code",
      "execution_count": 1,
      "metadata": {
        "id": "VbhjIYhpV3RQ"
      },
      "outputs": [],
      "source": [
        "def calculate_total(items, tax_percent):\n",
        "    total = 0\n",
        "    for item in items:\n",
        "        total += item[\"price\"]\n",
        "    # Apply tax_percent and round the result"
      ],
      "id": "VbhjIYhpV3RQ"
    },
    {
      "cell_type": "code",
      "execution_count": 2,
      "metadata": {
        "id": "bUCauOBEV3RR",
        "outputId": "bd432641-ad62-4d48-9ef4-e42f60de548b",
        "colab": {
          "base_uri": "https://localhost:8080/",
          "height": 193
        }
      },
      "outputs": [
        {
          "output_type": "error",
          "ename": "NameError",
          "evalue": "name 'tax_percent' is not defined",
          "traceback": [
            "\u001b[0;31m---------------------------------------------------------------------------\u001b[0m",
            "\u001b[0;31mNameError\u001b[0m                                 Traceback (most recent call last)",
            "\u001b[0;32m<ipython-input-2-00c71eb106bd>\u001b[0m in \u001b[0;36m<cell line: 0>\u001b[0;34m()\u001b[0m\n\u001b[1;32m      5\u001b[0m ]\n\u001b[1;32m      6\u001b[0m \u001b[0;34m\u001b[0m\u001b[0m\n\u001b[0;32m----> 7\u001b[0;31m \u001b[0mtotal_price\u001b[0m \u001b[0;34m=\u001b[0m \u001b[0mcalculate_total\u001b[0m\u001b[0;34m(\u001b[0m\u001b[0mitems\u001b[0m\u001b[0;34m,\u001b[0m \u001b[0mtax_percent\u001b[0m\u001b[0;34m)\u001b[0m\u001b[0;34m\u001b[0m\u001b[0;34m\u001b[0m\u001b[0m\n\u001b[0m\u001b[1;32m      8\u001b[0m \u001b[0mprint\u001b[0m\u001b[0;34m(\u001b[0m\u001b[0mtotal_price\u001b[0m\u001b[0;34m)\u001b[0m  \u001b[0;31m# Output: 5.5\u001b[0m\u001b[0;34m\u001b[0m\u001b[0;34m\u001b[0m\u001b[0m\n",
            "\u001b[0;31mNameError\u001b[0m: name 'tax_percent' is not defined"
          ]
        }
      ],
      "source": [
        "items = [\n",
        "    {\"name\": \"apple\", \"price\": 2.5},    # dictionary\n",
        "    {\"name\": \"banana\", \"price\": 1.2},\n",
        "    {\"name\": \"orange\", \"price\": 1.8}\n",
        "]\n",
        "\n",
        "total_price = calculate_total(items, tax_percent)\n",
        "print(total_price)  # Output: 5.5"
      ],
      "id": "bUCauOBEV3RR"
    },
    {
      "cell_type": "code",
      "execution_count": null,
      "metadata": {
        "id": "2TsW7BnuV3RS"
      },
      "outputs": [],
      "source": [
        "def calculate_total_price(items, tax_percent):\n",
        "    total = 0\n",
        "    for item in items:\n",
        "        total += item['price']\n",
        "    total_price = total * (tax_percent / 100)\n",
        "    return total_price\n"
      ],
      "id": "2TsW7BnuV3RS"
    },
    {
      "cell_type": "markdown",
      "metadata": {
        "id": "MbbDBUHqV3RS"
      },
      "source": [
        "### 2. Write a Python function that calculates the average temperature for a given list of daily temperatures and returns the result in Fahrenheit or Celsius based on user input.\n",
        "#### Tip: First, calculate the average temperature in Celsius. Then, if needed, convert it to Fahrenheit using the formula: F = C * 9/5 + 32"
      ],
      "id": "MbbDBUHqV3RS"
    },
    {
      "cell_type": "code",
      "execution_count": 3,
      "metadata": {
        "id": "Houc5Qy6V3RS",
        "outputId": "841e27a7-6d8e-4f43-f664-bf3e5118f31f",
        "colab": {
          "base_uri": "https://localhost:8080/",
          "height": 106
        }
      },
      "outputs": [
        {
          "output_type": "error",
          "ename": "IndentationError",
          "evalue": "expected an indented block after 'if' statement on line 3 (<ipython-input-3-b4ea002e22ea>, line 5)",
          "traceback": [
            "\u001b[0;36m  File \u001b[0;32m\"<ipython-input-3-b4ea002e22ea>\"\u001b[0;36m, line \u001b[0;32m5\u001b[0m\n\u001b[0;31m    else:\u001b[0m\n\u001b[0m    ^\u001b[0m\n\u001b[0;31mIndentationError\u001b[0m\u001b[0;31m:\u001b[0m expected an indented block after 'if' statement on line 3\n"
          ]
        }
      ],
      "source": [
        "def average_temperature(temps, unit):\n",
        "    avg_temp = sum(temps) / len(temps)\n",
        "    if unit.lower() == 'fahrenheit':\n",
        "        # Convert avg_temp to Fahrenheit and round the result\n",
        "    else:\n",
        "        # Round the result in Celsius"
      ],
      "id": "Houc5Qy6V3RS"
    },
    {
      "cell_type": "code",
      "execution_count": null,
      "metadata": {
        "id": "XU4eVUqzV3RS",
        "outputId": "c8455b61-511b-403b-e2d5-6244441d9985"
      },
      "outputs": [
        {
          "name": "stdout",
          "output_type": "stream",
          "text": [
            "75.2\n"
          ]
        }
      ],
      "source": [
        "temps = [20, 22, 24, 26, 28]\n",
        "unit = 'Fahrenheit'\n",
        "\n",
        "average_temp = average_temperature(temps, unit)\n",
        "print(average_temp)  # Output: 73.4 (in Fahrenheit)"
      ],
      "id": "XU4eVUqzV3RS"
    },
    {
      "cell_type": "code",
      "execution_count": 9,
      "metadata": {
        "id": "V8aP5X4sV3RT",
        "outputId": "d6c0fefd-c2a7-49d9-ac17-1cb876ad9012",
        "colab": {
          "base_uri": "https://localhost:8080/"
        }
      },
      "outputs": [
        {
          "output_type": "stream",
          "name": "stdout",
          "text": [
            "24.0\n"
          ]
        }
      ],
      "source": [
        "def average_temperature(temperatures_celsius, unit=\"C\"):\n",
        "    if not temperatures_celsius:\n",
        "        return None  # Handle empty list\n",
        "\n",
        "    avg_celsius = sum(temperatures_celsius) / len(temperatures_celsius)\n",
        "\n",
        "    if unit.upper() == \"F\":\n",
        "        return round(avg_celsius * 9/5 + 32, 2)\n",
        "    else:\n",
        "        return round(avg_celsius, 2)\n",
        "\n",
        "temps = [20, 22, 24, 26, 28]\n",
        "unit = 'Fahrenheit'\n",
        "\n",
        "average_temp = average_temperature(temps, unit)\n",
        "print(average_temp)  # Output: 73.4 (in Fahrenheit)"
      ],
      "id": "V8aP5X4sV3RT"
    },
    {
      "cell_type": "markdown",
      "metadata": {
        "id": "nEOXkuBVV3RT"
      },
      "source": [
        "### 3. Write a Python function that finds the longest word in a given string.\n",
        "#### Tip: Split the input sentence into words using the split() method.\n",
        "#### Initialize an empty string longest_word, then iterate through the words and update longest_word if a longer word is found."
      ],
      "id": "nEOXkuBVV3RT"
    },
    {
      "cell_type": "code",
      "execution_count": null,
      "metadata": {
        "id": "jHAk1znuV3RT"
      },
      "outputs": [],
      "source": [
        "def find_longest_word(sentence):\n",
        "    words = sentence.split()\n",
        "    longest_word = ''\n",
        "    for word in words:\n",
        "        # Update longest_word"
      ],
      "id": "jHAk1znuV3RT"
    },
    {
      "cell_type": "code",
      "execution_count": null,
      "metadata": {
        "id": "wwfIzJIfV3RT",
        "outputId": "e1529aa9-52f2-4bb1-85ed-74509e33abed"
      },
      "outputs": [
        {
          "name": "stdout",
          "output_type": "stream",
          "text": [
            "quick\n"
          ]
        }
      ],
      "source": [
        "sentence = \"The quick brown fox jumps over the lazy dog\"\n",
        "\n",
        "longest_word = find_longest_word(sentence)\n",
        "print(longest_word)  # Output: \"jumps\""
      ],
      "id": "wwfIzJIfV3RT"
    },
    {
      "cell_type": "code",
      "execution_count": 10,
      "metadata": {
        "id": "7CoRGcBwV3RU",
        "outputId": "74f99ca5-ce3b-42a8-e891-0da5348fae1b",
        "colab": {
          "base_uri": "https://localhost:8080/"
        }
      },
      "outputs": [
        {
          "output_type": "stream",
          "name": "stdout",
          "text": [
            "The\n"
          ]
        }
      ],
      "source": [
        "def find_longest_word(sentence):\n",
        "    words = sentence.split()\n",
        "    longest_word = ''\n",
        "    for word in words:\n",
        "        if len(word) > len(longest_word):\n",
        "            longest_word = word\n",
        "            return longest_word\n",
        "\n",
        "sentence = \"The quick brown fox jumps over the lazy dog\"\n",
        "\n",
        "longest_word = find_longest_word(sentence)\n",
        "print(longest_word)  # Output: \"jumps\""
      ],
      "id": "7CoRGcBwV3RU"
    },
    {
      "cell_type": "markdown",
      "metadata": {
        "id": "q3JFfJJaV3RU"
      },
      "source": [
        "### 4. Problem: Write a Python function that takes a list of numbers as input and returns the sum of all even numbers in the list.\n",
        "#### Tip: Initialize a variable even_sum, then iterate through the list of numbers. If a number is even (i.e., its remainder when divided by 2 is 0), add it to even_sum."
      ],
      "id": "q3JFfJJaV3RU"
    },
    {
      "cell_type": "code",
      "execution_count": null,
      "metadata": {
        "id": "m9LcpSeyV3RU"
      },
      "outputs": [],
      "source": [
        "def sum_even_numbers(numbers):\n",
        "    even_sum = 0\n",
        "    for number in numbers:\n",
        "        # Add the even number to even_sum"
      ],
      "id": "m9LcpSeyV3RU"
    },
    {
      "cell_type": "code",
      "execution_count": null,
      "metadata": {
        "id": "Em1tVkVxV3RU",
        "outputId": "9a9561cc-555c-45b3-ec74-a5982404af8e"
      },
      "outputs": [
        {
          "name": "stdout",
          "output_type": "stream",
          "text": [
            "30\n"
          ]
        }
      ],
      "source": [
        "numbers = [1, 2, 3, 4, 5, 6, 7, 8, 9, 10]\n",
        "\n",
        "even_sum = sum_even_numbers(numbers)\n",
        "print(even_sum)  # Output: 30"
      ],
      "id": "Em1tVkVxV3RU"
    },
    {
      "cell_type": "code",
      "execution_count": 11,
      "metadata": {
        "id": "URXrsJKcV3RU",
        "outputId": "113c90b3-c6c0-4600-e248-2eb23a7d488d",
        "colab": {
          "base_uri": "https://localhost:8080/"
        }
      },
      "outputs": [
        {
          "output_type": "stream",
          "name": "stdout",
          "text": [
            "2\n"
          ]
        }
      ],
      "source": [
        "def sum_even_numbers(numbers):\n",
        "    even_sum = 0\n",
        "    for number in numbers:\n",
        "        if number % 2 == 0:\n",
        "            even_sum += number\n",
        "            return even_sum\n",
        "\n",
        "numbers = [1, 2, 3, 4, 5, 6, 7, 8, 9, 10]\n",
        "\n",
        "even_sum = sum_even_numbers(numbers)\n",
        "print(even_sum)  # Output: 30"
      ],
      "id": "URXrsJKcV3RU"
    },
    {
      "cell_type": "markdown",
      "metadata": {
        "id": "GE6Ujwm-V3RU"
      },
      "source": [
        "### 5. Write a Python function that takes a list of strings and returns a dictionary with the frequency of each unique string.\n",
        "#### Tip: Create an empty dictionary called frequency.\n",
        "#### Iterate through the input list of strings, and for each string, either initialize its count in the dictionary or increment it if it already exists."
      ],
      "id": "GE6Ujwm-V3RU"
    },
    {
      "cell_type": "code",
      "execution_count": null,
      "metadata": {
        "id": "4zZsNXAcV3RU"
      },
      "outputs": [],
      "source": [
        "def count_string_frequency(strings):\n",
        "    frequency = {}\n",
        "    for string in strings:\n",
        "        if string not in frequency:\n",
        "            # Initialize the count for the string in the dictionary\n",
        "        else:\n",
        "            # Increment the count for the string in the dictionary"
      ],
      "id": "4zZsNXAcV3RU"
    },
    {
      "cell_type": "code",
      "source": [
        "def count_string_frequency(strings):\n",
        "   frequency ={}\n",
        "\n",
        ""
      ],
      "metadata": {
        "id": "NSu5X_ozabTz"
      },
      "id": "NSu5X_ozabTz",
      "execution_count": null,
      "outputs": []
    },
    {
      "cell_type": "code",
      "execution_count": null,
      "metadata": {
        "id": "xaUCLLgmV3RU",
        "outputId": "41c9bc19-c0fd-4d97-cfa8-732eed47de32"
      },
      "outputs": [
        {
          "name": "stdout",
          "output_type": "stream",
          "text": [
            "{'apple': 4, 'banana': 2, 'orange': 2}\n"
          ]
        }
      ],
      "source": [
        "strings = [\"apple\", \"banana\", \"apple\", \"orange\", \"banana\", \"apple\", \"orange\", \"apple\"]\n",
        "\n",
        "frequency = count_string_frequency(strings)\n",
        "print(frequency)  # Output: {'apple': 4, 'banana': 2, 'orange': 2}"
      ],
      "id": "xaUCLLgmV3RU"
    }
  ],
  "metadata": {
    "kernelspec": {
      "display_name": "Python 3",
      "language": "python",
      "name": "python3"
    },
    "language_info": {
      "codemirror_mode": {
        "name": "ipython",
        "version": 3
      },
      "file_extension": ".py",
      "mimetype": "text/x-python",
      "name": "python",
      "nbconvert_exporter": "python",
      "pygments_lexer": "ipython3",
      "version": "3.8.5"
    },
    "colab": {
      "provenance": []
    }
  },
  "nbformat": 4,
  "nbformat_minor": 5
}